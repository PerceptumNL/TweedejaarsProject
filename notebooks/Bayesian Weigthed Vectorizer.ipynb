{
 "metadata": {
  "name": "",
  "signature": "sha256:5acbca29a713494cb4b8e891c99f844282ee8b18ee7a31d9211b3b93825b8ef2"
 },
 "nbformat": 3,
 "nbformat_minor": 0,
 "worksheets": [
  {
   "cells": [
    {
     "cell_type": "heading",
     "level": 1,
     "metadata": {},
     "source": [
      "Bayesian Weighted Vectorizer"
     ]
    },
    {
     "cell_type": "markdown",
     "metadata": {},
     "source": [
      "\\begin{align}\n",
      "    T &= \\text{Set of all tags} \\\\\n",
      "    T(d) &= \\text{Set of all tags for document d} \\\\ \n",
      "    P(d) &= \\text{Probability two documents are linked} \\\\\n",
      "    P(t) &= \\text{Probability that a tag $t \\in T$ appears in two documents} \\\\\n",
      "    P(d\\mid t) &= \\frac{P(t\\mid d)\\overbrace{P(d)}^\\text{uniform}}{P(t)}\\\\\n",
      "    \\end{align}"
     ]
    },
    {
     "cell_type": "markdown",
     "metadata": {},
     "source": [
      "$P(d)$ is uniform so we don't have to compute this. Therefore we will compute $P(d\\mid t)$ as follows\n",
      "\n",
      "\\begin{align}\n",
      "P(d\\mid t) = \\frac{P(t\\mid d)}{P(t)}\n",
      "\\end{align}\n",
      "\n",
      "In other words: the probability of two document being linked given the fact that they both are tagged $t$.\n",
      "\n",
      "\\begin{align}\n",
      "    P(t) &= \\frac{{|D_t| \\choose 2}}{{|D| \\choose 2}}\n",
      "         = \\frac{|D_t| \\times (|D_t|-1)}{|D| \\times (|D|-1)}\n",
      "         \\approx \\frac{|D_t|^2}{|D|^2}\n",
      "         = \\left(\\frac{|D_t|}{|D|}\\right)^2 \\\\\n",
      "    P(t\\mid d) &=  \\frac{|L_t|}{|L|}\n",
      "\\end{align}\n",
      "\n",
      "Where $L$ is the set of all links and $L_t = \\{(d_1, d_2) \\mid (d_1, d_2) \\in L \\land t \\in T(d_1) \\cap T(d_2)\\}$"
     ]
    },
    {
     "cell_type": "code",
     "collapsed": false,
     "input": [],
     "language": "python",
     "metadata": {},
     "outputs": []
    },
    {
     "cell_type": "code",
     "collapsed": false,
     "input": [],
     "language": "python",
     "metadata": {},
     "outputs": []
    }
   ],
   "metadata": {}
  }
 ]
}