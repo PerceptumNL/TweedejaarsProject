{
 "metadata": {
  "name": "",
  "signature": "sha256:8e0763584856506e402aca5c5c527dd1fabd7d50ce1bb040b5e5d6074097a8ec"
 },
 "nbformat": 3,
 "nbformat_minor": 0,
 "worksheets": [
  {
   "cells": [
    {
     "cell_type": "markdown",
     "metadata": {},
     "source": [
      "# Similarity checker\n",
      "\n",
      "To compare different vectorizer, this program kan create a file with similarities and differences between output files. \n",
      "\n",
      "Usage: get_differences([array of filenames], filename of results). The similarities between the files in the array are saved to the resultfile, and can be viewed using sim_viewer.htmls. Note that if more than two files are given, the 'similar' may also contain files that are only similar in two files (thus not in all). I therefore recommend to only compare two files at once. "
     ]
    },
    {
     "cell_type": "code",
     "collapsed": false,
     "input": [
      "import json\n",
      "\n",
      "def __edit_similarity(fileList):\n",
      "    # Loop through all but first (= similarity) and last (= already captured) file\n",
      "    fileList[0]['links'] = {}\n",
      "    \n",
      "    i = 1\n",
      "    for file1 in fileList[1:(len(fileList) - 1)]:\n",
      "        if file1 == False:\n",
      "            continue\n",
      "        for file2 in fileList[i + 1:len(fileList)]:\n",
      "            if file2 == False:\n",
      "                continue\n",
      "            for link1_id in file1['links']:\n",
      "                if __checkSimilarity(file1['links'].get(link1_id), file2['links'].get(link1_id)):\n",
      "                    fileList[0]['links'][link1_id] = file1['links'][link1_id]\n",
      "        i+= 1\n",
      "        \n",
      "    # Remove similar links from other documents        \n",
      "    for link in fileList[0]['links']:\n",
      "        for doc in fileList[1:len(fileList)]:\n",
      "            if doc['links'].has_key(link):\n",
      "                doc['links'].pop(link, None)\n",
      "                \n",
      "    return fileList\n",
      "\n",
      "def __checkSimilarity(link1, link2):\n",
      "    if link1 is None or link2 is None:\n",
      "        return False\n",
      "    if link1.get('correct') == link2.get('correct') and \\\n",
      "       link1.get('not_recalled') == link2.get('not_recalled'):\n",
      "        return True\n",
      "    return False\n",
      "                \n",
      "def get_differences(filenames, savefile):\n",
      "    datafiles = []\n",
      "    for nfile in filenames:\n",
      "        datafiles.append(json.loads(open(nfile).read()))\n",
      "\n",
      "    result = {}\n",
      "    for docs in datafiles:\n",
      "        for doc_id in docs:\n",
      "            doc = docs[doc_id]\n",
      "            if doc == False:\n",
      "                continue\n",
      "            if(result.has_key(doc_id)):\n",
      "                result[doc_id].append(doc)\n",
      "                result[doc_id] = __edit_similarity(result[doc_id])\n",
      "            else:\n",
      "                same = {}\n",
      "                result[doc_id] = [same, doc]\n",
      "    nfile = open(savefile, 'w')\n",
      "    nfile.write(json.dumps(result))\n",
      "    nfile.close()\n",
      "    print('saved')\n",
      "    return result\n",
      "\n"
     ],
     "language": "python",
     "metadata": {},
     "outputs": [],
     "prompt_number": 17
    },
    {
     "cell_type": "code",
     "collapsed": false,
     "input": [
      "result =  get_differences(['../data/final_analysis/simple_tag_similarity_cosine.json', \\\n",
      "                           '../data/final_analysis/glossaries_of_tags_cosine.json'], \\\n",
      "                          '../data/final_analysis/similarity_simple_tag_similarity_and_glossaries_of_tags.json')"
     ],
     "language": "python",
     "metadata": {},
     "outputs": [
      {
       "output_type": "stream",
       "stream": "stdout",
       "text": [
        "saved\n"
       ]
      }
     ],
     "prompt_number": 18
    },
    {
     "cell_type": "code",
     "collapsed": false,
     "input": [
      "result =  get_differences(['../data/final/textvectorizer_cosine_False_False_False_True.json', \\\n",
      "                           '../data/final/weighted_text_vectorizer_cosine_False_False_False_True.json',], \\\n",
      "                          '../data/final/sim_text_weighted_text_cosine.json')"
     ],
     "language": "python",
     "metadata": {},
     "outputs": [
      {
       "output_type": "stream",
       "stream": "stdout",
       "text": [
        "saved\n"
       ]
      }
     ],
     "prompt_number": 19
    },
    {
     "cell_type": "code",
     "collapsed": false,
     "input": [],
     "language": "python",
     "metadata": {},
     "outputs": [],
     "prompt_number": 19
    },
    {
     "cell_type": "code",
     "collapsed": false,
     "input": [],
     "language": "python",
     "metadata": {},
     "outputs": [],
     "prompt_number": 19
    }
   ],
   "metadata": {}
  }
 ]
}