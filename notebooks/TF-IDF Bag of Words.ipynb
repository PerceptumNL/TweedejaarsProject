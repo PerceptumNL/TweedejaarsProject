{
 "metadata": {
  "name": "",
  "signature": "sha256:4e5f473dfecbee7626212993f1eb0387754d4d5e8d2af4204eff254025053565"
 },
 "nbformat": 3,
 "nbformat_minor": 0,
 "worksheets": [
  {
   "cells": [
    {
     "cell_type": "markdown",
     "metadata": {},
     "source": [
      "#TF-IDF Bag of Words\n",
      "\n",
      "To create the TF-IDF (Term Frequency, Inverse Document Frequency) bag of words we use the TfidVectorizer from scikit learn. This enables us to easily create the bag of words. First (for testing) we define a set of 'current' documents and a new document."
     ]
    },
    {
     "cell_type": "code",
     "collapsed": false,
     "input": [
      "docs = [\n",
      "    \"Het is een nacht die je normaal alleen in een film ziet\",\n",
      "    \"Het is een dag waarvan ik dacht ik dat ik hem\",\n",
      "    \"nooit beleven zou\",\n",
      "    \"maar vannacht beleef ik hem, met jou!\",\n",
      "    \"Deze zou het niet moeten doen denk ik\",\n",
      "]\n",
      "\n",
      "new_doc = \"Het is beleven dacht ik\""
     ],
     "language": "python",
     "metadata": {},
     "outputs": [],
     "prompt_number": 79
    },
    {
     "cell_type": "markdown",
     "metadata": {},
     "source": [
      "With these 'documents' we can setup the vectorizer and fit it to the set of documents. This lets the vectorizer learn a conversion law from the documents to array data."
     ]
    },
    {
     "cell_type": "code",
     "collapsed": false,
     "input": [
      "from sklearn.feature_extraction.text import TfidfVectorizer\n",
      "import numpy as np\n",
      "\n",
      "vectorizer = TfidfVectorizer(use_idf=True)\n",
      "vectorizer.fit(docs)\n",
      "\n",
      "# quick test\n",
      "doc_tmp = 'Dit is een nacht waardoor ik nooit dacht'\n",
      "bag_of_words = vectorizer.transform([doc_tmp])\n",
      "print(bag_of_words)\n"
     ],
     "language": "python",
     "metadata": {},
     "outputs": [
      {
       "output_type": "stream",
       "stream": "stdout",
       "text": [
        "  (0, 24)\t0.458814764279\n",
        "  (0, 22)\t0.458814764279\n",
        "  (0, 16)\t0.370168862888\n",
        "  (0, 14)\t0.307273594919\n",
        "  (0, 10)\t0.370168862888\n",
        "  (0, 3)\t0.458814764279\n"
       ]
      }
     ],
     "prompt_number": 80
    },
    {
     "cell_type": "markdown",
     "metadata": {
      "slideshow": {
       "slide_type": "-"
      }
     },
     "source": [
      "The output above is a sparse matrix repsentation of the bag of words that was created for the _doc_tmp_ we specified. Every line can be read as:\n",
      "    \n",
      "    (#document, word index) IDF\n",
      "    \n",
      "A complete bag of words is presented in the following block. Here every word in the bag of words representation gets a weight assigned based on the number of times the word occures in the document and in how many documents the words occures."
     ]
    },
    {
     "cell_type": "code",
     "collapsed": false,
     "input": [
      "print(bag_of_words.toarray())"
     ],
     "language": "python",
     "metadata": {},
     "outputs": [
      {
       "output_type": "stream",
       "stream": "stdout",
       "text": [
        "[[ 0.          0.          0.          0.45881476  0.          0.          0.\n",
        "   0.          0.          0.          0.37016886  0.          0.          0.\n",
        "   0.30727359  0.          0.37016886  0.          0.          0.          0.\n",
        "   0.          0.45881476  0.          0.45881476  0.          0.          0.\n",
        "   0.          0.        ]]\n"
       ]
      }
     ],
     "prompt_number": 81
    },
    {
     "cell_type": "markdown",
     "metadata": {},
     "source": [
      "## Generate BOW for all documents\n",
      "This bag of words representation can easily be generated for all know documents and new documents"
     ]
    },
    {
     "cell_type": "code",
     "collapsed": false,
     "input": [
      "docs_bow = vectorizer.transform(docs)\n",
      "new_doc_bow = vectorizer.transform([new_doc])\n",
      "docs_bow.toarray()"
     ],
     "language": "python",
     "metadata": {},
     "outputs": [
      {
       "metadata": {},
       "output_type": "pyout",
       "prompt_number": 82,
       "text": [
        "array([[ 0.29231402,  0.        ,  0.        ,  0.        ,  0.        ,\n",
        "         0.        ,  0.        ,  0.        ,  0.29231402,  0.        ,\n",
        "         0.47167423,  0.29231402,  0.        ,  0.19576611,  0.        ,\n",
        "         0.29231402,  0.23583711,  0.29231402,  0.        ,  0.        ,\n",
        "         0.        ,  0.        ,  0.29231402,  0.        ,  0.        ,\n",
        "         0.29231402,  0.        ,  0.        ,  0.29231402,  0.        ],\n",
        "       [ 0.        ,  0.        ,  0.        ,  0.30952358,  0.30952358,\n",
        "         0.30952358,  0.        ,  0.        ,  0.        ,  0.        ,\n",
        "         0.24972168,  0.        ,  0.24972168,  0.20729155,  0.62187465,\n",
        "         0.        ,  0.24972168,  0.        ,  0.        ,  0.        ,\n",
        "         0.        ,  0.        ,  0.        ,  0.        ,  0.        ,\n",
        "         0.        ,  0.        ,  0.30952358,  0.        ,  0.        ],\n",
        "       [ 0.        ,  0.        ,  0.61418897,  0.        ,  0.        ,\n",
        "         0.        ,  0.        ,  0.        ,  0.        ,  0.        ,\n",
        "         0.        ,  0.        ,  0.        ,  0.        ,  0.        ,\n",
        "         0.        ,  0.        ,  0.        ,  0.        ,  0.        ,\n",
        "         0.        ,  0.        ,  0.        ,  0.        ,  0.61418897,\n",
        "         0.        ,  0.        ,  0.        ,  0.        ,  0.49552379],\n",
        "       [ 0.        ,  0.40490709,  0.        ,  0.        ,  0.        ,\n",
        "         0.        ,  0.        ,  0.        ,  0.        ,  0.        ,\n",
        "         0.        ,  0.        ,  0.32667649,  0.        ,  0.271171  ,\n",
        "         0.        ,  0.        ,  0.        ,  0.40490709,  0.40490709,\n",
        "         0.40490709,  0.        ,  0.        ,  0.        ,  0.        ,\n",
        "         0.        ,  0.40490709,  0.        ,  0.        ,  0.        ],\n",
        "       [ 0.        ,  0.        ,  0.        ,  0.        ,  0.        ,\n",
        "         0.        ,  0.39079369,  0.39079369,  0.        ,  0.39079369,\n",
        "         0.        ,  0.        ,  0.        ,  0.26171909,  0.26171909,\n",
        "         0.        ,  0.        ,  0.        ,  0.        ,  0.        ,\n",
        "         0.        ,  0.39079369,  0.        ,  0.39079369,  0.        ,\n",
        "         0.        ,  0.        ,  0.        ,  0.        ,  0.31528989]])"
       ]
      }
     ],
     "prompt_number": 82
    },
    {
     "cell_type": "markdown",
     "metadata": {},
     "source": [
      "## Nearest Neighbor\n",
      "\n",
      "The following code takes the bag of words descriptors of documents and finds the nearest neighbors."
     ]
    },
    {
     "cell_type": "code",
     "collapsed": false,
     "input": [
      "from sklearn.neighbors import NearestNeighbors\n",
      "\n",
      "nn = NearestNeighbors()\n",
      "nn.fit(docs_bow)\n",
      "\n",
      "dist, ind = nn.kneighbors(new_doc_bow)\n",
      "dist, ind"
     ],
     "language": "python",
     "metadata": {},
     "outputs": [
      {
       "metadata": {},
       "output_type": "pyout",
       "prompt_number": 87,
       "text": [
        "(array([[ 0.93156092,  1.16097191,  1.27584643,  1.28792892,  1.34431054]]),\n",
        " array([[1, 2, 4, 0, 3]]))"
       ]
      }
     ],
     "prompt_number": 87
    }
   ],
   "metadata": {}
  }
 ]
}