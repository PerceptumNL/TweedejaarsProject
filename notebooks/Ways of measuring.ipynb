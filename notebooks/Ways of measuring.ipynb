{
 "metadata": {
  "name": "",
  "signature": "sha256:f28edaea1827d350fce479f4ea8d696d671938167fdd3fae583f65a47a5abc01"
 },
 "nbformat": 3,
 "nbformat_minor": 0,
 "worksheets": [
  {
   "cells": [
    {
     "cell_type": "markdown",
     "metadata": {},
     "source": [
      "# Ways to evaluate\n",
      "\n",
      "##Compare with naive methods\n",
      "* Hand-tagged links between documents\n",
      "* Overlap in tags \n",
      "* Text-based: with a straight forward bag-of words approach\n",
      "\n",
      "Can be measured as follows:\n",
      "* Qualitatively: just looking at the differences\n",
      "* Quantitatively:\n",
      "     * Percentage overlap\n",
      "     * Other overlap measures?\n",
      "\n",
      "##Expert-based\n",
      "* Qualitatively: we first examine the differences ourselves and look for several special cases of correctness/incorrectness that occur often. This set will be presented to the expert with the question if these are correct or incorrect. The correct ones are thus also shown!"
     ]
    },
    {
     "cell_type": "code",
     "collapsed": false,
     "input": [],
     "language": "python",
     "metadata": {},
     "outputs": []
    }
   ],
   "metadata": {}
  }
 ]
}