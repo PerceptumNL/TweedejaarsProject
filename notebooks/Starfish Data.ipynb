{
 "metadata": {
  "name": "",
  "signature": "sha256:b6303af073685826b8476495516dd029bf327bac40d50c4612301b1bceacb6b8"
 },
 "nbformat": 3,
 "nbformat_minor": 0,
 "worksheets": [
  {
   "cells": [
    {
     "cell_type": "markdown",
     "metadata": {},
     "source": [
      "#Data export 2 june\n",
      "\n",
      "This notebook gives a short overview of the data export of june 2nd. In total there are 171 tags and 181 items"
     ]
    },
    {
     "cell_type": "code",
     "collapsed": false,
     "input": [
      "from __future__ import with_statement\n",
      "import cPickle as pickle\n",
      "\n",
      "with open('../data/export_starfish_tjp.pickle') as f:\n",
      "    data = pickle.load(f)\n",
      "\n",
      "print(\"Keys available: {0}\".format(data.keys()))\n",
      "print(\"number of tags: {0}\".format(len(data['tags'])))\n",
      "print(\"number of items: {0}\".format(len(data['items'])))"
     ],
     "language": "python",
     "metadata": {},
     "outputs": [
      {
       "output_type": "stream",
       "stream": "stdout",
       "text": [
        "Keys available: ['items', 'tags']\n",
        "number of tags: 171\n",
        "number of items: 181\n"
       ]
      }
     ],
     "prompt_number": 25
    },
    {
     "cell_type": "code",
     "collapsed": false,
     "input": [
      "print(\"\\nAvailable tags: \\n{0}\".format(', '.join(data['tags'].keys())))"
     ],
     "language": "python",
     "metadata": {},
     "outputs": [
      {
       "output_type": "stream",
       "stream": "stdout",
       "text": [
        "\n",
        "Available tags: \n",
        "Pre-serviceTeacherEducation, VideoConferencing, Clickers, OnlineSupport, RemedierendWiskundeOnderwijs, Zappers, IncompleteHand-outs, CulturalDiversity, Webconference, ChemistryEducation, PedagogicalTheory, Blackboard, JournalistTask, StudentCentredTeaching, Voting-cloud, ChemistryQualityEuroLabels, Stemsysteem, AudiencePacedFeedback, GroupWork, Webconferencing, LearningAnalytics, EuropeanChemistryThematicNetwork, NieuweOnderwijsconcepten, Role-play, Think-pair-share, FlippedClassroom, LectureDemonstrations, Wiskunde, Voting, Bio-organicChemistry, E-learning, CloudServices, PlagiatControle, GameLearning, Methaphors, OIEAR, LearningOutcomes, KennisClips, FeedbackTools, iPad, videocolleges, Stemkastjes, SupportingLearners, AcademicStaffDevelopment, Eurobachelor, TeachingWithMethaphors, ChemicalEngineering, Self-directedLearning, Natuurwetenschappen, Euromaster, OnlineSamenwerking, VirtualConferencing, DigitaleLeeromgeving, Questioning, Eurolecturer, ForensicScience, PhysicalChemistry, TTL, SOWISO, FormatieveToetsen, MATHtaxonomy, webcolleges, MathematicsForOthers, weblectures, BloomTaxonomy, ResearchBasedLearning, Chemistry, Tentamenlade, ClassroomCommunicationSystems, Psychobiology, AnalyticalChemistry, Ephorus, Demonstrations, EC2E2N, OrganicChemistry, OnlineVotingSystem, PeerFeedbackTools, QuestionMarkPerception, Camtasia, Shakespeak, FormativeAssessment, Peer-feedback, Lecturnity, AfstandOnderwijsEnZelfstandigLeren, Analogies, VirtualLaboratory, LaboratoryWork, QualityAssurance, StemmenInHetOnderwijs, PersonalResponseSystems, RemedialTeaching, InteractiveLecturing, TeachingByQuestioning, MathematicsLearningEnvironment, ProjectBasedLearning, TurnitIn, QMP, BKO, PracticalWork, ToetsGestuurdLeren, ProfessionalDevelopment, LifeSciences, ToetsenEnToetsgestuurdLeren, AcademischeVaardighedenPortfolio, CurriculumDevelopment, DigitalAssessmentTools, LectureBreaks, AcademicSkills, Science, InquiryBasedLearning, LearningObjectives, StudentPortfolio, AudienceResponseSystems, WiskundeToetstools, Peer-instruction, Voting-machines, Peer-assessment, Mathematics, Eurodoctorate, WebEx, TurningPoint, ContextBasedLearning, OralPresentationAcademicSkill, KnowledgeClips, CollaborativeLearning, GoogleDocs, TeachersBeliefs, LearningByDoing, Open-endedExperiments, ChemistryQualityLabels, ProblemBasedLearning, SURFconext, ScreenCapturing, PlagiarismControl, OnlineClassrooms, LearningRoleGame, StudiocourseModel, ScreenRecording, MathematicsTestTool, Assessment, LabWork, StudentResponseSystems, Docentprofessionalisering, TeachingWithAnalogies, Themabijeenkomst, MapleTA, TPACK, InteractiveTeachingMehodology, TestBasedLearning, ECTNA, ScienceTeacherEducation, InformationStudies, OnlineSamenwerkingtools, iThenticate, JournalistMethod, CooperativeLearning, ActiveLearning, LearningRecordStore, Stemsystemen, FlippedLectures, EChemTest, LinguisticHeterogeneity, ElectronicVotingSystems, ECTN, Pencasts, Inclusion, LearningOnStations, Low-costExperiments, Portfolio, LearningAnalyticsDashboard, CloudVotingSystems\n"
       ]
      }
     ],
     "prompt_number": 27
    },
    {
     "cell_type": "markdown",
     "metadata": {},
     "source": [
      "## Tags with glossary\n",
      "The solution proposed in the project proposal (which we decided to implement as baseline) requires glossaries of tags. In the current export there are only 40 tags with a glossary (23.4% of all tags)."
     ]
    },
    {
     "cell_type": "code",
     "collapsed": false,
     "input": [
      "with_glossary = dict(filter(lambda x: x[1]['glossary'] is not None, data['tags'].items()))\n",
      "len(with_glossary), len(with_glossary)/float(len(data['tags']))"
     ],
     "language": "python",
     "metadata": {},
     "outputs": [
      {
       "metadata": {},
       "output_type": "pyout",
       "prompt_number": 57,
       "text": [
        "(40, 0.23391812865497075)"
       ]
      }
     ],
     "prompt_number": 57
    },
    {
     "cell_type": "code",
     "collapsed": false,
     "input": [
      "print(\"The tags that have a glossary are:\\n{0}\".format(', '.join(with_glossary.keys())))"
     ],
     "language": "python",
     "metadata": {},
     "outputs": [
      {
       "output_type": "stream",
       "stream": "stdout",
       "text": [
        "The tags that have a glossary are:\n",
        "VideoConferencing, AfstandOnderwijsEnZelfstandigLeren, Stemkastjes, Low-costExperiments, Open-endedExperiments, SURFconext, IncompleteHand-outs, PlagiarismControl, StudiocourseModel, StemmenInHetOnderwijs, InteractiveLecturing, StudentCentredTeaching, JournalistMethod, TPACK, BKO, InteractiveTeachingMehodology, Questioning, Eurolecturer, SOWISO, Peer-instruction, LectureBreaks, MATHtaxonomy, LearningAnalytics, Role-play, Think-pair-share, Lecturnity, weblectures, BloomTaxonomy, EChemTest, ECTN, ToetsenEnToetsgestuurdLeren, Tentamenlade, FlippedClassroom, Peer-assessment, Ephorus, OralPresentationAcademicSkill, LearningOnStations, Shakespeak, LearningOutcomes, CloudVotingSystems\n"
       ]
      }
     ],
     "prompt_number": 61
    },
    {
     "cell_type": "markdown",
     "metadata": {},
     "source": [
      "## Structure of objects\n",
      "The following keys are available on a tag object:"
     ]
    },
    {
     "cell_type": "code",
     "collapsed": false,
     "input": [
      "data['tags'].values()[0].keys()"
     ],
     "language": "python",
     "metadata": {},
     "outputs": [
      {
       "metadata": {},
       "output_type": "pyout",
       "prompt_number": 51,
       "text": [
        "['glossary', 'type', 'alias_of', 'url']"
       ]
      }
     ],
     "prompt_number": 51
    },
    {
     "cell_type": "markdown",
     "metadata": {},
     "source": [
      "And for an item object these are:"
     ]
    },
    {
     "cell_type": "code",
     "collapsed": false,
     "input": [
      "data['items'].values()[0].keys()"
     ],
     "language": "python",
     "metadata": {},
     "outputs": [
      {
       "metadata": {},
       "output_type": "pyout",
       "prompt_number": 63,
       "text": [
        "['about', 'name', 'links', 'tags', 'headline', 'type']"
       ]
      }
     ],
     "prompt_number": 63
    },
    {
     "cell_type": "markdown",
     "metadata": {},
     "source": [
      "## Example Glossary"
     ]
    },
    {
     "cell_type": "code",
     "collapsed": false,
     "input": [
      "data['items'][data['tags']['LearningAnalytics']['glossary']]"
     ],
     "language": "python",
     "metadata": {},
     "outputs": [
      {
       "metadata": {},
       "output_type": "pyout",
       "prompt_number": 69,
       "text": [
        "{'author': 14L,\n",
        " 'links': [11L, 14L],\n",
        " 'tags': [u'LearningAnalytics'],\n",
        " 'text': u'<p>SoLAR, the international community for research in this field, defines learning analytics as the &#x2018;measurement, collection, analysis and reporting of data about learners and their contexts, for purposes of understanding and optimizing learning and the environments in which it occurs&#x2019;. The community shares the view that this involves a cyclical process, as described in (Clow, 2012). This cyclical process can be compared to a lecturer posing a question in order to take a didactic decision on the basis of the analysed answer. As the scale of courses expands, it is proving difficult for lecturers to optimally improve their education by means of this cycle. At the same time, a growing portion of the learning process is manifesting itself in the form of digital data. Learning analytics uses this digital data to apply the same cycle on a large scale in support of the learning process. Learning analytics centres around the support of students and lecturers. Related fields apply some of the same data and technologies used in learning analytics, while focusing on different questions (Chatti, 2012). Whereas learning analytics focuses on supporting the learning process, educational data mining is more oriented towards the technological potential for extracting value from large quantities of data (Ferguson, 2012). Finally, academic analytics applies techniques from the field of business intelligence to data at institutional level in order to improve study yields (Long, 2011).&nbsp;</p>\\r\\n\\r\\n<h3>References</h3>\\r\\n\\r\\n\\r\\n<ul>\\r\\n\\r\\n\\t<li><span style=\"line-height: 1.5em;\">Chatti, M. A., Dyckhoff, A. L., Schroeder, U., &amp; Th&#x00fc;s, H. (2012). A reference model for learning analytics. International Journal of Technology Enhanced Learning, 4(5), 318-331.</span></li>\\r\\n\\r\\n\\t<li><span style=\"line-height: 1.5em;\">Clow, Doug (2012). The learning analytics cycle: closing the loop effectively. In: LAK12: 2nd International Conference on Learning Analytics &amp; Knowledge, 29 April - 2 May 2012, Vancouver, BC.</span></li>\\r\\n\\r\\n\\t<li><span style=\"line-height: 1.5em;\">Ferguson, Rebecca (2012). Learning analytics: drivers, developments and challenges. International Journal of Technology Enhanced Learning, 4(5/6) pp. 304-317.</span></li>\\r\\n\\r\\n\\t<li><span style=\"line-height: 1.5em;\">Long, P., &amp; Siemens, G. (2011). Penetrating the fog: Analytics in learning and education. Educause Review, 46(5), 30-32.</span></li></ul>\\r\\n',\n",
        " 'title': u'Learning Analytics',\n",
        " 'type': 'Glossary'}"
       ]
      }
     ],
     "prompt_number": 69
    }
   ],
   "metadata": {}
  }
 ]
}