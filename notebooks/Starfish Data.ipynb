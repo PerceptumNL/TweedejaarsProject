{
 "metadata": {
  "name": "",
  "signature": "sha256:f6923508749b72a58a19aa1b31e975542c97ab6821fe272943e75c0a392ca35b"
 },
 "nbformat": 3,
 "nbformat_minor": 0,
 "worksheets": [
  {
   "cells": [
    {
     "cell_type": "markdown",
     "metadata": {},
     "source": [
      "#Data export 2 june\n",
      "\n",
      "This notebook gives a short overview of the data export of june 2nd. In total there are 171 tags and 181 items"
     ]
    },
    {
     "cell_type": "code",
     "collapsed": false,
     "input": [
      "from __future__ import with_statement\n",
      "import cPickle as pickle\n",
      "\n",
      "with open('../data/export_starfish_tjp_12jun.pickle') as f:\n",
      "    data = pickle.load(f)\n",
      "\n",
      "print(\"Keys available: {0}\".format(data.keys()))\n",
      "print(\"number of tags: {0}\".format(len(data['tags'])))\n",
      "print(\"number of items: {0}\".format(len(data['items'])))"
     ],
     "language": "python",
     "metadata": {},
     "outputs": [
      {
       "output_type": "stream",
       "stream": "stdout",
       "text": [
        "Keys available: ['items', 'tags']\n",
        "number of tags: 210\n",
        "number of items: 240\n"
       ]
      }
     ],
     "prompt_number": 2
    },
    {
     "cell_type": "code",
     "collapsed": false,
     "input": [
      "print(\"\\nAvailable tags: \\n{0}\".format(', '.join(data['tags'].keys())))"
     ],
     "language": "python",
     "metadata": {},
     "outputs": [
      {
       "output_type": "stream",
       "stream": "stdout",
       "text": [
        "\n",
        "Available tags: \n",
        "Pre-serviceTeacherEducation, VideoConferencing, CriteriaReferencedAssessment, RemedierendWiskundeOnderwijs, SecondarySchool, AnalyticalChemistry, Zappers, IncompleteHand-outs, CulturalDiversity, Clickers, Webconference, ChemistryEducation, PedagogicalTheory, Internship, Blackboard, ExperientalLearning, ScienceEducation, JournalistTask, StudentCentredTeaching, CommunityBasedLearning, Voting-cloud, ChemistryQualityEuroLabels, Stemsysteem, Photochemistry, AudiencePacedFeedback, GroupWork, Webconferencing, LearningAnalytics, EuropeanChemistryThematicNetwork, TTL, Role-play, ExperientalEducation, FlippedClassroom, LectureDemonstrations, Wiskunde, Voting, Bio-organicChemistry, E-learning, CloudServices, PlagiatControle, GameLearning, Methaphors, Reliability, PeerWise, OIEAR, LearningOutcomes, KennisClips, FeedbackTools, iPad, Voting-machines, videocolleges, Stemkastjes, SupportingLearners, SmallScaleExperiments, AcademicStaffDevelopment, Eurobachelor, TeachingWithMethaphors, ChemicalEngineering, Self-directedLearning, Natuurwetenschappen, Euromaster, LearningOnStations, VirtualConferencing, webcolleges, ReflectiveDiaries, Questioning, InorganicChemistry, Eurolecturer, ForensicScience, Employability, PhysicalChemistry, NieuweOnderwijsconcepten, SOWISO, FormatieveToetsen, MathematicsForOthers, Procwise, MATHtaxonomy, DigitaleLeeromgeving, Peer-review, TeachingByQuestioning, weblectures, BloomTaxonomy, VirtualLaboratory, Chemistry, Tentamenlade, ClassroomCommunicationSystems, Betrouwbaarheid, Psychobiology, InnovativeTeachingMethods, SupportDistanceLearning, Ephorus, Demonstrations, EC2E2N, OrganicChemistry, Community-engagedLearning, OnlineVotingSystem, PeerFeedbackTools, QuestionMarkPerception, Camtasia, Shakespeak, ProfessionalDevelopmentLecturers, FormativeAssessment, Peer-feedback, Lecturnity, C-PBL, Genetics, AfstandOnderwijsEnZelfstandigLeren, Analogies, ResearchBasedLearning, LaboratoryWork, FlippedLectures, QualityAssurance, StemmenInHetOnderwijs, PersonalResponseSystems, RemedialTeaching, InteractiveLecturing, SupramolecularChemistry, StudentEvaluation, WorkplaceLearning, MathematicsLearningEnvironment, ProjectBasedLearning, TurnitIn, QMP, BKO, PracticalWork, ToetsGestuurdLeren, LifeSciences, ToetsenEnToetsgestuurdLeren, AcademischeVaardighedenPortfolio, CurriculumDevelopment, LectureBreaks, AcademicSkills, Science, InquiryBasedLearning, AudiencePolling, EnzymeKinetics, StudentPortfolio, AudienceResponseSystems, ServiceLearning, WiskundeToetstools, Peer-instruction, Feedback, WorkBasedLearning, Peer-assessment, Mathematics, Eurodoctorate, WebEx, vraagconstructie, DigitalAssessmentTools, ContextBasedLearning, OralPresentationAcademicSkill, KnowledgeClips, CollaborativeLearning, GoogleDocs, TeachersBeliefs, Pencasts, LearningByDoing, Open-endedExperiments, ChemistryQualityLabels, ProblemBasedLearning, SURFconext, ScreenCapturing, PlagiarismControl, OnlineClassrooms, LearningRoleGame, StudiocourseModel, ScreenRecording, MathematicsTestTool, Assessment, LabWork, StudentResponseSystems, Docentprofessionalisering, TeachingWithAnalogies, Themabijeenkomst, MapleTA, TPACK, InteractiveTeachingMehodology, TestBasedLearning, ECTNA, OnlineSupport, SupportingLearnersTransitionProblems, InformationStudies, OnlineSamenwerkingtools, StudentOwnedLearning, iThenticate, JournalistMethod, CooperativeLearning, Labster, LearningObjectives, ActiveLearning, LearningRecordStore, Stemsystemen, ScienceTeacherEducation, EChemTest, LinguisticHeterogeneity, ElectronicVotingSystems, ECTN, Think-pair-share, Wiki, ARS, Proctoring, TurningPoint, Inclusion, OnlineSamenwerking, DiscussionBoards, EvidenceBasedResearch, Low-costExperiments, Portfolio, LearningAnalyticsDashboard, CloudVotingSystems\n"
       ]
      }
     ],
     "prompt_number": 15
    },
    {
     "cell_type": "markdown",
     "metadata": {},
     "source": [
      "## Tags with glossary\n",
      "The solution proposed in the project proposal (which we decided to implement as baseline) requires glossaries of tags. In the current export there are only 40 tags with a glossary (23.4% of all tags). "
     ]
    },
    {
     "cell_type": "code",
     "collapsed": false,
     "input": [
      "with_glossary = dict(filter(lambda x: x[1]['glossary'] is not None, data['tags'].items()))\n",
      "len(with_glossary), len(with_glossary)/float(len(data['tags']))"
     ],
     "language": "python",
     "metadata": {},
     "outputs": [
      {
       "metadata": {},
       "output_type": "pyout",
       "prompt_number": 16,
       "text": [
        "(42, 0.2)"
       ]
      }
     ],
     "prompt_number": 16
    },
    {
     "cell_type": "code",
     "collapsed": false,
     "input": [
      "print(\"The tags that have a glossary are:\\n{0}\".format(', '.join(with_glossary.keys())))"
     ],
     "language": "python",
     "metadata": {},
     "outputs": [
      {
       "output_type": "stream",
       "stream": "stdout",
       "text": [
        "The tags that have a glossary are:\n",
        "VideoConferencing, AfstandOnderwijsEnZelfstandigLeren, Stemkastjes, Low-costExperiments, Open-endedExperiments, SURFconext, IncompleteHand-outs, PlagiarismControl, StudiocourseModel, StemmenInHetOnderwijs, InteractiveLecturing, StudentCentredTeaching, TurnitIn, LearningOnStations, TPACK, BKO, InteractiveTeachingMehodology, Questioning, Eurolecturer, SOWISO, Peer-instruction, LectureBreaks, MATHtaxonomy, LearningAnalytics, Role-play, Think-pair-share, Lecturnity, weblectures, BloomTaxonomy, EChemTest, ECTN, ToetsenEnToetsgestuurdLeren, Tentamenlade, FlippedClassroom, Peer-assessment, Ephorus, OralPresentationAcademicSkill, JournalistMethod, AudienceResponseSystems, Shakespeak, LearningOutcomes, CloudVotingSystems\n"
       ]
      }
     ],
     "prompt_number": 17
    },
    {
     "cell_type": "markdown",
     "metadata": {},
     "source": [
      "## Structure of objects\n",
      "The following keys are available on a tag object:"
     ]
    },
    {
     "cell_type": "code",
     "collapsed": false,
     "input": [
      "data['tags'].values()[0].keys()"
     ],
     "language": "python",
     "metadata": {},
     "outputs": [
      {
       "metadata": {},
       "output_type": "pyout",
       "prompt_number": 18,
       "text": [
        "['glossary', 'type', 'alias_of', 'url']"
       ]
      }
     ],
     "prompt_number": 18
    },
    {
     "cell_type": "markdown",
     "metadata": {},
     "source": [
      "And for an item object these are:"
     ]
    },
    {
     "cell_type": "code",
     "collapsed": false,
     "input": [
      "data['items'].values()[0].keys()"
     ],
     "language": "python",
     "metadata": {},
     "outputs": [
      {
       "metadata": {},
       "output_type": "pyout",
       "prompt_number": 19,
       "text": [
        "['about', 'name', 'links', 'tags', 'headline', 'type']"
       ]
      }
     ],
     "prompt_number": 19
    },
    {
     "cell_type": "markdown",
     "metadata": {},
     "source": [
      "## Example Glossary"
     ]
    },
    {
     "cell_type": "code",
     "collapsed": false,
     "input": [
      "data['items'][data['tags']['LearningAnalytics']['glossary']]"
     ],
     "language": "python",
     "metadata": {},
     "outputs": [
      {
       "metadata": {},
       "output_type": "pyout",
       "prompt_number": 20,
       "text": [
        "{'author': 14L,\n",
        " 'links': [11L, 14L],\n",
        " 'tags': [u'LearningAnalytics'],\n",
        " 'text': u'<p>SoLAR, the international community for research in this field, defines learning analytics as the &#x2018;measurement, collection, analysis and reporting of data about learners and their contexts, for purposes of understanding and optimizing learning and the environments in which it occurs&#x2019;. The community shares the view that this involves a cyclical process, as described in (Clow, 2012). This cyclical process can be compared to a lecturer posing a question in order to take a didactic decision on the basis of the analysed answer. As the scale of courses expands, it is proving difficult for lecturers to optimally improve their education by means of this cycle. At the same time, a growing portion of the learning process is manifesting itself in the form of digital data. Learning analytics uses this digital data to apply the same cycle on a large scale in support of the learning process. Learning analytics centres around the support of students and lecturers. Related fields apply some of the same data and technologies used in learning analytics, while focusing on different questions (Chatti, 2012). Whereas learning analytics focuses on supporting the learning process, educational data mining is more oriented towards the technological potential for extracting value from large quantities of data (Ferguson, 2012). Finally, academic analytics applies techniques from the field of business intelligence to data at institutional level in order to improve study yields (Long, 2011).&nbsp;</p>\\r\\n\\r\\n<h3>References</h3>\\r\\n\\r\\n\\r\\n<ul>\\r\\n\\r\\n\\t<li><span style=\"line-height: 1.5em;\">Chatti, M. A., Dyckhoff, A. L., Schroeder, U., &amp; Th&#x00fc;s, H. (2012). A reference model for learning analytics. International Journal of Technology Enhanced Learning, 4(5), 318-331.</span></li>\\r\\n\\r\\n\\t<li><span style=\"line-height: 1.5em;\">Clow, Doug (2012). The learning analytics cycle: closing the loop effectively. In: LAK12: 2nd International Conference on Learning Analytics &amp; Knowledge, 29 April - 2 May 2012, Vancouver, BC.</span></li>\\r\\n\\r\\n\\t<li><span style=\"line-height: 1.5em;\">Ferguson, Rebecca (2012). Learning analytics: drivers, developments and challenges. International Journal of Technology Enhanced Learning, 4(5/6) pp. 304-317.</span></li>\\r\\n\\r\\n\\t<li><span style=\"line-height: 1.5em;\">Long, P., &amp; Siemens, G. (2011). Penetrating the fog: Analytics in learning and education. Educause Review, 46(5), 30-32.</span></li></ul>\\r\\n',\n",
        " 'title': u'Learning Analytics',\n",
        " 'type': 'Glossary'}"
       ]
      }
     ],
     "prompt_number": 20
    },
    {
     "cell_type": "code",
     "collapsed": false,
     "input": [
      "set([data['items'][a]['type'] for a in data['items']])"
     ],
     "language": "python",
     "metadata": {},
     "outputs": [
      {
       "metadata": {},
       "output_type": "pyout",
       "prompt_number": 21,
       "text": [
        "{'Event',\n",
        " 'Glossary',\n",
        " 'Good Practice',\n",
        " 'Information',\n",
        " 'Person',\n",
        " 'Project',\n",
        " 'Question'}"
       ]
      }
     ],
     "prompt_number": 21
    },
    {
     "cell_type": "code",
     "collapsed": false,
     "input": [
      "for i in range(1, 20):\n",
      "    doc = data['items'][data['items'].keys()[i]]\n",
      "    print(doc.keys())\n",
      "    print(doc['type'])"
     ],
     "language": "python",
     "metadata": {},
     "outputs": [
      {
       "output_type": "stream",
       "stream": "stdout",
       "text": [
        "['about', 'name', 'links', 'tags', 'headline', 'type']\n",
        "Person\n",
        "['about', 'name', 'links', 'tags', 'headline', 'type']\n",
        "Person\n",
        "['links', 'tags', 'text', 'author', 'title', 'type']\n",
        "Question\n",
        "['links', 'tags', 'text', 'author', 'title', 'type']\n",
        "Good Practice\n",
        "['links', 'tags', 'text', 'author', 'title', 'type']\n",
        "Question\n",
        "['links', 'tags', 'text', 'author', 'title', 'type']\n",
        "Question\n",
        "['links', 'tags', 'text', 'author', 'title', 'type']\n",
        "Question\n",
        "['links', 'tags', 'text', 'author', 'title', 'type']\n",
        "Project\n",
        "['links', 'tags', 'text', 'author', 'title', 'type']\n",
        "Project\n",
        "['about', 'name', 'links', 'tags', 'headline', 'type']\n",
        "Person\n",
        "['about', 'name', 'links', 'tags', 'headline', 'type']\n",
        "Person\n",
        "['links', 'tags', 'text', 'author', 'title', 'type']\n",
        "Project\n",
        "['links', 'tags', 'text', 'author', 'title', 'type']\n",
        "Question\n",
        "['links', 'tags', 'text', 'author', 'title', 'type']\n",
        "Question\n",
        "['links', 'tags', 'text', 'author', 'title', 'type']\n",
        "Information\n",
        "['links', 'tags', 'text', 'author', 'title', 'type']\n",
        "Good Practice\n",
        "['links', 'tags', 'text', 'author', 'title', 'type']\n",
        "Good Practice\n",
        "['about', 'name', 'links', 'tags', 'headline', 'type']\n",
        "Person\n",
        "['links', 'tags', 'text', 'author', 'title', 'type']\n",
        "Good Practice\n"
       ]
      }
     ],
     "prompt_number": 32
    },
    {
     "cell_type": "code",
     "collapsed": false,
     "input": [
      "import os, sys\n",
      "sys.path.append(os.path.join(os.path.abspath('..'), 'src')) \n",
      "from datawrapper import DataWrapper\n",
      "\n",
      "wrapper = DataWrapper(data)\n",
      "# print(data['tags'])\n",
      "for tag, v in data['tags'].items():\n",
      "    print v\n",
      "    if tag is not wrapper.get_alias_of_tag(tag):\n",
      "        print(tag + \"\\t\\t\\t\" + wrapper.get_alias_of_tag(tag))\n",
      "\n",
      "for tag in wrapper.tags():\n",
      "    print(tag + ' ' + wrapper.get_alias_of_tag(tag))\n",
      "print(\"number of tags: {0}\".format(len(set([x for x in wrapper.tags()]))))\n",
      "wrapper.remove_aliased_tags()\n",
      "print(\"number of tags: {0}\".format(len(set([x for x in wrapper.tags()]))))\n",
      "\n",
      "with_glossary = dict(filter(lambda x: x[1]['glossary'] is not None, data['tags'].items()))\n",
      "len(with_glossary), len(with_glossary)/float(len(data['tags']))"
     ],
     "language": "python",
     "metadata": {},
     "outputs": [
      {
       "output_type": "stream",
       "stream": "stdout",
       "text": [
        "{'glossary': None, 'type': 'Content', 'alias_of': None, 'url': '/tag/Pre-serviceTeacherEducation'}\n",
        "{'glossary': 190L, 'type': 'Technology', 'alias_of': None, 'url': '/tag/VideoConferencing'}\n",
        "{'glossary': None, 'type': 'Pedagogy', 'alias_of': None, 'url': '/tag/CriteriaReferencedAssessment'}\n",
        "{'glossary': None, 'type': 'Pedagogy', 'alias_of': None, 'url': '/tag/RemedierendWiskundeOnderwijs'}\n",
        "{'glossary': None, 'type': 'Topic', 'alias_of': None, 'url': '/tag/SecondarySchool'}\n",
        "{'glossary': None, 'type': 'Content', 'alias_of': None, 'url': '/tag/AnalyticalChemistry'}\n",
        "{'glossary': 61L, 'type': 'Pedagogy', 'alias_of': None, 'url': '/tag/IncompleteHand-outs'}\n",
        "{'glossary': None, 'type': 'Pedagogy', 'alias_of': None, 'url': '/tag/CulturalDiversity'}\n",
        "{'glossary': None, 'type': 'Content', 'alias_of': None, 'url': '/tag/ChemistryEducation'}\n",
        "{'glossary': None, 'type': 'Topic', 'alias_of': None, 'url': '/tag/PedagogicalTheory'}\n",
        "{'glossary': None, 'type': 'Pedagogy', 'alias_of': None, 'url': '/tag/Internship'}\n",
        "{'glossary': None, 'type': 'Technology', 'alias_of': None, 'url': '/tag/Blackboard'}\n",
        "{'glossary': None, 'type': 'Content', 'alias_of': None, 'url': '/tag/ScienceEducation'}\n",
        "{'glossary': 109L, 'type': 'Topic', 'alias_of': None, 'url': '/tag/StudentCentredTeaching'}\n",
        "{'glossary': None, 'type': 'Pedagogy', 'alias_of': None, 'url': '/tag/CommunityBasedLearning'}\n",
        "{'glossary': None, 'type': 'Topic', 'alias_of': None, 'url': '/tag/ChemistryQualityEuroLabels'}\n",
        "{'glossary': None, 'type': 'Content', 'alias_of': None, 'url': '/tag/Photochemistry'}\n",
        "{'glossary': None, 'type': 'Pedagogy', 'alias_of': None, 'url': '/tag/GroupWork'}\n",
        "{'glossary': 167L, 'type': 'Topic', 'alias_of': None, 'url': '/tag/LearningAnalytics'}\n",
        "{'glossary': 116L, 'type': 'Pedagogy', 'alias_of': None, 'url': '/tag/Role-play'}\n",
        "{'glossary': None, 'type': 'Pedagogy', 'alias_of': None, 'url': '/tag/ExperientalEducation'}\n",
        "{'glossary': 52L, 'type': 'Pedagogy', 'alias_of': None, 'url': '/tag/FlippedClassroom'}\n",
        "{'glossary': None, 'type': 'Pedagogy', 'alias_of': None, 'url': '/tag/LectureDemonstrations'}\n",
        "{'glossary': None, 'type': 'Content', 'alias_of': None, 'url': '/tag/Wiskunde'}\n",
        "{'glossary': None, 'type': 'Content', 'alias_of': None, 'url': '/tag/Bio-organicChemistry'}\n",
        "{'glossary': None, 'type': 'Pedagogy', 'alias_of': None, 'url': '/tag/E-learning'}\n",
        "{'glossary': None, 'type': 'Technology', 'alias_of': None, 'url': '/tag/CloudServices'}\n",
        "{'glossary': None, 'type': 'Pedagogy', 'alias_of': None, 'url': '/tag/GameLearning'}\n",
        "{'glossary': None, 'type': 'Pedagogy', 'alias_of': None, 'url': '/tag/Reliability'}\n",
        "{'glossary': None, 'type': 'Technology', 'alias_of': None, 'url': '/tag/PeerWise'}\n",
        "{'glossary': None, 'type': 'Technology', 'alias_of': None, 'url': '/tag/KennisClips'}\n",
        "{'glossary': None, 'type': 'Technology', 'alias_of': None, 'url': '/tag/FeedbackTools'}\n",
        "{'glossary': None, 'type': 'Technology', 'alias_of': None, 'url': '/tag/iPad'}\n",
        "{'glossary': 58L, 'type': 'Technology', 'alias_of': None, 'url': '/tag/Stemkastjes'}\n",
        "{'glossary': None, 'type': 'Pedagogy', 'alias_of': None, 'url': '/tag/SupportingLearners'}\n",
        "{'glossary': None, 'type': 'Pedagogy', 'alias_of': None, 'url': '/tag/SmallScaleExperiments'}\n",
        "{'glossary': None, 'type': 'Content', 'alias_of': None, 'url': '/tag/ChemicalEngineering'}\n",
        "{'glossary': None, 'type': 'Pedagogy', 'alias_of': None, 'url': '/tag/Self-directedLearning'}\n",
        "{'glossary': None, 'type': 'Content', 'alias_of': None, 'url': '/tag/Natuurwetenschappen'}\n",
        "{'glossary': 135L, 'type': 'Pedagogy', 'alias_of': None, 'url': '/tag/LearningOnStations'}\n",
        "{'glossary': None, 'type': 'Technology', 'alias_of': None, 'url': '/tag/webcolleges'}\n",
        "{'glossary': None, 'type': 'Pedagogy', 'alias_of': None, 'url': '/tag/ReflectiveDiaries'}\n",
        "{'glossary': 62L, 'type': 'Pedagogy', 'alias_of': None, 'url': '/tag/Questioning'}\n",
        "{'glossary': None, 'type': 'Content', 'alias_of': None, 'url': '/tag/InorganicChemistry'}\n",
        "{'glossary': 104L, 'type': 'Topic', 'alias_of': None, 'url': '/tag/Eurolecturer'}\n",
        "{'glossary': None, 'type': 'Content', 'alias_of': None, 'url': '/tag/ForensicScience'}\n",
        "{'glossary': None, 'type': 'Topic', 'alias_of': None, 'url': '/tag/Employability'}\n",
        "{'glossary': None, 'type': 'Content', 'alias_of': None, 'url': '/tag/PhysicalChemistry'}\n",
        "{'glossary': None, 'type': 'Pedagogy', 'alias_of': None, 'url': '/tag/FormatieveToetsen'}\n",
        "{'glossary': None, 'type': 'Content', 'alias_of': None, 'url': '/tag/MathematicsForOthers'}\n",
        "{'glossary': None, 'type': 'Technology', 'alias_of': None, 'url': '/tag/Procwise'}\n",
        "{'glossary': 107L, 'type': 'Pedagogy', 'alias_of': None, 'url': '/tag/MATHtaxonomy'}\n",
        "{'glossary': None, 'type': 'Technology', 'alias_of': None, 'url': '/tag/DigitaleLeeromgeving'}\n",
        "{'glossary': 80L, 'type': 'Pedagogy', 'alias_of': None, 'url': '/tag/BloomTaxonomy'}\n",
        "{'glossary': None, 'type': 'Technology', 'alias_of': None, 'url': '/tag/VirtualLaboratory'}\n",
        "{'glossary': None, 'type': 'Content', 'alias_of': u'Chemistry', 'url': '/tag/Chemistry'}\n",
        "{'glossary': 95L, 'type': 'Technology', 'alias_of': None, 'url': '/tag/Tentamenlade'}\n",
        "{'glossary': None, 'type': 'Content', 'alias_of': None, 'url': '/tag/Psychobiology'}\n",
        "{'glossary': None, 'type': 'Topic', 'alias_of': None, 'url': '/tag/InnovativeTeachingMethods'}\n",
        "{'glossary': None, 'type': 'Pedagogy', 'alias_of': None, 'url': '/tag/SupportDistanceLearning'}\n",
        "{'glossary': 85L, 'type': 'Technology', 'alias_of': None, 'url': '/tag/Ephorus'}\n",
        "{'glossary': None, 'type': 'Pedagogy', 'alias_of': None, 'url': '/tag/Demonstrations'}\n",
        "{'glossary': None, 'type': 'Content', 'alias_of': None, 'url': '/tag/OrganicChemistry'}\n",
        "{'glossary': None, 'type': 'Technology', 'alias_of': None, 'url': '/tag/OnlineVotingSystem'}\n",
        "{'glossary': None, 'type': 'Technology', 'alias_of': None, 'url': '/tag/PeerFeedbackTools'}\n",
        "{'glossary': None, 'type': 'Technology', 'alias_of': None, 'url': '/tag/QuestionMarkPerception'}\n",
        "{'glossary': 87L, 'type': 'Technology', 'alias_of': None, 'url': '/tag/Shakespeak'}\n",
        "{'glossary': None, 'type': 'Content', 'alias_of': None, 'url': '/tag/Genetics'}\n",
        "{'glossary': 49L, 'type': 'Topic', 'alias_of': u'AfstandOnderwijsEnZelfstandigLeren', 'url': '/tag/AfstandOnderwijsEnZelfstandigLeren'}\n",
        "{'glossary': None, 'type': 'Pedagogy', 'alias_of': None, 'url': '/tag/Analogies'}\n",
        "{'glossary': None, 'type': 'Pedagogy', 'alias_of': None, 'url': '/tag/ResearchBasedLearning'}\n",
        "{'glossary': None, 'type': 'Topic', 'alias_of': None, 'url': '/tag/QualityAssurance'}\n",
        "{'glossary': 54L, 'type': 'Pedagogy', 'alias_of': None, 'url': '/tag/StemmenInHetOnderwijs'}\n",
        "{'glossary': None, 'type': 'Pedagogy', 'alias_of': u'RemedialTeaching', 'url': '/tag/RemedialTeaching'}\n",
        "{'glossary': 108L, 'type': 'Pedagogy', 'alias_of': None, 'url': '/tag/InteractiveLecturing'}\n",
        "{'glossary': None, 'type': 'Content', 'alias_of': None, 'url': '/tag/SupramolecularChemistry'}\n",
        "{'glossary': None, 'type': 'Topic', 'alias_of': None, 'url': '/tag/StudentEvaluation'}\n",
        "{'glossary': None, 'type': 'Pedagogy', 'alias_of': None, 'url': '/tag/WorkplaceLearning'}\n",
        "{'glossary': None, 'type': 'Technology', 'alias_of': None, 'url': '/tag/MathematicsLearningEnvironment'}\n",
        "{'glossary': None, 'type': 'Pedagogy', 'alias_of': None, 'url': '/tag/ProjectBasedLearning'}\n",
        "{'glossary': 318L, 'type': 'Technology', 'alias_of': None, 'url': '/tag/TurnitIn'}\n",
        "{'glossary': None, 'type': 'Pedagogy', 'alias_of': None, 'url': '/tag/PracticalWork'}\n",
        "{'glossary': None, 'type': 'Content', 'alias_of': u'LifeSciences', 'url': '/tag/LifeSciences'}\n",
        "{'glossary': 50L, 'type': 'Topic', 'alias_of': None, 'url': '/tag/ToetsenEnToetsgestuurdLeren'}\n",
        "{'glossary': None, 'type': 'Pedagogy', 'alias_of': None, 'url': '/tag/AcademischeVaardighedenPortfolio'}\n",
        "{'glossary': None, 'type': 'Pedagogy', 'alias_of': None, 'url': '/tag/CurriculumDevelopment'}\n",
        "{'glossary': 133L, 'type': 'Pedagogy', 'alias_of': None, 'url': '/tag/LectureBreaks'}\n",
        "{'glossary': None, 'type': 'Pedagogy', 'alias_of': None, 'url': '/tag/AcademicSkills'}\n",
        "{'glossary': None, 'type': 'Pedagogy', 'alias_of': None, 'url': '/tag/InquiryBasedLearning'}\n",
        "{'glossary': None, 'type': 'Content', 'alias_of': None, 'url': '/tag/EnzymeKinetics'}\n",
        "{'glossary': None, 'type': 'Pedagogy', 'alias_of': None, 'url': '/tag/StudentPortfolio'}\n",
        "{'glossary': None, 'type': 'Technology', 'alias_of': None, 'url': '/tag/WiskundeToetstools'}\n",
        "{'glossary': 53L, 'type': 'Pedagogy', 'alias_of': None, 'url': '/tag/Peer-instruction'}\n",
        "{'glossary': None, 'type': 'Pedagogy', 'alias_of': None, 'url': '/tag/Feedback'}\n",
        "{'glossary': 172L, 'type': 'Pedagogy', 'alias_of': None, 'url': '/tag/Peer-assessment'}\n",
        "{'glossary': None, 'type': 'Technology', 'alias_of': None, 'url': '/tag/WebEx'}\n",
        "{'glossary': None, 'type': 'Pedagogy', 'alias_of': None, 'url': '/tag/vraagconstructie'}\n",
        "{'glossary': None, 'type': 'Technology', 'alias_of': None, 'url': '/tag/DigitalAssessmentTools'}\n",
        "{'glossary': None, 'type': 'Pedagogy', 'alias_of': None, 'url': '/tag/ContextBasedLearning'}\n",
        "{'glossary': 128L, 'type': 'Pedagogy', 'alias_of': None, 'url': '/tag/OralPresentationAcademicSkill'}\n",
        "{'glossary': None, 'type': 'Pedagogy', 'alias_of': None, 'url': '/tag/CollaborativeLearning'}\n",
        "{'glossary': None, 'type': 'Technology', 'alias_of': None, 'url': '/tag/GoogleDocs'}\n",
        "{'glossary': None, 'type': 'Pedagogy', 'alias_of': None, 'url': '/tag/TeachersBeliefs'}\n",
        "{'glossary': None, 'type': 'Technology', 'alias_of': None, 'url': '/tag/Pencasts'}\n",
        "{'glossary': None, 'type': 'Pedagogy', 'alias_of': None, 'url': '/tag/LearningByDoing'}\n",
        "{'glossary': 120L, 'type': 'Pedagogy', 'alias_of': None, 'url': '/tag/Open-endedExperiments'}\n",
        "{'glossary': None, 'type': 'Pedagogy', 'alias_of': None, 'url': '/tag/ProblemBasedLearning'}\n",
        "{'glossary': 106L, 'type': 'Technology', 'alias_of': None, 'url': '/tag/SURFconext'}\n",
        "{'glossary': 86L, 'type': 'Technology', 'alias_of': None, 'url': '/tag/PlagiarismControl'}\n",
        "{'glossary': None, 'type': 'Pedagogy', 'alias_of': None, 'url': '/tag/OnlineClassrooms'}\n",
        "{'glossary': 63L, 'type': 'Pedagogy', 'alias_of': None, 'url': '/tag/StudiocourseModel'}\n",
        "{'glossary': None, 'type': 'Technology', 'alias_of': None, 'url': '/tag/ScreenRecording'}\n",
        "{'glossary': None, 'type': 'Technology', 'alias_of': None, 'url': '/tag/MathematicsTestTool'}\n",
        "{'glossary': None, 'type': 'Pedagogy', 'alias_of': None, 'url': '/tag/Assessment'}\n",
        "{'glossary': None, 'type': 'Content', 'alias_of': None, 'url': '/tag/Docentprofessionalisering'}\n",
        "{'glossary': None, 'type': 'Topic', 'alias_of': None, 'url': '/tag/Themabijeenkomst'}\n",
        "{'glossary': None, 'type': 'Technology', 'alias_of': None, 'url': '/tag/MapleTA'}\n",
        "{'glossary': 51L, 'type': 'Topic', 'alias_of': None, 'url': '/tag/TPACK'}\n",
        "{'glossary': 93L, 'type': 'Pedagogy', 'alias_of': None, 'url': '/tag/InteractiveTeachingMehodology'}\n",
        "{'glossary': None, 'type': 'Pedagogy', 'alias_of': None, 'url': '/tag/TestBasedLearning'}\n",
        "{'glossary': None, 'type': 'Pedagogy', 'alias_of': None, 'url': '/tag/OnlineSupport'}\n",
        "{'glossary': None, 'type': 'Content', 'alias_of': None, 'url': '/tag/InformationStudies'}\n",
        "{'glossary': None, 'type': 'Technology', 'alias_of': None, 'url': '/tag/OnlineSamenwerkingtools'}\n",
        "{'glossary': None, 'type': 'Pedagogy', 'alias_of': None, 'url': '/tag/StudentOwnedLearning'}\n",
        "{'glossary': None, 'type': 'Technology', 'alias_of': None, 'url': '/tag/iThenticate'}\n",
        "{'glossary': 117L, 'type': 'Pedagogy', 'alias_of': None, 'url': '/tag/JournalistMethod'}\n",
        "{'glossary': None, 'type': 'Pedagogy', 'alias_of': None, 'url': '/tag/CooperativeLearning'}\n",
        "{'glossary': None, 'type': 'Technology', 'alias_of': None, 'url': '/tag/Labster'}\n",
        "{'glossary': None, 'type': 'Pedagogy', 'alias_of': None, 'url': '/tag/LearningObjectives'}\n",
        "{'glossary': None, 'type': 'Pedagogy', 'alias_of': u'ActiveLearning', 'url': '/tag/ActiveLearning'}\n",
        "{'glossary': None, 'type': 'Technology', 'alias_of': None, 'url': '/tag/LearningRecordStore'}\n",
        "{'glossary': None, 'type': 'Content', 'alias_of': None, 'url': '/tag/ScienceTeacherEducation'}\n",
        "{'glossary': 67L, 'type': 'Technology', 'alias_of': None, 'url': '/tag/EChemTest'}\n",
        "{'glossary': None, 'type': 'Pedagogy', 'alias_of': None, 'url': '/tag/LinguisticHeterogeneity'}\n",
        "{'glossary': 64L, 'type': 'Topic', 'alias_of': None, 'url': '/tag/ECTN'}\n",
        "{'glossary': 66L, 'type': 'Pedagogy', 'alias_of': None, 'url': '/tag/Think-pair-share'}\n",
        "{'glossary': None, 'type': 'Technology', 'alias_of': None, 'url': '/tag/Wiki'}\n",
        "{'glossary': None, 'type': 'Technology', 'alias_of': None, 'url': '/tag/Proctoring'}\n",
        "{'glossary': None, 'type': 'Content', 'alias_of': None, 'url': '/tag/Inclusion'}\n",
        "{'glossary': None, 'type': 'Pedagogy', 'alias_of': None, 'url': '/tag/OnlineSamenwerking'}\n",
        "{'glossary': None, 'type': 'Technology', 'alias_of': None, 'url': '/tag/DiscussionBoards'}\n",
        "{'glossary': None, 'type': 'Topic', 'alias_of': None, 'url': '/tag/EvidenceBasedResearch'}\n",
        "{'glossary': 113L, 'type': 'Pedagogy', 'alias_of': None, 'url': '/tag/Low-costExperiments'}\n",
        "{'glossary': None, 'type': 'Technology', 'alias_of': None, 'url': '/tag/Portfolio'}\n",
        "{'glossary': None, 'type': 'Technology', 'alias_of': None, 'url': '/tag/LearningAnalyticsDashboard'}\n",
        "{'glossary': 55L, 'type': 'Technology', 'alias_of': None, 'url': '/tag/CloudVotingSystems'}\n",
        "Pre-serviceTeacherEducation Pre-serviceTeacherEducation\n",
        "VideoConferencing VideoConferencing\n",
        "CriteriaReferencedAssessment CriteriaReferencedAssessment\n",
        "RemedierendWiskundeOnderwijs RemedierendWiskundeOnderwijs\n",
        "SecondarySchool SecondarySchool\n",
        "AnalyticalChemistry AnalyticalChemistry\n",
        "IncompleteHand-outs IncompleteHand-outs\n",
        "CulturalDiversity CulturalDiversity\n",
        "ChemistryEducation ChemistryEducation\n",
        "PedagogicalTheory PedagogicalTheory\n",
        "Internship Internship\n",
        "Blackboard Blackboard\n",
        "ScienceEducation ScienceEducation\n",
        "StudentCentredTeaching StudentCentredTeaching\n",
        "CommunityBasedLearning CommunityBasedLearning\n",
        "ChemistryQualityEuroLabels ChemistryQualityEuroLabels\n",
        "Photochemistry Photochemistry\n",
        "GroupWork GroupWork\n",
        "LearningAnalytics LearningAnalytics\n",
        "Role-play Role-play\n",
        "ExperientalEducation ExperientalEducation\n",
        "FlippedClassroom FlippedClassroom\n",
        "LectureDemonstrations LectureDemonstrations\n",
        "Wiskunde Wiskunde\n",
        "Bio-organicChemistry Bio-organicChemistry\n",
        "E-learning E-learning\n",
        "CloudServices CloudServices\n",
        "GameLearning GameLearning\n",
        "Reliability Reliability\n",
        "PeerWise PeerWise\n",
        "KennisClips KennisClips\n",
        "FeedbackTools FeedbackTools\n",
        "iPad iPad\n",
        "Stemkastjes Stemkastjes\n",
        "SupportingLearners SupportingLearners\n",
        "SmallScaleExperiments SmallScaleExperiments\n",
        "ChemicalEngineering ChemicalEngineering\n",
        "Self-directedLearning Self-directedLearning\n",
        "Natuurwetenschappen Natuurwetenschappen\n",
        "LearningOnStations LearningOnStations\n",
        "webcolleges webcolleges\n",
        "ReflectiveDiaries ReflectiveDiaries\n",
        "Questioning Questioning\n",
        "InorganicChemistry InorganicChemistry\n",
        "Eurolecturer Eurolecturer\n",
        "ForensicScience ForensicScience\n",
        "Employability Employability\n",
        "PhysicalChemistry PhysicalChemistry\n",
        "FormatieveToetsen FormatieveToetsen\n",
        "MathematicsForOthers MathematicsForOthers\n",
        "Procwise Procwise\n",
        "MATHtaxonomy MATHtaxonomy\n",
        "DigitaleLeeromgeving DigitaleLeeromgeving\n",
        "BloomTaxonomy BloomTaxonomy\n",
        "VirtualLaboratory VirtualLaboratory\n",
        "Chemistry Chemistry\n",
        "Tentamenlade Tentamenlade\n",
        "Psychobiology Psychobiology\n",
        "InnovativeTeachingMethods InnovativeTeachingMethods\n",
        "SupportDistanceLearning SupportDistanceLearning\n",
        "Ephorus Ephorus\n",
        "Demonstrations Demonstrations\n",
        "OrganicChemistry OrganicChemistry\n",
        "OnlineVotingSystem OnlineVotingSystem\n",
        "PeerFeedbackTools PeerFeedbackTools\n",
        "QuestionMarkPerception QuestionMarkPerception\n",
        "Shakespeak Shakespeak\n",
        "Genetics Genetics\n",
        "AfstandOnderwijsEnZelfstandigLeren AfstandOnderwijsEnZelfstandigLeren\n",
        "Analogies Analogies\n",
        "ResearchBasedLearning ResearchBasedLearning\n",
        "QualityAssurance QualityAssurance\n",
        "StemmenInHetOnderwijs StemmenInHetOnderwijs\n",
        "RemedialTeaching RemedialTeaching\n",
        "InteractiveLecturing InteractiveLecturing\n",
        "SupramolecularChemistry SupramolecularChemistry\n",
        "StudentEvaluation StudentEvaluation\n",
        "WorkplaceLearning WorkplaceLearning\n",
        "MathematicsLearningEnvironment MathematicsLearningEnvironment\n",
        "ProjectBasedLearning ProjectBasedLearning\n",
        "TurnitIn TurnitIn\n",
        "PracticalWork PracticalWork\n",
        "LifeSciences LifeSciences\n",
        "ToetsenEnToetsgestuurdLeren ToetsenEnToetsgestuurdLeren\n",
        "AcademischeVaardighedenPortfolio AcademischeVaardighedenPortfolio\n",
        "CurriculumDevelopment CurriculumDevelopment\n",
        "LectureBreaks LectureBreaks\n",
        "AcademicSkills AcademicSkills\n",
        "InquiryBasedLearning InquiryBasedLearning\n",
        "EnzymeKinetics EnzymeKinetics\n",
        "StudentPortfolio StudentPortfolio\n",
        "WiskundeToetstools WiskundeToetstools\n",
        "Peer-instruction Peer-instruction\n",
        "Feedback Feedback\n",
        "Peer-assessment Peer-assessment\n",
        "WebEx WebEx\n",
        "vraagconstructie vraagconstructie\n",
        "DigitalAssessmentTools DigitalAssessmentTools\n",
        "ContextBasedLearning ContextBasedLearning\n",
        "OralPresentationAcademicSkill OralPresentationAcademicSkill\n",
        "CollaborativeLearning CollaborativeLearning\n",
        "GoogleDocs GoogleDocs\n",
        "TeachersBeliefs TeachersBeliefs\n",
        "Pencasts Pencasts\n",
        "LearningByDoing LearningByDoing\n",
        "Open-endedExperiments Open-endedExperiments\n",
        "ProblemBasedLearning ProblemBasedLearning\n",
        "SURFconext SURFconext\n",
        "PlagiarismControl PlagiarismControl\n",
        "OnlineClassrooms OnlineClassrooms\n",
        "StudiocourseModel StudiocourseModel\n",
        "ScreenRecording ScreenRecording\n",
        "MathematicsTestTool MathematicsTestTool\n",
        "Assessment Assessment\n",
        "Docentprofessionalisering Docentprofessionalisering\n",
        "Themabijeenkomst Themabijeenkomst\n",
        "MapleTA MapleTA\n",
        "TPACK TPACK\n",
        "InteractiveTeachingMehodology InteractiveTeachingMehodology\n",
        "TestBasedLearning TestBasedLearning\n",
        "OnlineSupport OnlineSupport\n",
        "InformationStudies InformationStudies\n",
        "OnlineSamenwerkingtools OnlineSamenwerkingtools\n",
        "StudentOwnedLearning StudentOwnedLearning\n",
        "iThenticate iThenticate\n",
        "JournalistMethod JournalistMethod\n",
        "CooperativeLearning CooperativeLearning\n",
        "Labster Labster\n",
        "LearningObjectives LearningObjectives\n",
        "ActiveLearning ActiveLearning\n",
        "LearningRecordStore LearningRecordStore\n",
        "ScienceTeacherEducation ScienceTeacherEducation\n",
        "EChemTest EChemTest\n",
        "LinguisticHeterogeneity LinguisticHeterogeneity\n",
        "ECTN ECTN\n",
        "Think-pair-share Think-pair-share\n",
        "Wiki Wiki\n",
        "Proctoring Proctoring\n",
        "Inclusion Inclusion\n",
        "OnlineSamenwerking OnlineSamenwerking\n",
        "DiscussionBoards DiscussionBoards\n",
        "EvidenceBasedResearch EvidenceBasedResearch\n",
        "Low-costExperiments Low-costExperiments\n",
        "Portfolio Portfolio\n",
        "LearningAnalyticsDashboard LearningAnalyticsDashboard\n",
        "CloudVotingSystems CloudVotingSystems\n",
        "number of tags: 146\n",
        "number of tags: 146\n"
       ]
      },
      {
       "metadata": {},
       "output_type": "pyout",
       "prompt_number": 5,
       "text": [
        "(36, 0.2465753424657534)"
       ]
      }
     ],
     "prompt_number": 5
    },
    {
     "cell_type": "code",
     "collapsed": false,
     "input": [
      "\n",
      "document_link_frequency = {}\n",
      "for doc in wrapper.items():\n",
      "    document_link_frequency[doc] = 0\n",
      "\n",
      "for doc in wrapper.items():\n",
      "    for link in wrapper.item(doc)['links']:\n",
      "        document_link_frequency[link] += 1\n",
      "import numpy as np\n",
      "print(np.average(document_link_frequency.values()))"
     ],
     "language": "python",
     "metadata": {},
     "outputs": [
      {
       "output_type": "stream",
       "stream": "stdout",
       "text": [
        "2.85416666667\n"
       ]
      }
     ],
     "prompt_number": 14
    },
    {
     "cell_type": "code",
     "collapsed": false,
     "input": [],
     "language": "python",
     "metadata": {},
     "outputs": []
    }
   ],
   "metadata": {}
  }
 ]
}