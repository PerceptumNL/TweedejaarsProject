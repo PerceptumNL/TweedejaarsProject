{
 "metadata": {
  "name": "",
  "signature": "sha256:0c5ad42708f58f370c374d6e2ea582dfe3af067890e581110baa040f9d287924"
 },
 "nbformat": 3,
 "nbformat_minor": 0,
 "worksheets": [
  {
   "cells": [
    {
     "cell_type": "code",
     "collapsed": false,
     "input": [
      "# Determines percentage correct per type\n",
      "import json\n",
      "from decimal import *\n",
      "import numpy as np\n",
      "\n",
      "def percentage_correct_per_type(vectorizer, distance):\n",
      "    json_data= open('../data/final_analysis/{0}_{1}.json'.format(vectorizer, distance)).read()\n",
      "    data = json.loads(json_data)\n",
      "\n",
      "    percentages = {}\n",
      "    types = {}\n",
      "    for doc in data:\n",
      "        correct = 0\n",
      "        total = 0\n",
      "        if types.get(data[doc]['type']) == None:\n",
      "            types[data[doc]['type']] = {}\n",
      "            \n",
      "        for link in data[doc]['links']:\n",
      "            linktype = data[doc]['links'][link]['type']\n",
      "            if types[data[doc]['type']].get(linktype) == None:\n",
      "                types[data[doc]['type']][linktype] = 1\n",
      "            else:\n",
      "                types[data[doc]['type']][linktype] += 1\n",
      "\n",
      "            rlink = data[doc]['links'][link]\n",
      "            if rlink.has_key('correct') and rlink['correct'] == True:\n",
      "                correct += 1\n",
      "                total += 1\n",
      "            if rlink.has_key('not_recalled') and rlink['not_recalled'] == True:\n",
      "                total += 1\n",
      "\n",
      "        percentage = Decimal(correct)/total\n",
      "        ntype = data[doc]['type']\n",
      "        if percentages.has_key(ntype):\n",
      "            percentages[ntype].append(percentage)\n",
      "        else:\n",
      "            percentages[ntype] = [percentage]\n",
      "\n",
      "    for ntype in percentages:\n",
      "        mean = np.mean(percentages[ntype])\n",
      "        if len(ntype) < 8:\n",
      "            ntype += '\\t'\n",
      "        print('{0} \\t{1}'.format(ntype, mean))\n",
      "    \n",
      "    print('\\n Number of links to other types ')\n",
      "    for ntype in types:\n",
      "        print ntype + \": \"\n",
      "        print types[ntype]\n",
      "percentage_correct_per_type('simple_tag_similarity', 'cosine')"
     ],
     "language": "python",
     "metadata": {},
     "outputs": [
      {
       "output_type": "stream",
       "stream": "stdout",
       "text": [
        "Information \t0.2111255411255411255411255411\n",
        "Question \t0.1848370927318295739348370927\n",
        "Good Practice \t0.6290476190476190476190476192\n",
        "Project\t \t0.3116402116402116402116402117\n",
        "Person\t \t0.163125000000000000000000000\n",
        "Event\t \t0.6805555555555555555555555557\n",
        "\n",
        " Number of links to other types \n",
        "Information: \n",
        "{u'Information': 78, u'Glossary': 44, u'Question': 16, u'Good Practice': 8, u'Project': 11, u'Person': 50, u'Event': 8}\n",
        "Question: \n",
        "{u'Information': 23, u'Glossary': 5, u'Question': 29, u'Good Practice': 13, u'Project': 8, u'Person': 23, u'Event': 4}\n",
        "Good Practice: \n",
        "{u'Information': 11, u'Glossary': 8, u'Question': 5, u'Good Practice': 3, u'Project': 3, u'Person': 1, u'Event': 4}\n",
        "Project: \n",
        "{u'Information': 15, u'Glossary': 10, u'Question': 8, u'Good Practice': 3, u'Project': 14, u'Person': 12, u'Event': 5}\n",
        "Person: \n",
        "{u'Information': 68, u'Glossary': 35, u'Question': 17, u'Good Practice': 4, u'Project': 12, u'Person': 54, u'Event': 7}\n",
        "Event: \n",
        "{u'Information': 7, u'Glossary': 2, u'Good Practice': 4, u'Project': 4, u'Person': 5, u'Event': 2}\n"
       ]
      }
     ],
     "prompt_number": 19
    },
    {
     "cell_type": "code",
     "collapsed": false,
     "input": [],
     "language": "python",
     "metadata": {},
     "outputs": []
    }
   ],
   "metadata": {}
  }
 ]
}