{
 "metadata": {
  "name": "",
  "signature": "sha256:6194a5aab2c5f86c8504ca81b2eb80ffb720a446a574ec267b9f464f93546bf6"
 },
 "nbformat": 3,
 "nbformat_minor": 0,
 "worksheets": [
  {
   "cells": [
    {
     "cell_type": "heading",
     "level": 1,
     "metadata": {},
     "source": [
      "Journal Starfish Project"
     ]
    },
    {
     "cell_type": "markdown",
     "metadata": {},
     "source": [
      "## June 04\n",
      "Today we talked with the client to specify the vision for the project based on the criteria we learned during the scrum workshop by Silverline."
     ]
    }
   ],
   "metadata": {}
  }
 ]
}