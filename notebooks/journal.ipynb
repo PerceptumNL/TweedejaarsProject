{
 "metadata": {
  "name": "",
  "signature": "sha256:49073164d024d85340efd447bef7a0459ec5f76c6630f23c60fdf314f64ae195"
 },
 "nbformat": 3,
 "nbformat_minor": 0,
 "worksheets": [
  {
   "cells": [
    {
     "cell_type": "heading",
     "level": 1,
     "metadata": {},
     "source": [
      "Journal Starfish Project"
     ]
    },
    {
     "cell_type": "markdown",
     "metadata": {},
     "source": [
      "## June 04\n",
      "\n",
      "### Scrum Workshop and Backlog\n",
      "The day started with a scrum workshop hosted by Silverline. During this workshop we learned how to use scrum for software projects. During this workshop it became clear that it is hard for us to completely implement scrum during the project. First because we only have a small team so a real scrum master would be a bit overdone. Secondly because currently we don't completely know how to solve that problem given by the client. This means we first have to do research on the problem. Currently we are working on a first sollution that was proposed by the client. But after finishing this we will work on improving the results step by step. With this in mind we sat down with our client today to define the first items in our backlog. We defined multiple sollutions that we have have come up with as items on the backlog. Also the implementation of the scaffold software and defenition and implementation of the evaluation metric are on the backlog. For now we will try to stick to the sprint, but if we find out that these are still to limited for us to achieve something we will switch to a more kanban like process [1] as was recommended during the workshop.\n",
      "\n",
      "### Evaluation Metric\n",
      "We also took the time to take a first stab at defining a evaluation metric.\n",
      "\n",
      "\\begin{align}\n",
      "D &= \\text{Set of all documents} \\\\\n",
      "R &\\subset D = \\text{Set of all relevant documents} \\\\\n",
      "\\text{dist}(d) &= \\text{distance of document $d$} \\\\\n",
      "\\text{ndist}(d) &= \\frac{|\\text{dist}(d)|}{\\max_{\\delta \\in D}|dist(\\delta)|}\n",
      "\\end{align}\n",
      "\n",
      "With these we define the following metric to evaluate the algorithm for a single document\n",
      "\n",
      "$$ \\frac{\\frac{1}{|R|}\\sum_{d\\in R} \\text{ndist}(d)}{\\frac{1}{|\\overline{R}|}\\sum_{d\\in \\overline{R}}ndist(d)} $$\n",
      "\n",
      "We discussed these with the client and find out that a confusion matrix may be better as first evaluation metric. Therefore we will start with implementing a confusion matrix and will try to define a evaluation metric later.\n",
      "\n",
      "\n",
      "[1] Kanban. (n.d.). In Wikipedia. Retrieved June 4, 2014, from [http://en.wikipedia.org/wiki/Kanban_(development)](http://bit.ly/1pFZKER)"
     ]
    },
    {
     "cell_type": "markdown",
     "metadata": {},
     "source": [
      "## June 03\n",
      "Today we finished a bare boned version of the solution proposed in the project proposal. From tommorow a more detailed journal will be writter every day for the rest of the project."
     ]
    }
   ],
   "metadata": {}
  }
 ]
}