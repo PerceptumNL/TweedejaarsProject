{
 "metadata": {
  "name": "",
  "signature": "sha256:8101d0dd735e288f92964f2e509bff88ef78721203fcd421391b344c16cd9fc9"
 },
 "nbformat": 3,
 "nbformat_minor": 0,
 "worksheets": [
  {
   "cells": [
    {
     "cell_type": "heading",
     "level": 1,
     "metadata": {},
     "source": [
      "Journal Starfish Project"
     ]
    },
    {
     "cell_type": "markdown",
     "metadata": {},
     "source": [
      "## June 04\n",
      "By the end of the day the journal for june 4th will appear here."
     ]
    }
   ],
   "metadata": {}
  }
 ]
}