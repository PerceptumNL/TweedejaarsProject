{
 "metadata": {
  "name": "",
  "signature": "sha256:0289738456885779050f5fea3798143dc21f0d2fff187806e4fba66af93bdf88"
 },
 "nbformat": 3,
 "nbformat_minor": 0,
 "worksheets": [
  {
   "cells": [
    {
     "cell_type": "markdown",
     "metadata": {},
     "source": [
      "###Computing the tag similarity matrix\n",
      "\n",
      "Using the method proposed in http://dx.doi.org/10.4304/jcp.6.1.59-66"
     ]
    },
    {
     "cell_type": "code",
     "collapsed": false,
     "input": [
      "from itertools import combinations\n",
      "import numpy as np\n",
      "\n",
      "tags_per_document = [[0, 1, 2], [0, 1, 3]]\n",
      "\n",
      "def all_tags(tags):\n",
      "    return list(set(([item for sublist in tags for item in sublist])))\n",
      "\n",
      "def occurence_count(item, lists):\n",
      "    return len([x for x in lists if item in x])\n",
      "\n",
      "def occurence_count_double(item1, item2, lists):\n",
      "    return len([x for x in lists if (item1 in x and item2 in x)])\n",
      "\n",
      "def occurrence_frequency(item1, item2, lists):\n",
      "    f_1 = occurence_count(item1, lists)\n",
      "    f_2 = occurence_count(item2, lists)\n",
      "    f_12 = occurence_count_double(item1, item2, lists)\n",
      "    return f_12/float(f_1+f_2 - f_12)\n",
      "\n",
      "def occurrence_frequency_matrix(tags):\n",
      "    unique_tags = all_tags(tags)\n",
      "    C = np.identity(len(unique_tags))\n",
      "    combi = [x for x in combinations(unique_tags, 2)]\n",
      "    for (item1, item2) in combi:\n",
      "        index1 = unique_tags.index(item1)\n",
      "        index2 = unique_tags.index(item2)\n",
      "        C[index1, index2] = occurrence_frequency(item1, item2, tags)\n",
      "        C[index2, index1] = occurrence_frequency(item1, item2, tags)\n",
      "    return (C, unique_tags)\n",
      "\n",
      "(ofc_matrix, unique_tag_set) = occurrence_frequency_matrix(tags_per_document)"
     ],
     "language": "python",
     "metadata": {},
     "outputs": [],
     "prompt_number": 1
    },
    {
     "cell_type": "markdown",
     "metadata": {},
     "source": [
      "### Modified cholesky transform"
     ]
    },
    {
     "cell_type": "code",
     "collapsed": false,
     "input": [
      "import os, sys\n",
      "sys.path.append(os.path.join(os.path.abspath('..'), 'src'))\n",
      "from numpy.linalg import cholesky\n",
      "from math import sqrt, acos\n",
      "\n",
      "def modified_cholesky(C):\n",
      "    L = np.zeros(C.shape)\n",
      "    n = C.shape[0]\n",
      "    print(n)\n",
      "    for i in xrange(len(C)):\n",
      "        for j in xrange(i+1):\n",
      "            q = [L[i, k] * L[j, k] for k in xrange(j)]\n",
      "            s = sum(q)\n",
      "            if (i == j):\n",
      "                square_this = C[i, i] - s\n",
      "                if square_this <= 0:\n",
      "                    L[i,:] = 0\n",
      "                    L[:,i] = 0\n",
      "                else:\n",
      "                    insert = sqrt(C[i, i] - s)  \n",
      "                    L[i, j] = insert\n",
      "            else:\n",
      "                if L[j, j] != 0:\n",
      "                    L[i, j] = (1.0 / L[j, j] * (C[i, j] - s))\n",
      "    return L\n",
      "        \n",
      "def decompose(C):\n",
      "    try:\n",
      "        return cholesky(C)\n",
      "    except Exception, e:\n",
      "        return modified_cholesky(C)\n",
      "        \n",
      "smooth_matrix = decompose(ofc_matrix)\n",
      "print(smooth_matrix)"
     ],
     "language": "python",
     "metadata": {},
     "outputs": [
      {
       "output_type": "stream",
       "stream": "stdout",
       "text": [
        "4\n",
        "[[ 1.          0.          0.          0.        ]\n",
        " [ 0.          0.          0.          0.        ]\n",
        " [ 0.5         0.          0.8660254   0.        ]\n",
        " [ 0.5         0.         -0.28867513  0.81649658]]\n"
       ]
      }
     ],
     "prompt_number": 3
    },
    {
     "cell_type": "markdown",
     "metadata": {},
     "source": [
      "# compute vector for a tag"
     ]
    },
    {
     "cell_type": "code",
     "collapsed": false,
     "input": [
      "\n",
      "def most_similar_tag_index(tag, similarity_matrix, unique_tags):\n",
      "    i = unique_tags.index(tag)\n",
      "    v = similarity_matrix[i,:]\n",
      "    v[i] = 0\n",
      "    return v.argmax()\n",
      "\n",
      "def tag_set_to_vector(tag_set, normal_similarity, smooth_similarity, unique_tags):\n",
      "    v = np.zeros([1, smooth_similarity.shape[1]], dtype=np.matrix)\n",
      "    \n",
      "    for tag in tag_set:\n",
      "        i = unique_tags.index(tag)\n",
      "        new_v = smooth_similarity[i,:]\n",
      "        if np.count_nonzero(new_v) == 0:\n",
      "            i = most_similar_tag_index(tag, normal_similarity, unique_tags)\n",
      "            new_v = smooth_similarity[i,:]\n",
      "        v += new_v\n",
      "    return v\n",
      "\n",
      "print(ofc_matrix)\n",
      "print(smooth_matrix)\n",
      "\n",
      "import distance as dmetric\n",
      "\n",
      "def print_distance(v1, v2):\n",
      "    v = v1 - v2\n",
      "    print(\"Euclidean: {0}\".format(sqrt(v.dot(v.T))))\n",
      "    norm_a = sqrt(v1.dot(v1.T))\n",
      "    norm_b = sqrt(v2.dot(v2.T))\n",
      "    dot = v1.dot(v2.T)\n",
      "    if norm_a * norm_b * dot == 0:\n",
      "        print(\"Euclidean: {0}\".format(1e99))\n",
      "    else:\n",
      "        print(\"Cosine   : {0}\".format((dot / (norm_a*norm_b))[0][0]))\n",
      "    print(\"\")\n",
      "\n",
      "compare = [1, 3]\n",
      "v1 = tag_set_to_vector(compare, ofc_matrix, smooth_matrix, unique_tag_set)\n",
      "for tag in tags_per_document:\n",
      "    v2 = tag_set_to_vector(tag, ofc_matrix, smooth_matrix, unique_tag_set)\n",
      "    print(\"Comparing {0} and {1}\".format(compare, tag))\n",
      "    print_distance(v1, v2)\n",
      "\n",
      "    \n",
      "import os, sys\n",
      "sys.path.append(os.path.join(os.path.abspath('..'), 'src'))  \n",
      "import distance\n",
      "print(v1.dot(v1.T))\n",
      "print(distance.cosine(v1, v1))\n"
     ],
     "language": "python",
     "metadata": {},
     "outputs": [
      {
       "output_type": "stream",
       "stream": "stdout",
       "text": [
        "[[ 1.   1.   0.5  0.5]\n",
        " [ 1.   1.   0.5  0.5]\n",
        " [ 0.5  0.5  1.   0. ]\n",
        " [ 0.5  0.5  0.   1. ]]\n",
        "[[ 1.          0.          0.          0.        ]\n",
        " [ 0.          0.          0.          0.        ]\n",
        " [ 0.5         0.          0.8660254   0.        ]\n",
        " [ 0.5         0.         -0.28867513  0.81649658]]\n",
        "Comparing [1, 3] and [0, 1, 2]\n",
        "Euclidean: 1.73205080757\n",
        "Cosine   : 0.763762615826\n",
        "\n",
        "Comparing [1, 3] and [0, 1, 3]\n",
        "Euclidean: 1.0\n",
        "Cosine   : 0.981980506062\n",
        "\n",
        "[[3.0]]\n"
       ]
      },
      {
       "ename": "TypeError",
       "evalue": "unsupported operand type(s) for +: 'int' and 'str'",
       "output_type": "pyerr",
       "traceback": [
        "\u001b[0;31m---------------------------------------------------------------------------\u001b[0m\n\u001b[0;31mTypeError\u001b[0m                                 Traceback (most recent call last)",
        "\u001b[0;32m<ipython-input-4-6a3457789ea0>\u001b[0m in \u001b[0;36m<module>\u001b[0;34m()\u001b[0m\n\u001b[1;32m     47\u001b[0m \u001b[0;32mimport\u001b[0m \u001b[0mdistance\u001b[0m\u001b[0;34m\u001b[0m\u001b[0m\n\u001b[1;32m     48\u001b[0m \u001b[0;32mprint\u001b[0m\u001b[0;34m(\u001b[0m\u001b[0mv1\u001b[0m\u001b[0;34m.\u001b[0m\u001b[0mdot\u001b[0m\u001b[0;34m(\u001b[0m\u001b[0mv1\u001b[0m\u001b[0;34m.\u001b[0m\u001b[0mT\u001b[0m\u001b[0;34m)\u001b[0m\u001b[0;34m)\u001b[0m\u001b[0;34m\u001b[0m\u001b[0m\n\u001b[0;32m---> 49\u001b[0;31m \u001b[0;32mprint\u001b[0m\u001b[0;34m(\u001b[0m\u001b[0mdistance\u001b[0m\u001b[0;34m.\u001b[0m\u001b[0mcosine\u001b[0m\u001b[0;34m(\u001b[0m\u001b[0mv1\u001b[0m\u001b[0;34m,\u001b[0m \u001b[0mv1\u001b[0m\u001b[0;34m)\u001b[0m\u001b[0;34m)\u001b[0m\u001b[0;34m\u001b[0m\u001b[0m\n\u001b[0m",
        "\u001b[0;32m/Users/robbert/TweedejaarsProject/src/distance.py\u001b[0m in \u001b[0;36mcosine\u001b[0;34m(a, b)\u001b[0m\n\u001b[1;32m     31\u001b[0m     \u001b[0ma\u001b[0m \u001b[0mnegative\u001b[0m \u001b[0mvalue\u001b[0m \u001b[0msuch\u001b[0m \u001b[0mthat\u001b[0m \u001b[0mthe\u001b[0m \u001b[0mmaximum\u001b[0m \u001b[0mvalue\u001b[0m \u001b[0mhas\u001b[0m \u001b[0mthe\u001b[0m \u001b[0mlowest\u001b[0m \u001b[0mdistance\u001b[0m\u001b[0;34m.\u001b[0m\u001b[0;34m\u001b[0m\u001b[0m\n\u001b[1;32m     32\u001b[0m     \"\"\"\n\u001b[0;32m---> 33\u001b[0;31m     \u001b[0mnorm_a\u001b[0m \u001b[0;34m=\u001b[0m \u001b[0m__norm\u001b[0m\u001b[0;34m(\u001b[0m\u001b[0ma\u001b[0m\u001b[0;34m)\u001b[0m\u001b[0;34m\u001b[0m\u001b[0m\n\u001b[0m\u001b[1;32m     34\u001b[0m     \u001b[0mnorm_b\u001b[0m \u001b[0;34m=\u001b[0m \u001b[0m__norm\u001b[0m\u001b[0;34m(\u001b[0m\u001b[0mb\u001b[0m\u001b[0;34m)\u001b[0m\u001b[0;34m\u001b[0m\u001b[0m\n\u001b[1;32m     35\u001b[0m     \u001b[0mdot\u001b[0m \u001b[0;34m=\u001b[0m \u001b[0m__dotproduct\u001b[0m\u001b[0;34m(\u001b[0m\u001b[0ma\u001b[0m\u001b[0;34m,\u001b[0m\u001b[0mb\u001b[0m\u001b[0;34m)\u001b[0m\u001b[0;34m\u001b[0m\u001b[0m\n",
        "\u001b[0;32m/Users/robbert/TweedejaarsProject/src/distance.py\u001b[0m in \u001b[0;36m__norm\u001b[0;34m(a)\u001b[0m\n\u001b[1;32m     18\u001b[0m     \u001b[0mReturns\u001b[0m \u001b[0mthe\u001b[0m \u001b[0mnorm\u001b[0m \u001b[0mof\u001b[0m \u001b[0mvector\u001b[0m \u001b[0ma\u001b[0m\u001b[0;34m.\u001b[0m \u001b[0mAlso\u001b[0m \u001b[0mworks\u001b[0m \u001b[0mon\u001b[0m \u001b[0msparse\u001b[0m \u001b[0mmatrices\u001b[0m\u001b[0;34m.\u001b[0m\u001b[0;34m\u001b[0m\u001b[0m\n\u001b[1;32m     19\u001b[0m     \"\"\"\n\u001b[0;32m---> 20\u001b[0;31m     \u001b[0;32mreturn\u001b[0m \u001b[0mnp\u001b[0m\u001b[0;34m.\u001b[0m\u001b[0msqrt\u001b[0m\u001b[0;34m(\u001b[0m\u001b[0m__dotproduct\u001b[0m\u001b[0;34m(\u001b[0m\u001b[0ma\u001b[0m\u001b[0;34m,\u001b[0m\u001b[0ma\u001b[0m\u001b[0;34m)\u001b[0m\u001b[0;34m)\u001b[0m\u001b[0;34m\u001b[0m\u001b[0m\n\u001b[0m\u001b[1;32m     21\u001b[0m \u001b[0;34m\u001b[0m\u001b[0m\n\u001b[1;32m     22\u001b[0m \u001b[0;32mdef\u001b[0m \u001b[0meuclidean\u001b[0m\u001b[0;34m(\u001b[0m\u001b[0ma\u001b[0m\u001b[0;34m,\u001b[0m \u001b[0mb\u001b[0m\u001b[0;34m)\u001b[0m\u001b[0;34m:\u001b[0m\u001b[0;34m\u001b[0m\u001b[0m\n",
        "\u001b[0;32m/Users/robbert/TweedejaarsProject/src/distance.py\u001b[0m in \u001b[0;36m__dotproduct\u001b[0;34m(a, b)\u001b[0m\n\u001b[1;32m     12\u001b[0m     \u001b[0mallways\u001b[0m \u001b[0mreturns\u001b[0m \u001b[0ma\u001b[0m \u001b[0mfloat\u001b[0m \u001b[0minstead\u001b[0m \u001b[0mof\u001b[0m \u001b[0;36m1\u001b[0m\u001b[0mx1\u001b[0m \u001b[0mmatrix\u001b[0m\u001b[0;34m.\u001b[0m\u001b[0;34m\u001b[0m\u001b[0m\n\u001b[1;32m     13\u001b[0m     \"\"\"\n\u001b[0;32m---> 14\u001b[0;31m     \u001b[0;32mreturn\u001b[0m \u001b[0msum\u001b[0m\u001b[0;34m(\u001b[0m\u001b[0ma\u001b[0m\u001b[0;34m.\u001b[0m\u001b[0mdot\u001b[0m\u001b[0;34m(\u001b[0m\u001b[0mb\u001b[0m\u001b[0;34m.\u001b[0m\u001b[0mT\u001b[0m\u001b[0;34m)\u001b[0m\u001b[0;34m.\u001b[0m\u001b[0mdata\u001b[0m\u001b[0;34m)\u001b[0m\u001b[0;34m\u001b[0m\u001b[0m\n\u001b[0m\u001b[1;32m     15\u001b[0m \u001b[0;34m\u001b[0m\u001b[0m\n\u001b[1;32m     16\u001b[0m \u001b[0;32mdef\u001b[0m \u001b[0m__norm\u001b[0m\u001b[0;34m(\u001b[0m\u001b[0ma\u001b[0m\u001b[0;34m)\u001b[0m\u001b[0;34m:\u001b[0m\u001b[0;34m\u001b[0m\u001b[0m\n",
        "\u001b[0;31mTypeError\u001b[0m: unsupported operand type(s) for +: 'int' and 'str'"
       ]
      }
     ],
     "prompt_number": 4
    },
    {
     "cell_type": "code",
     "collapsed": false,
     "input": [],
     "language": "python",
     "metadata": {},
     "outputs": []
    },
    {
     "cell_type": "code",
     "collapsed": false,
     "input": [],
     "language": "python",
     "metadata": {},
     "outputs": []
    }
   ],
   "metadata": {}
  }
 ]
}