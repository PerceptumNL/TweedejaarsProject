{
 "metadata": {
  "name": "",
  "signature": "sha256:a6c4a557a68d254cb59202b320cb8201c99946e535f18698390cbbf12e987f90"
 },
 "nbformat": 3,
 "nbformat_minor": 0,
 "worksheets": [
  {
   "cells": [
    {
     "cell_type": "markdown",
     "metadata": {},
     "source": [
      "#Preprocessing steps for html to plaintext\n"
     ]
    },
    {
     "cell_type": "code",
     "collapsed": false,
     "input": [
      "from __future__ import with_statement\n",
      "import cPickle as pickle\n",
      "\n",
      "with open('../data/export_starfish_tjp.pickle') as f:\n",
      "    data = pickle.load(f)\n",
      "    glossary = data['items'][data['tags']['LearningAnalytics']['glossary']]['text']\n"
     ],
     "language": "python",
     "metadata": {},
     "outputs": [],
     "prompt_number": 80
    },
    {
     "cell_type": "markdown",
     "metadata": {},
     "source": [
      "Strip HTML Tags"
     ]
    },
    {
     "cell_type": "code",
     "collapsed": false,
     "input": [
      "import nltk\n",
      "glossary_strippedHTML = nltk.clean_html(glossary)"
     ],
     "language": "python",
     "metadata": {},
     "outputs": [],
     "prompt_number": 81
    },
    {
     "cell_type": "markdown",
     "metadata": {},
     "source": [
      "Convert HTML entities to Unicode"
     ]
    },
    {
     "cell_type": "code",
     "collapsed": false,
     "input": [
      "from BeautifulSoup import BeautifulSoup\n",
      "import re\n",
      "\n",
      "# regex to also decode hex entities\n",
      "hexentityMassage = [(re.compile('&#x([^;]+);'), lambda m: '&#%d;' % int(m.group(1), 16))]\n",
      "glossary_tag = BeautifulSoup(glossary_strippedHTML, convertEntities=BeautifulSoup.HTML_ENTITIES, markupMassage=hexentityMassage)\n",
      "glossary_unicode = glossary_tag.text.encode('utf-8')"
     ],
     "language": "python",
     "metadata": {},
     "outputs": [],
     "prompt_number": 82
    },
    {
     "cell_type": "markdown",
     "metadata": {},
     "source": [
      "Convert unicode characters to ascii"
     ]
    },
    {
     "cell_type": "code",
     "collapsed": false,
     "input": [
      "from unidecode import unidecode\n",
      "\n",
      "glossary_ascii = unidecode(glossary_unicode)"
     ],
     "language": "python",
     "metadata": {},
     "outputs": [],
     "prompt_number": 83
    },
    {
     "cell_type": "code",
     "collapsed": false,
     "input": [
      "from sklearn.feature_extraction.stop_words import ENGLISH_STOP_WORDS\n",
      "stopwords = ENGLISH_STOP_WORDS\n",
      "\n",
      "# could also use nltk stopwords\n",
      "# from nltk.corpus import stopwords \n",
      "# stopwords = stopwords.words('english')\n",
      "\n",
      "filtered = [w for w in glossary_ascii if not w in stopwords]"
     ],
     "language": "python",
     "metadata": {},
     "outputs": [],
     "prompt_number": 96
    },
    {
     "cell_type": "code",
     "collapsed": false,
     "input": [
      "print(glossary)\n",
      "print(\"------------------------------\")\n",
      "print(filtered)"
     ],
     "language": "python",
     "metadata": {},
     "outputs": [
      {
       "output_type": "stream",
       "stream": "stdout",
       "text": [
        "<p>SoLAR, the international community for research in this field, defines learning analytics as the &#x2018;measurement, collection, analysis and reporting of data about learners and their contexts, for purposes of understanding and optimizing learning and the environments in which it occurs&#x2019;. The community shares the view that this involves a cyclical process, as described in (Clow, 2012). This cyclical process can be compared to a lecturer posing a question in order to take a didactic decision on the basis of the analysed answer. As the scale of courses expands, it is proving difficult for lecturers to optimally improve their education by means of this cycle. At the same time, a growing portion of the learning process is manifesting itself in the form of digital data. Learning analytics uses this digital data to apply the same cycle on a large scale in support of the learning process. Learning analytics centres around the support of students and lecturers. Related fields apply some of the same data and technologies used in learning analytics, while focusing on different questions (Chatti, 2012). Whereas learning analytics focuses on supporting the learning process, educational data mining is more oriented towards the technological potential for extracting value from large quantities of data (Ferguson, 2012). Finally, academic analytics applies techniques from the field of business intelligence to data at institutional level in order to improve study yields (Long, 2011).&nbsp;</p>\r\n",
        "\r\n",
        "<h3>References</h3>\r\n",
        "\r\n",
        "\r\n",
        "<ul>\r\n",
        "\r\n",
        "\t<li><span style=\"line-height: 1.5em;\">Chatti, M. A., Dyckhoff, A. L., Schroeder, U., &amp; Th&#x00fc;s, H. (2012). A reference model for learning analytics. International Journal of Technology Enhanced Learning, 4(5), 318-331.</span></li>\r\n",
        "\r\n",
        "\t<li><span style=\"line-height: 1.5em;\">Clow, Doug (2012). The learning analytics cycle: closing the loop effectively. In: LAK12: 2nd International Conference on Learning Analytics &amp; Knowledge, 29 April - 2 May 2012, Vancouver, BC.</span></li>\r\n",
        "\r\n",
        "\t<li><span style=\"line-height: 1.5em;\">Ferguson, Rebecca (2012). Learning analytics: drivers, developments and challenges. International Journal of Technology Enhanced Learning, 4(5/6) pp. 304-317.</span></li>\r\n",
        "\r\n",
        "\t<li><span style=\"line-height: 1.5em;\">Long, P., &amp; Siemens, G. (2011). Penetrating the fog: Analytics in learning and education. Educause Review, 46(5), 30-32.</span></li></ul>\r\n",
        "\n",
        "------------------------------\n",
        "['S', 'o', 'L', 'A', 'R', ',', ' ', 't', 'h', 'e', ' ', 'n', 't', 'e', 'r', 'n', 't', 'o', 'n', 'l', ' ', 'c', 'o', 'm', 'm', 'u', 'n', 't', 'y', ' ', 'f', 'o', 'r', ' ', 'r', 'e', 's', 'e', 'r', 'c', 'h', ' ', 'n', ' ', 't', 'h', 's', ' ', 'f', 'e', 'l', 'd', ',', ' ', 'd', 'e', 'f', 'n', 'e', 's', ' ', 'l', 'e', 'r', 'n', 'n', 'g', ' ', 'n', 'l', 'y', 't', 'c', 's', ' ', 's', ' ', 't', 'h', 'e', ' ', 'm', 'e', 's', 'u', 'r', 'e', 'm', 'e', 'n', 't', ',', ' ', 'c', 'o', 'l', 'l', 'e', 'c', 't', 'o', 'n', ',', ' ', 'n', 'l', 'y', 's', 's', ' ', 'n', 'd', ' ', 'r', 'e', 'p', 'o', 'r', 't', 'n', 'g', ' ', 'o', 'f', ' ', 'd', 't', ' ', 'b', 'o', 'u', 't', ' ', 'l', 'e', 'r', 'n', 'e', 'r', 's', ' ', 'n', 'd', ' ', 't', 'h', 'e', 'r', ' ', 'c', 'o', 'n', 't', 'e', 'x', 't', 's', ',', ' ', 'f', 'o', 'r', ' ', 'p', 'u', 'r', 'p', 'o', 's', 'e', 's', ' ', 'o', 'f', ' ', 'u', 'n', 'd', 'e', 'r', 's', 't', 'n', 'd', 'n', 'g', ' ', 'n', 'd', ' ', 'o', 'p', 't', 'm', 'z', 'n', 'g', ' ', 'l', 'e', 'r', 'n', 'n', 'g', ' ', 'n', 'd', ' ', 't', 'h', 'e', ' ', 'e', 'n', 'v', 'r', 'o', 'n', 'm', 'e', 'n', 't', 's', ' ', 'n', ' ', 'w', 'h', 'c', 'h', ' ', 't', ' ', 'o', 'c', 'c', 'u', 'r', 's', '.', ' ', 'T', 'h', 'e', ' ', 'c', 'o', 'm', 'm', 'u', 'n', 't', 'y', ' ', 's', 'h', 'r', 'e', 's', ' ', 't', 'h', 'e', ' ', 'v', 'e', 'w', ' ', 't', 'h', 't', ' ', 't', 'h', 's', ' ', 'n', 'v', 'o', 'l', 'v', 'e', 's', ' ', ' ', 'c', 'y', 'c', 'l', 'c', 'l', ' ', 'p', 'r', 'o', 'c', 'e', 's', 's', ',', ' ', 's', ' ', 'd', 'e', 's', 'c', 'r', 'b', 'e', 'd', ' ', 'n', ' ', '(', 'C', 'l', 'o', 'w', ',', ' ', '2', '0', '1', '2', ')', '.', ' ', 'T', 'h', 's', ' ', 'c', 'y', 'c', 'l', 'c', 'l', ' ', 'p', 'r', 'o', 'c', 'e', 's', 's', ' ', 'c', 'n', ' ', 'b', 'e', ' ', 'c', 'o', 'm', 'p', 'r', 'e', 'd', ' ', 't', 'o', ' ', ' ', 'l', 'e', 'c', 't', 'u', 'r', 'e', 'r', ' ', 'p', 'o', 's', 'n', 'g', ' ', ' ', 'q', 'u', 'e', 's', 't', 'o', 'n', ' ', 'n', ' ', 'o', 'r', 'd', 'e', 'r', ' ', 't', 'o', ' ', 't', 'k', 'e', ' ', ' ', 'd', 'd', 'c', 't', 'c', ' ', 'd', 'e', 'c', 's', 'o', 'n', ' ', 'o', 'n', ' ', 't', 'h', 'e', ' ', 'b', 's', 's', ' ', 'o', 'f', ' ', 't', 'h', 'e', ' ', 'n', 'l', 'y', 's', 'e', 'd', ' ', 'n', 's', 'w', 'e', 'r', '.', ' ', 'A', 's', ' ', 't', 'h', 'e', ' ', 's', 'c', 'l', 'e', ' ', 'o', 'f', ' ', 'c', 'o', 'u', 'r', 's', 'e', 's', ' ', 'e', 'x', 'p', 'n', 'd', 's', ',', ' ', 't', ' ', 's', ' ', 'p', 'r', 'o', 'v', 'n', 'g', ' ', 'd', 'f', 'f', 'c', 'u', 'l', 't', ' ', 'f', 'o', 'r', ' ', 'l', 'e', 'c', 't', 'u', 'r', 'e', 'r', 's', ' ', 't', 'o', ' ', 'o', 'p', 't', 'm', 'l', 'l', 'y', ' ', 'm', 'p', 'r', 'o', 'v', 'e', ' ', 't', 'h', 'e', 'r', ' ', 'e', 'd', 'u', 'c', 't', 'o', 'n', ' ', 'b', 'y', ' ', 'm', 'e', 'n', 's', ' ', 'o', 'f', ' ', 't', 'h', 's', ' ', 'c', 'y', 'c', 'l', 'e', '.', ' ', 'A', 't', ' ', 't', 'h', 'e', ' ', 's', 'm', 'e', ' ', 't', 'm', 'e', ',', ' ', ' ', 'g', 'r', 'o', 'w', 'n', 'g', ' ', 'p', 'o', 'r', 't', 'o', 'n', ' ', 'o', 'f', ' ', 't', 'h', 'e', ' ', 'l', 'e', 'r', 'n', 'n', 'g', ' ', 'p', 'r', 'o', 'c', 'e', 's', 's', ' ', 's', ' ', 'm', 'n', 'f', 'e', 's', 't', 'n', 'g', ' ', 't', 's', 'e', 'l', 'f', ' ', 'n', ' ', 't', 'h', 'e', ' ', 'f', 'o', 'r', 'm', ' ', 'o', 'f', ' ', 'd', 'g', 't', 'l', ' ', 'd', 't', '.', ' ', 'L', 'e', 'r', 'n', 'n', 'g', ' ', 'n', 'l', 'y', 't', 'c', 's', ' ', 'u', 's', 'e', 's', ' ', 't', 'h', 's', ' ', 'd', 'g', 't', 'l', ' ', 'd', 't', ' ', 't', 'o', ' ', 'p', 'p', 'l', 'y', ' ', 't', 'h', 'e', ' ', 's', 'm', 'e', ' ', 'c', 'y', 'c', 'l', 'e', ' ', 'o', 'n', ' ', ' ', 'l', 'r', 'g', 'e', ' ', 's', 'c', 'l', 'e', ' ', 'n', ' ', 's', 'u', 'p', 'p', 'o', 'r', 't', ' ', 'o', 'f', ' ', 't', 'h', 'e', ' ', 'l', 'e', 'r', 'n', 'n', 'g', ' ', 'p', 'r', 'o', 'c', 'e', 's', 's', '.', ' ', 'L', 'e', 'r', 'n', 'n', 'g', ' ', 'n', 'l', 'y', 't', 'c', 's', ' ', 'c', 'e', 'n', 't', 'r', 'e', 's', ' ', 'r', 'o', 'u', 'n', 'd', ' ', 't', 'h', 'e', ' ', 's', 'u', 'p', 'p', 'o', 'r', 't', ' ', 'o', 'f', ' ', 's', 't', 'u', 'd', 'e', 'n', 't', 's', ' ', 'n', 'd', ' ', 'l', 'e', 'c', 't', 'u', 'r', 'e', 'r', 's', '.', ' ', 'R', 'e', 'l', 't', 'e', 'd', ' ', 'f', 'e', 'l', 'd', 's', ' ', 'p', 'p', 'l', 'y', ' ', 's', 'o', 'm', 'e', ' ', 'o', 'f', ' ', 't', 'h', 'e', ' ', 's', 'm', 'e', ' ', 'd', 't', ' ', 'n', 'd', ' ', 't', 'e', 'c', 'h', 'n', 'o', 'l', 'o', 'g', 'e', 's', ' ', 'u', 's', 'e', 'd', ' ', 'n', ' ', 'l', 'e', 'r', 'n', 'n', 'g', ' ', 'n', 'l', 'y', 't', 'c', 's', ',', ' ', 'w', 'h', 'l', 'e', ' ', 'f', 'o', 'c', 'u', 's', 'n', 'g', ' ', 'o', 'n', ' ', 'd', 'f', 'f', 'e', 'r', 'e', 'n', 't', ' ', 'q', 'u', 'e', 's', 't', 'o', 'n', 's', ' ', '(', 'C', 'h', 't', 't', ',', ' ', '2', '0', '1', '2', ')', '.', ' ', 'W', 'h', 'e', 'r', 'e', 's', ' ', 'l', 'e', 'r', 'n', 'n', 'g', ' ', 'n', 'l', 'y', 't', 'c', 's', ' ', 'f', 'o', 'c', 'u', 's', 'e', 's', ' ', 'o', 'n', ' ', 's', 'u', 'p', 'p', 'o', 'r', 't', 'n', 'g', ' ', 't', 'h', 'e', ' ', 'l', 'e', 'r', 'n', 'n', 'g', ' ', 'p', 'r', 'o', 'c', 'e', 's', 's', ',', ' ', 'e', 'd', 'u', 'c', 't', 'o', 'n', 'l', ' ', 'd', 't', ' ', 'm', 'n', 'n', 'g', ' ', 's', ' ', 'm', 'o', 'r', 'e', ' ', 'o', 'r', 'e', 'n', 't', 'e', 'd', ' ', 't', 'o', 'w', 'r', 'd', 's', ' ', 't', 'h', 'e', ' ', 't', 'e', 'c', 'h', 'n', 'o', 'l', 'o', 'g', 'c', 'l', ' ', 'p', 'o', 't', 'e', 'n', 't', 'l', ' ', 'f', 'o', 'r', ' ', 'e', 'x', 't', 'r', 'c', 't', 'n', 'g', ' ', 'v', 'l', 'u', 'e', ' ', 'f', 'r', 'o', 'm', ' ', 'l', 'r', 'g', 'e', ' ', 'q', 'u', 'n', 't', 't', 'e', 's', ' ', 'o', 'f', ' ', 'd', 't', ' ', '(', 'F', 'e', 'r', 'g', 'u', 's', 'o', 'n', ',', ' ', '2', '0', '1', '2', ')', '.', ' ', 'F', 'n', 'l', 'l', 'y', ',', ' ', 'c', 'd', 'e', 'm', 'c', ' ', 'n', 'l', 'y', 't', 'c', 's', ' ', 'p', 'p', 'l', 'e', 's', ' ', 't', 'e', 'c', 'h', 'n', 'q', 'u', 'e', 's', ' ', 'f', 'r', 'o', 'm', ' ', 't', 'h', 'e', ' ', 'f', 'e', 'l', 'd', ' ', 'o', 'f', ' ', 'b', 'u', 's', 'n', 'e', 's', 's', ' ', 'n', 't', 'e', 'l', 'l', 'g', 'e', 'n', 'c', 'e', ' ', 't', 'o', ' ', 'd', 't', ' ', 't', ' ', 'n', 's', 't', 't', 'u', 't', 'o', 'n', 'l', ' ', 'l', 'e', 'v', 'e', 'l', ' ', 'n', ' ', 'o', 'r', 'd', 'e', 'r', ' ', 't', 'o', ' ', 'm', 'p', 'r', 'o', 'v', 'e', ' ', 's', 't', 'u', 'd', 'y', ' ', 'y', 'e', 'l', 'd', 's', ' ', '(', 'L', 'o', 'n', 'g', ',', ' ', '2', '0', '1', '1', ')', '.', ' ', '\\r', '\\n', '\\r', '\\n', ' ', 'R', 'e', 'f', 'e', 'r', 'e', 'n', 'c', 'e', 's', ' ', '\\r', '\\n', '\\r', '\\n', '\\r', '\\n', ' ', '\\r', '\\n', '\\r', '\\n', '\\t', ' ', 'C', 'h', 't', 't', ',', ' ', 'M', '.', ' ', 'A', '.', ',', ' ', 'D', 'y', 'c', 'k', 'h', 'o', 'f', 'f', ',', ' ', 'A', '.', ' ', 'L', '.', ',', ' ', 'S', 'c', 'h', 'r', 'o', 'e', 'd', 'e', 'r', ',', ' ', 'U', '.', ',', ' ', '&', ' ', 'T', 'h', 'A', '1', '/', '4', 's', ',', ' ', 'H', '.', ' ', '(', '2', '0', '1', '2', ')', '.', ' ', 'A', ' ', 'r', 'e', 'f', 'e', 'r', 'e', 'n', 'c', 'e', ' ', 'm', 'o', 'd', 'e', 'l', ' ', 'f', 'o', 'r', ' ', 'l', 'e', 'r', 'n', 'n', 'g', ' ', 'n', 'l', 'y', 't', 'c', 's', '.', ' ', 'I', 'n', 't', 'e', 'r', 'n', 't', 'o', 'n', 'l', ' ', 'J', 'o', 'u', 'r', 'n', 'l', ' ', 'o', 'f', ' ', 'T', 'e', 'c', 'h', 'n', 'o', 'l', 'o', 'g', 'y', ' ', 'E', 'n', 'h', 'n', 'c', 'e', 'd', ' ', 'L', 'e', 'r', 'n', 'n', 'g', ',', ' ', '4', '(', '5', ')', ',', ' ', '3', '1', '8', '-', '3', '3', '1', '.', ' ', '\\r', '\\n', '\\r', '\\n', '\\t', ' ', 'C', 'l', 'o', 'w', ',', ' ', 'D', 'o', 'u', 'g', ' ', '(', '2', '0', '1', '2', ')', '.', ' ', 'T', 'h', 'e', ' ', 'l', 'e', 'r', 'n', 'n', 'g', ' ', 'n', 'l', 'y', 't', 'c', 's', ' ', 'c', 'y', 'c', 'l', 'e', ':', ' ', 'c', 'l', 'o', 's', 'n', 'g', ' ', 't', 'h', 'e', ' ', 'l', 'o', 'o', 'p', ' ', 'e', 'f', 'f', 'e', 'c', 't', 'v', 'e', 'l', 'y', '.', ' ', 'I', 'n', ':', ' ', 'L', 'A', 'K', '1', '2', ':', ' ', '2', 'n', 'd', ' ', 'I', 'n', 't', 'e', 'r', 'n', 't', 'o', 'n', 'l', ' ', 'C', 'o', 'n', 'f', 'e', 'r', 'e', 'n', 'c', 'e', ' ', 'o', 'n', ' ', 'L', 'e', 'r', 'n', 'n', 'g', ' ', 'A', 'n', 'l', 'y', 't', 'c', 's', ' ', '&', ' ', 'K', 'n', 'o', 'w', 'l', 'e', 'd', 'g', 'e', ',', ' ', '2', '9', ' ', 'A', 'p', 'r', 'l', ' ', '-', ' ', '2', ' ', 'M', 'y', ' ', '2', '0', '1', '2', ',', ' ', 'V', 'n', 'c', 'o', 'u', 'v', 'e', 'r', ',', ' ', 'B', 'C', '.', ' ', '\\r', '\\n', '\\r', '\\n', '\\t', ' ', 'F', 'e', 'r', 'g', 'u', 's', 'o', 'n', ',', ' ', 'R', 'e', 'b', 'e', 'c', 'c', ' ', '(', '2', '0', '1', '2', ')', '.', ' ', 'L', 'e', 'r', 'n', 'n', 'g', ' ', 'n', 'l', 'y', 't', 'c', 's', ':', ' ', 'd', 'r', 'v', 'e', 'r', 's', ',', ' ', 'd', 'e', 'v', 'e', 'l', 'o', 'p', 'm', 'e', 'n', 't', 's', ' ', 'n', 'd', ' ', 'c', 'h', 'l', 'l', 'e', 'n', 'g', 'e', 's', '.', ' ', 'I', 'n', 't', 'e', 'r', 'n', 't', 'o', 'n', 'l', ' ', 'J', 'o', 'u', 'r', 'n', 'l', ' ', 'o', 'f', ' ', 'T', 'e', 'c', 'h', 'n', 'o', 'l', 'o', 'g', 'y', ' ', 'E', 'n', 'h', 'n', 'c', 'e', 'd', ' ', 'L', 'e', 'r', 'n', 'n', 'g', ',', ' ', '4', '(', '5', '/', '6', ')', ' ', 'p', 'p', '.', ' ', '3', '0', '4', '-', '3', '1', '7', '.', ' ', '\\r', '\\n', '\\r', '\\n', '\\t', ' ', 'L', 'o', 'n', 'g', ',', ' ', 'P', '.', ',', ' ', '&', ' ', 'S', 'e', 'm', 'e', 'n', 's', ',', ' ', 'G', '.', ' ', '(', '2', '0', '1', '1', ')', '.', ' ', 'P', 'e', 'n', 'e', 't', 'r', 't', 'n', 'g', ' ', 't', 'h', 'e', ' ', 'f', 'o', 'g', ':', ' ', 'A', 'n', 'l', 'y', 't', 'c', 's', ' ', 'n', ' ', 'l', 'e', 'r', 'n', 'n', 'g', ' ', 'n', 'd', ' ', 'e', 'd', 'u', 'c', 't', 'o', 'n', '.', ' ', 'E', 'd', 'u', 'c', 'u', 's', 'e', ' ', 'R', 'e', 'v', 'e', 'w', ',', ' ', '4', '6', '(', '5', ')', ',', ' ', '3', '0', '-', '3', '2', '.']\n"
       ]
      }
     ],
     "prompt_number": 97
    },
    {
     "cell_type": "code",
     "collapsed": false,
     "input": [],
     "language": "python",
     "metadata": {},
     "outputs": []
    }
   ],
   "metadata": {}
  }
 ]
}