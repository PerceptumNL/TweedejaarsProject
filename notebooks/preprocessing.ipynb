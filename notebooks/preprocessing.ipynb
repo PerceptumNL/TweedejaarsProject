{
 "metadata": {
  "name": "",
  "signature": "sha256:c1b7f9e1f49e413df4f9637462032cf3ecc607e09a09883803b187926f291056"
 },
 "nbformat": 3,
 "nbformat_minor": 0,
 "worksheets": [
  {
   "cells": [
    {
     "cell_type": "markdown",
     "metadata": {},
     "source": [
      "#Preprocessing steps for html to plaintext\n"
     ]
    },
    {
     "cell_type": "code",
     "collapsed": false,
     "input": [
      "from __future__ import with_statement\n",
      "import cPickle as pickle\n",
      "\n",
      "with open('../data/export_starfish_tjp.pickle') as f:\n",
      "    data = pickle.load(f)\n",
      "    glossary = data['items'][data['tags']['LearningAnalytics']['glossary']]['text']\n"
     ],
     "language": "python",
     "metadata": {},
     "outputs": [],
     "prompt_number": 99
    },
    {
     "cell_type": "markdown",
     "metadata": {},
     "source": [
      "Strip HTML Tags"
     ]
    },
    {
     "cell_type": "code",
     "collapsed": false,
     "input": [
      "import nltk\n",
      "glossary_strippedHTML = nltk.clean_html(glossary)"
     ],
     "language": "python",
     "metadata": {},
     "outputs": [],
     "prompt_number": 100
    },
    {
     "cell_type": "markdown",
     "metadata": {},
     "source": [
      "Convert HTML entities to Unicode"
     ]
    },
    {
     "cell_type": "code",
     "collapsed": false,
     "input": [
      "from BeautifulSoup import BeautifulSoup\n",
      "import re\n",
      "\n",
      "# regex to also decode hex entities\n",
      "hexentityMassage = [(re.compile('&#x([^;]+);'), lambda m: '&#%d;' % int(m.group(1), 16))]\n",
      "glossary_tag = BeautifulSoup(glossary_strippedHTML, convertEntities=BeautifulSoup.HTML_ENTITIES, markupMassage=hexentityMassage)\n",
      "glossary_unicode = glossary_tag.text.encode('utf-8')"
     ],
     "language": "python",
     "metadata": {},
     "outputs": [],
     "prompt_number": 101
    },
    {
     "cell_type": "markdown",
     "metadata": {},
     "source": [
      "Convert unicode characters to ascii"
     ]
    },
    {
     "cell_type": "code",
     "collapsed": false,
     "input": [
      "from unidecode import unidecode\n",
      "\n",
      "glossary_ascii = unidecode(glossary_unicode)"
     ],
     "language": "python",
     "metadata": {},
     "outputs": [],
     "prompt_number": 102
    },
    {
     "cell_type": "code",
     "collapsed": false,
     "input": [
      "print(glossary_ascii)"
     ],
     "language": "python",
     "metadata": {},
     "outputs": [
      {
       "output_type": "stream",
       "stream": "stdout",
       "text": [
        "SoLAR, the international community for research in this field, defines learning analytics as the ameasurement, collection, analysis and reporting of data about learners and their contexts, for purposes of understanding and optimizing learning and the environments in which it occursa. The community shares the view that this involves a cyclical process, as described in (Clow, 2012). This cyclical process can be compared to a lecturer posing a question in order to take a didactic decision on the basis of the analysed answer. As the scale of courses expands, it is proving difficult for lecturers to optimally improve their education by means of this cycle. At the same time, a growing portion of the learning process is manifesting itself in the form of digital data. Learning analytics uses this digital data to apply the same cycle on a large scale in support of the learning process. Learning analytics centres around the support of students and lecturers. Related fields apply some of the same data and technologies used in learning analytics, while focusing on different questions (Chatti, 2012). Whereas learning analytics focuses on supporting the learning process, educational data mining is more oriented towards the technological potential for extracting value from large quantities of data (Ferguson, 2012). Finally, academic analytics applies techniques from the field of business intelligence to data at institutional level in order to improve study yields (Long, 2011). \r\n",
        "\r\n",
        " References \r\n",
        "\r\n",
        "\r\n",
        " \r\n",
        "\r\n",
        "\t Chatti, M. A., Dyckhoff, A. L., Schroeder, U., & ThA1/4s, H. (2012). A reference model for learning analytics. International Journal of Technology Enhanced Learning, 4(5), 318-331. \r\n",
        "\r\n",
        "\t Clow, Doug (2012). The learning analytics cycle: closing the loop effectively. In: LAK12: 2nd International Conference on Learning Analytics & Knowledge, 29 April - 2 May 2012, Vancouver, BC. \r\n",
        "\r\n",
        "\t Ferguson, Rebecca (2012). Learning analytics: drivers, developments and challenges. International Journal of Technology Enhanced Learning, 4(5/6) pp. 304-317. \r\n",
        "\r\n",
        "\t Long, P., & Siemens, G. (2011). Penetrating the fog: Analytics in learning and education. Educause Review, 46(5), 30-32.\n"
       ]
      }
     ],
     "prompt_number": 103
    },
    {
     "cell_type": "markdown",
     "metadata": {},
     "source": [
      "##TODO \n",
      "- stopwords\n",
      "- stemming"
     ]
    },
    {
     "cell_type": "code",
     "collapsed": false,
     "input": [
      "from sklearn.feature_extraction.stop_words import ENGLISH_STOP_WORDS\n",
      "stopwords = ENGLISH_STOP_WORDS\n",
      "\n",
      "# could also use nltk stopwords\n",
      "# from nltk.corpus import stopwords \n",
      "# stopwords = stopwords.words('english')\n",
      "\n",
      "filtered = [w for w in glossary_ascii if not w in stopwords]"
     ],
     "language": "python",
     "metadata": {},
     "outputs": [],
     "prompt_number": 104
    }
   ],
   "metadata": {}
  }
 ]
}