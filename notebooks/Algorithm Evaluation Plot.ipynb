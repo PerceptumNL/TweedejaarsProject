{
 "metadata": {
  "name": "",
  "signature": "sha256:b701b87bbb20800a04760836350ac5d8da1dfaeb5314a2268f91259d3cad4c3a"
 },
 "nbformat": 3,
 "nbformat_minor": 0,
 "worksheets": [
  {
   "cells": [
    {
     "cell_type": "heading",
     "level": 1,
     "metadata": {},
     "source": [
      "Algorithm Evaluation Plot"
     ]
    },
    {
     "cell_type": "markdown",
     "metadata": {},
     "source": [
      "This evaluation method assumes that a method for 'clipping' the number of proposed documents has been found."
     ]
    },
    {
     "cell_type": "code",
     "collapsed": false,
     "input": [
      "%matplotlib inline\n",
      "import matplotlib.pylab as plt\n",
      "import numpy as np\n",
      "\n",
      "n_count = 10\n",
      "plt.bar(np.arange(n_count), 11-np.arange(1,11))"
     ],
     "language": "python",
     "metadata": {},
     "outputs": [
      {
       "metadata": {},
       "output_type": "pyout",
       "prompt_number": 18,
       "text": [
        "<Container object of 10 artists>"
       ]
      },
      {
       "metadata": {},
       "output_type": "display_data",
       "png": "[encoded data removed]",
       "text": [
        "<matplotlib.figure.Figure at 0x7f8d165f1550>"
       ]
      }
     ],
     "prompt_number": 18
    }
   ],
   "metadata": {}
  }
 ]
}