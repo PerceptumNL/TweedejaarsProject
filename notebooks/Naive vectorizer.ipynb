{
 "metadata": {
  "name": "",
  "signature": "sha256:19feda945d13d07b0a2d1324c78c9b4723eace2cd2418f15f92eb682f4ebbfde"
 },
 "nbformat": 3,
 "nbformat_minor": 0,
 "worksheets": [
  {
   "cells": [
    {
     "cell_type": "code",
     "collapsed": false,
     "input": [
      "from itertools import combinations\n",
      "import numpy as np\n",
      "from numpy.linalg import cholesky\n",
      "from math import sqrt, acos\n",
      "import os, sys\n",
      "import cPickle as pickle\n",
      "from decimal import Decimal\n",
      "sys.path.append(os.path.join(os.path.abspath('..'), 'src'))\n",
      "from DocumentLinker import DocumentLinker\n",
      "from datawrapper import DataWrapper\n",
      "import operator\n",
      "import pandas\n",
      "from scipy import sparse\n",
      "\n",
      "def vectorize(data, new_doc):\n",
      "    tagDict = {}\n",
      "    descriptors = []\n",
      "    i = 0\n",
      "    new_doc_descriptor = {}\n",
      "    for tag in new_doc['tags']:\n",
      "        if not tagDict.has_key(tag):\n",
      "            tagDict[tag] = len(tagDict)\n",
      "        new_doc_descriptor[tagDict[tag]] = 1\n",
      "    \n",
      "    for item in data.items():\n",
      "        vector = {}\n",
      "        for tag in data.item(item)['tags']:\n",
      "            if not tagDict.has_key(tag):\n",
      "                tagDict[tag] = len(tagDict)\n",
      "            vector[tagDict[tag]] = 1\n",
      "        descriptors.append(vector)\n",
      "\n",
      "    # Asssociate document ids with descriptors and return.\n",
      "    return(zip(data.items(), descriptors), new_doc_descriptor)\n",
      "\n",
      "data = DataWrapper('../data/export_starfish_tjp_12jun.pickle')\n",
      "new_doc, data = data.remove_item(11)\n",
      "data_bows, new_doc_bow = vectorize(data, new_doc)"
     ],
     "language": "python",
     "metadata": {},
     "outputs": [
      {
       "output_type": "stream",
       "stream": "stdout",
       "text": [
        "{0: 1, 1: 1, 2: 1, 3: 1, 4: 1, 5: 1, 6: 1, 7: 1, 8: 1, 9: 1, 10: 1, 11: 1, 12: 1, 13: 1, 14: 1, 15: 1}\n",
        "[{32: 1, 33: 1, 34: 1, 35: 1, 16: 1, 17: 1, 18: 1, 19: 1, 20: 1, 21: 1, 22: 1, 23: 1, 24: 1, 25: 1, 26: 1, 27: 1, 28: 1, 29: 1, 30: 1, 31: 1}, {0: 1, 2: 1, 36: 1, 37: 1, 38: 1, 39: 1, 12: 1, 15: 1, 20: 1, 23: 1, 25: 1, 28: 1}, {35: 1, 40: 1, 41: 1, 42: 1, 43: 1, 44: 1, 20: 1, 25: 1, 27: 1}, {2: 1, 23: 1}, {35: 1, 40: 1, 41: 1, 42: 1, 43: 1, 45: 1, 16: 1, 27: 1}, {35: 1}, {}, {}, {34: 1, 3: 1, 4: 1, 5: 1, 42: 1, 43: 1, 44: 1, 46: 1, 47: 1, 48: 1, 18: 1, 35: 1, 23: 1, 25: 1}, {2: 1}, {49: 1, 20: 1}, {19: 1, 50: 1, 51: 1, 20: 1, 53: 1, 23: 1, 52: 1, 31: 1}, {54: 1}, {54: 1}, {42: 1, 43: 1, 44: 1, 55: 1, 56: 1, 27: 1}, {41: 1, 42: 1, 46: 1, 30: 1, 57: 1}, {50: 1, 59: 1, 60: 1, 58: 1, 38: 1}, {34: 1, 3: 1, 5: 1, 49: 1, 17: 1, 26: 1}, {3: 1, 5: 1, 49: 1, 51: 1, 23: 1, 31: 1}, {34: 1, 35: 1, 5: 1, 42: 1, 43: 1, 44: 1, 16: 1, 56: 1, 23: 1, 24: 1, 25: 1, 27: 1}, {48: 1, 61: 1}, {34: 1}, {18: 1, 20: 1, 53: 1, 6: 1, 31: 1}, {1: 1, 4: 1, 37: 1, 10: 1, 11: 1, 13: 1, 15: 1, 51: 1, 23: 1, 29: 1, 5: 1}, {62: 1, 19: 1, 13: 1, 14: 1, 23: 1}, {16: 1, 24: 1, 14: 1, 63: 1}, {64: 1, 50: 1}, {65: 1, 50: 1, 45: 1}, {}, {}, {}, {32: 1, 66: 1, 11: 1, 5: 1, 38: 1, 43: 1, 52: 1, 23: 1, 29: 1, 62: 1}, {24: 1, 63: 1}, {67: 1, 42: 1, 45: 1, 35: 1, 20: 1, 25: 1, 27: 1}, {35: 1, 67: 1, 41: 1, 42: 1, 19: 1, 22: 1, 56: 1, 25: 1}, {34: 1, 35: 1, 36: 1, 42: 1, 43: 1, 54: 1, 56: 1}, {34: 1, 5: 1, 42: 1, 44: 1, 23: 1, 27: 1}, {64: 1, 45: 1, 7: 1}, {0: 1, 52: 1, 36: 1, 14: 1}, {35: 1, 5: 1, 42: 1, 43: 1, 46: 1, 48: 1, 23: 1, 25: 1, 27: 1}, {68: 1, 69: 1, 70: 1, 71: 1, 72: 1, 73: 1, 17: 1, 21: 1, 22: 1}, {17: 1, 70: 1, 22: 1}, {17: 1, 55: 1, 73: 1, 22: 1, 25: 1}, {25: 1, 67: 1, 19: 1, 28: 1, 22: 1}, {32: 1, 17: 1, 21: 1, 22: 1}, {70: 1, 74: 1, 17: 1, 21: 1, 22: 1, 26: 1}, {42: 1, 44: 1, 54: 1, 22: 1}, {76: 1, 17: 1, 75: 1, 52: 1, 22: 1}, {76: 1, 75: 1, 52: 1, 23: 1}, {45: 1, 20: 1, 77: 1, 7: 1}, {2: 1}, {32: 1, 17: 1, 21: 1, 22: 1}, {25: 1, 67: 1, 19: 1, 28: 1}, {}, {78: 1}, {64: 1, 20: 1}, {64: 1}, {}, {81: 1, 79: 1, 80: 1, 17: 1, 82: 1, 83: 1, 84: 1, 21: 1, 22: 1, 85: 1}, {60: 1, 86: 1, 31: 1}, {88: 1, 86: 1, 87: 1}, {27: 1, 56: 1, 67: 1, 23: 1}, {}, {66: 1, 4: 1, 13: 1, 19: 1, 23: 1, 62: 1}, {70: 1, 74: 1, 17: 1, 26: 1, 21: 1, 22: 1, 89: 1, 90: 1, 91: 1, 92: 1, 93: 1, 94: 1}, {96: 1, 97: 1, 68: 1, 70: 1, 74: 1, 17: 1, 21: 1, 22: 1, 26: 1, 27: 1, 93: 1, 95: 1}, {98: 1, 99: 1, 67: 1, 21: 1, 22: 1, 63: 1}, {100: 1, 45: 1}, {66: 1, 4: 1, 10: 1, 13: 1, 14: 1, 52: 1, 23: 1}, {17: 1, 26: 1, 21: 1, 22: 1}, {17: 1, 26: 1, 21: 1, 22: 1}, {17: 1, 26: 1, 4: 1, 21: 1, 22: 1}, {17: 1, 101: 1, 22: 1}, {}, {23: 1}, {17: 1, 68: 1, 21: 1, 22: 1, 63: 1}, {17: 1, 68: 1, 21: 1, 22: 1, 63: 1}, {}, {0: 1, 78: 1, 63: 1}, {67: 1, 69: 1, 102: 1, 103: 1, 104: 1, 105: 1, 71: 1, 17: 1, 73: 1, 55: 1}, {}, {6: 1, 106: 1, 107: 1, 108: 1, 109: 1, 110: 1, 53: 1}, {33: 1, 35: 1, 42: 1, 18: 1, 25: 1, 27: 1, 30: 1}, {17: 1, 111: 1, 102: 1, 103: 1}, {112: 1, 17: 1}, {18: 1}, {17: 1, 21: 1, 102: 1, 113: 1}, {17: 1, 114: 1, 21: 1, 102: 1}, {17: 1, 21: 1, 102: 1}, {19: 1, 74: 1, 17: 1, 115: 1, 116: 1, 21: 1}, {17: 1, 74: 1, 21: 1, 117: 1}, {96: 1, 118: 1, 70: 1, 106: 1, 17: 1, 21: 1, 22: 1, 119: 1, 120: 1, 89: 1, 74: 1, 94: 1}, {17: 1, 119: 1, 21: 1, 22: 1, 89: 1}, {96: 1, 17: 1, 21: 1, 94: 1, 121: 1}, {17: 1, 122: 1, 21: 1, 89: 1}, {96: 1, 91: 1, 4: 1, 81: 1, 106: 1, 79: 1, 17: 1, 21: 1, 22: 1, 123: 1, 124: 1, 125: 1, 126: 1, 63: 1}, {17: 1, 127: 1, 4: 1, 21: 1, 125: 1}, {128: 1, 17: 1, 102: 1, 22: 1}, {}, {}, {17: 1, 21: 1, 70: 1}, {129: 1, 17: 1, 4: 1, 21: 1, 63: 1}, {17: 1, 130: 1, 21: 1, 129: 1}, {63: 1}, {17: 1, 130: 1, 21: 1, 129: 1}, {17: 1, 21: 1, 70: 1}, {17: 1, 127: 1, 4: 1, 21: 1, 125: 1}, {131: 1, 132: 1, 113: 1, 17: 1, 21: 1, 118: 1, 120: 1}, {17: 1, 122: 1, 21: 1, 89: 1}, {96: 1, 17: 1, 21: 1, 94: 1, 121: 1}, {17: 1, 119: 1, 21: 1, 22: 1, 89: 1}, {17: 1, 74: 1, 21: 1, 117: 1}, {17: 1, 114: 1, 21: 1, 102: 1}, {17: 1, 21: 1, 102: 1, 113: 1}, {17: 1, 111: 1, 102: 1, 103: 1}, {67: 1, 69: 1, 102: 1, 103: 1, 104: 1, 105: 1, 71: 1, 17: 1, 73: 1, 55: 1}, {17: 1, 26: 1, 21: 1, 22: 1}, {42: 1, 44: 1, 54: 1, 22: 1}, {17: 1, 55: 1, 73: 1, 22: 1, 25: 1}, {17: 1, 70: 1, 22: 1}, {70: 1, 103: 1, 72: 1, 17: 1, 21: 1, 22: 1}, {67: 1, 41: 1, 42: 1, 45: 1, 35: 1, 20: 1, 25: 1, 27: 1}, {35: 1, 67: 1, 41: 1, 42: 1, 19: 1, 22: 1, 56: 1, 25: 1}, {81: 1, 106: 1, 78: 1, 17: 1, 21: 1, 22: 1, 91: 1, 124: 1, 94: 1, 63: 1}, {96: 1, 81: 1, 79: 1, 17: 1, 21: 1, 22: 1, 93: 1, 126: 1}, {}, {2: 1}, {66: 1, 75: 1, 4: 1, 63: 1}, {}, {}, {17: 1, 4: 1, 21: 1, 133: 1}, {4: 1, 133: 1}, {4: 1, 134: 1, 23: 1}, {}, {}, {1: 1, 66: 1, 4: 1, 38: 1, 135: 1, 10: 1, 11: 1, 52: 1, 23: 1}, {96: 1, 17: 1, 126: 1}, {136: 1, 17: 1, 21: 1, 94: 1}, {17: 1, 74: 1, 21: 1, 89: 1}, {}, {106: 1, 107: 1, 108: 1, 53: 1, 6: 1}, {105: 1, 107: 1, 109: 1, 110: 1, 20: 1, 53: 1}, {}, {}, {32: 1, 137: 1, 138: 1, 111: 1, 17: 1, 21: 1, 121: 1, 126: 1}, {17: 1, 138: 1, 21: 1}, {137: 1, 138: 1, 21: 1, 17: 1}, {}, {4: 1, 63: 1}, {}, {}, {}, {25: 1, 106: 1, 27: 1, 134: 1, 63: 1}, {35: 1, 5: 1, 42: 1, 43: 1, 46: 1, 48: 1, 23: 1, 25: 1, 27: 1}, {}, {}, {}, {}, {}, {103: 1, 136: 1, 138: 1, 139: 1, 79: 1, 17: 1, 21: 1}, {}, {}, {}, {}, {129: 1, 81: 1, 103: 1, 74: 1, 79: 1, 17: 1, 21: 1, 111: 1}, {96: 1, 74: 1, 17: 1, 21: 1, 118: 1, 126: 1}, {106: 1, 17: 1, 52: 1, 21: 1, 89: 1, 74: 1, 126: 1}, {}, {32: 1, 17: 1, 124: 1, 101: 1, 21: 1}, {}, {}, {16: 1, 18: 1}, {}, {}, {}, {}, {}, {}, {96: 1, 74: 1, 126: 1, 17: 1, 21: 1, 22: 1, 90: 1, 91: 1, 93: 1, 94: 1}, {128: 1, 96: 1, 70: 1, 81: 1, 74: 1, 79: 1, 17: 1, 21: 1, 22: 1, 91: 1, 93: 1, 126: 1}, {}, {70: 1, 74: 1, 140: 1, 141: 1, 142: 1, 17: 1, 21: 1, 22: 1, 55: 1, 121: 1, 63: 1}, {17: 1, 92: 1, 21: 1, 22: 1, 143: 1}, {}, {}, {32: 1, 17: 1, 52: 1, 21: 1, 22: 1, 89: 1, 26: 1}, {144: 1, 106: 1, 79: 1, 112: 1, 17: 1, 74: 1, 21: 1, 22: 1, 90: 1, 93: 1}, {}, {106: 1, 108: 1, 53: 1, 26: 1, 94: 1, 63: 1}, {96: 1, 17: 1, 21: 1, 118: 1, 26: 1, 126: 1}, {26: 1, 63: 1}, {4: 1, 70: 1, 106: 1, 17: 1, 21: 1, 121: 1, 26: 1, 126: 1}, {145: 1, 137: 1, 49: 1, 146: 1, 147: 1, 52: 1, 120: 1}, {}, {}, {17: 1, 148: 1, 21: 1, 22: 1, 93: 1, 126: 1}, {17: 1, 4: 1, 149: 1, 79: 1}, {}, {96: 1, 139: 1, 126: 1, 17: 1, 21: 1, 22: 1, 121: 1, 90: 1, 93: 1, 94: 1}, {128: 1, 4: 1, 150: 1, 70: 1, 139: 1, 17: 1, 116: 1, 21: 1, 22: 1, 151: 1, 152: 1, 153: 1, 26: 1, 93: 1, 94: 1}, {156: 1, 74: 1, 17: 1, 21: 1, 22: 1, 154: 1, 155: 1, 124: 1, 157: 1}, {17: 1}, {4: 1}, {4: 1}, {17: 1, 21: 1, 22: 1, 158: 1}, {}, {}, {4: 1}, {16: 1}, {}, {}, {160: 1, 4: 1, 159: 1}, {}, {}, {}, {}, {}, {}, {}, {}, {}, {}, {}, {}, {}, {}, {}, {161: 1, 162: 1, 155: 1, 97: 1, 17: 1, 19: 1, 22: 1, 121: 1, 90: 1, 91: 1, 93: 1, 94: 1}, {}, {}, {163: 1, 4: 1, 86: 1, 88: 1, 164: 1, 58: 1, 60: 1, 125: 1}, {}, {}, {}, {66: 1, 35: 1, 165: 1, 42: 1, 34: 1, 47: 1, 54: 1, 55: 1, 25: 1}, {}, {88: 1, 166: 1, 167: 1}, {88: 1, 58: 1}, {}]\n"
       ]
      }
     ],
     "prompt_number": 11
    },
    {
     "cell_type": "code",
     "collapsed": false,
     "input": [
      "import json\n",
      "\n",
      "def run(vectorizer, distancetype):\n",
      "    data = DataWrapper('../data/export_starfish_tjp_12jun.pickle')\n",
      "    data.remove_aliased_tags()\n",
      "    filename = \"../data/textvectorizer_analysis/{0}_{1}.json\".format(vectorizer, distancetype)\n",
      "\n",
      "    c = 0\n",
      "    docs = {}\n",
      "    percentage = 0\n",
      "    \n",
      "    # Return all k \n",
      "    k = len(data.data['items']) - 1\n",
      "    for new_doc, datawrapper in data.test_data():\n",
      "        linker = DocumentLinker(datawrapper, k)\n",
      "        linker.get_links(new_doc, vtype=vectorizer, dtype=distancetype)\n",
      "        \n",
      "        # Remove all invalid ones from new doc\n",
      "        for link in new_doc['links']:\n",
      "            if (ignore(new_doc, link, data)):\n",
      "                index = new_doc['links'].index(link)\n",
      "                del new_doc['links'][index]\n",
      "        \n",
      "        l = len(new_doc['links'])\n",
      "        if(l == 0):\n",
      "            print('No valid links for {0}'.format(new_doc['id']))\n",
      "            continue\n",
      "        \n",
      "        # Remove all invalid ones from proposed and take number equal to new_doc\n",
      "        i = 0\n",
      "        for link in linker.links:\n",
      "            if(i == l):\n",
      "                break\n",
      "            if (ignore(new_doc, link[0], data)):\n",
      "                index = linker.links.index(link)\n",
      "                del linker.links[index]\n",
      "            else:\n",
      "                i += 1\n",
      "        linker.links = linker.links[0:l]        \n",
      "        links = linker.formatted_links()\n",
      "        \n",
      "        # Similar as in DocumentLinker.py \n",
      "        docs[c] = links\n",
      "        c += 1\n",
      "        correct = 0\n",
      "        for link in linker.links:\n",
      "            if(link[0] in new_doc['links']):\n",
      "                correct += 1\n",
      "        if(len(new_doc['links']) > 0):\n",
      "            percentage_correct = Decimal(correct)/len(new_doc['links'])\n",
      "        else:\n",
      "            percentage_correct = 0\n",
      "            print('No links')\n",
      "            c -= 1\n",
      "        percentage += percentage_correct\n",
      "        print('{0} Percentage correct: {1}'.format(new_doc['id'], percentage_correct))\n",
      "\n",
      "    print('Average percentage correct: {0}'.format(Decimal(percentage)/c))\n",
      "    file = open(filename, \"w\")\n",
      "    file.write(json.dumps(docs))\n",
      "    file.close()\n",
      "\n",
      "def ignore(new_doc, link, data):\n",
      "    if (new_doc.has_key('Author') and new_doc['author'] == link) \\\n",
      "    or data.item(link)['type'] == 'Glossary' \\\n",
      "    or (new_doc['type'] == 'Person' and data.item(link).has_key('author') and data.item(link)['author'] == new_doc['id']):\n",
      "        return True\n",
      "    return False\n",
      "    \n"
     ],
     "language": "python",
     "metadata": {},
     "outputs": [],
     "prompt_number": 27
    },
    {
     "cell_type": "code",
     "collapsed": false,
     "input": [
      "run('simple_tag_similarity', 'cosine')"
     ],
     "language": "python",
     "metadata": {},
     "outputs": [
      {
       "output_type": "stream",
       "stream": "stdout",
       "text": [
        "1 Percentage correct: 0.2333333333333333333333333333\n",
        "2 Percentage correct: 0.3333333333333333333333333333"
       ]
      },
      {
       "output_type": "stream",
       "stream": "stdout",
       "text": [
        "\n",
        "3 Percentage correct: 0.5714285714285714285714285714"
       ]
      },
      {
       "output_type": "stream",
       "stream": "stdout",
       "text": [
        "\n",
        "5 Percentage correct: 0"
       ]
      },
      {
       "output_type": "stream",
       "stream": "stdout",
       "text": [
        "\n",
        "6 Percentage correct: 0.7"
       ]
      },
      {
       "output_type": "stream",
       "stream": "stdout",
       "text": [
        "\n",
        "8 Percentage correct: 0.25"
       ]
      },
      {
       "output_type": "stream",
       "stream": "stdout",
       "text": [
        "\n",
        "9 Percentage correct: 0"
       ]
      },
      {
       "output_type": "stream",
       "stream": "stdout",
       "text": [
        "\n",
        "No valid links for 10"
       ]
      },
      {
       "output_type": "stream",
       "stream": "stdout",
       "text": [
        "\n",
        "11 Percentage correct: 0.5"
       ]
      },
      {
       "output_type": "stream",
       "stream": "stdout",
       "text": [
        "\n",
        "12 Percentage correct: 0.4285714285714285714285714286"
       ]
      },
      {
       "output_type": "stream",
       "stream": "stdout",
       "text": [
        "\n",
        "No valid links for 14"
       ]
      },
      {
       "output_type": "stream",
       "stream": "stdout",
       "text": [
        "\n",
        "20 Percentage correct: 0"
       ]
      },
      {
       "output_type": "stream",
       "stream": "stdout",
       "text": [
        "\n",
        "21 Percentage correct: 0.2"
       ]
      },
      {
       "output_type": "stream",
       "stream": "stdout",
       "text": [
        "\n",
        "22 Percentage correct: 0"
       ]
      },
      {
       "output_type": "stream",
       "stream": "stdout",
       "text": [
        "\n",
        "23 Percentage correct: 0"
       ]
      },
      {
       "output_type": "stream",
       "stream": "stdout",
       "text": [
        "\n",
        "24 Percentage correct: 0.3333333333333333333333333333"
       ]
      },
      {
       "output_type": "stream",
       "stream": "stdout",
       "text": [
        "\n",
        "26 Percentage correct: 0.5714285714285714285714285714"
       ]
      },
      {
       "output_type": "stream",
       "stream": "stdout",
       "text": [
        "\n",
        "27 Percentage correct: 0"
       ]
      },
      {
       "output_type": "stream",
       "stream": "stdout",
       "text": [
        "\n",
        "28 Percentage correct: 1"
       ]
      },
      {
       "output_type": "stream",
       "stream": "stdout",
       "text": [
        "\n",
        "29 Percentage correct: 0.5"
       ]
      },
      {
       "output_type": "stream",
       "stream": "stdout",
       "text": [
        "\n",
        "31 Percentage correct: 0.3333333333333333333333333333"
       ]
      },
      {
       "output_type": "stream",
       "stream": "stdout",
       "text": [
        "\n",
        "32 Percentage correct: 0"
       ]
      },
      {
       "output_type": "stream",
       "stream": "stdout",
       "text": [
        "\n",
        "No valid links for 34"
       ]
      },
      {
       "output_type": "stream",
       "stream": "stdout",
       "text": [
        "\n",
        "No valid links for 36"
       ]
      },
      {
       "output_type": "stream",
       "stream": "stdout",
       "text": [
        "\n",
        "38 Percentage correct: 0"
       ]
      },
      {
       "output_type": "stream",
       "stream": "stdout",
       "text": [
        "\n",
        "39 Percentage correct: 0.3333333333333333333333333333"
       ]
      },
      {
       "output_type": "stream",
       "stream": "stdout",
       "text": [
        "\n",
        "40 Percentage correct: 0.2"
       ]
      },
      {
       "output_type": "stream",
       "stream": "stdout",
       "text": [
        "\n",
        "No valid links for 42"
       ]
      },
      {
       "output_type": "stream",
       "stream": "stdout",
       "text": [
        "\n",
        "43 Percentage correct: 1"
       ]
      },
      {
       "output_type": "stream",
       "stream": "stdout",
       "text": [
        "\n",
        "45 Percentage correct: 1"
       ]
      },
      {
       "output_type": "stream",
       "stream": "stdout",
       "text": [
        "\n",
        "60 Percentage correct: 0.3333333333333333333333333333"
       ]
      },
      {
       "output_type": "stream",
       "stream": "stdout",
       "text": [
        "\n",
        "65 Percentage correct: 0"
       ]
      },
      {
       "output_type": "stream",
       "stream": "stdout",
       "text": [
        "\n",
        "69 Percentage correct: 0.5"
       ]
      },
      {
       "output_type": "stream",
       "stream": "stdout",
       "text": [
        "\n",
        "76 Percentage correct: 0"
       ]
      },
      {
       "output_type": "stream",
       "stream": "stdout",
       "text": [
        "\n",
        "77 Percentage correct: 0.2"
       ]
      },
      {
       "output_type": "stream",
       "stream": "stdout",
       "text": [
        "\n",
        "78 Percentage correct: 0"
       ]
      },
      {
       "output_type": "stream",
       "stream": "stdout",
       "text": [
        "\n",
        "81 Percentage correct: 0.4"
       ]
      },
      {
       "output_type": "stream",
       "stream": "stdout",
       "text": [
        "\n",
        "82 Percentage correct: 0"
       ]
      },
      {
       "output_type": "stream",
       "stream": "stdout",
       "text": [
        "\n",
        "83 Percentage correct: 0"
       ]
      },
      {
       "output_type": "stream",
       "stream": "stdout",
       "text": [
        "\n",
        "84 Percentage correct: 0"
       ]
      },
      {
       "output_type": "stream",
       "stream": "stdout",
       "text": [
        "\n",
        "89 Percentage correct: 0"
       ]
      },
      {
       "output_type": "stream",
       "stream": "stdout",
       "text": [
        "\n",
        "90 Percentage correct: 0.1666666666666666666666666667"
       ]
      },
      {
       "output_type": "stream",
       "stream": "stdout",
       "text": [
        "\n",
        "91 Percentage correct: 0"
       ]
      },
      {
       "output_type": "stream",
       "stream": "stdout",
       "text": [
        "\n",
        "92 Percentage correct: 0"
       ]
      },
      {
       "output_type": "stream",
       "stream": "stdout",
       "text": [
        "\n",
        "96 Percentage correct: 0.5"
       ]
      },
      {
       "output_type": "stream",
       "stream": "stdout",
       "text": [
        "\n",
        "98 Percentage correct: 0.25"
       ]
      },
      {
       "output_type": "stream",
       "stream": "stdout",
       "text": [
        "\n",
        "99 Percentage correct: 0.5"
       ]
      },
      {
       "output_type": "stream",
       "stream": "stdout",
       "text": [
        "\n",
        "101 Percentage correct: 0"
       ]
      },
      {
       "output_type": "stream",
       "stream": "stdout",
       "text": [
        "\n",
        "102 Percentage correct: 0"
       ]
      },
      {
       "output_type": "stream",
       "stream": "stdout",
       "text": [
        "\n",
        "105 Percentage correct: 0"
       ]
      },
      {
       "output_type": "stream",
       "stream": "stdout",
       "text": [
        "\n",
        "111 Percentage correct: 0.25"
       ]
      },
      {
       "output_type": "stream",
       "stream": "stdout",
       "text": [
        "\n",
        "Couldn't find link with id 112"
       ]
      },
      {
       "output_type": "stream",
       "stream": "stdout",
       "text": [
        "\n",
        "112 Percentage correct: 0.5\n",
        "114 Percentage correct: 0"
       ]
      },
      {
       "output_type": "stream",
       "stream": "stdout",
       "text": [
        "\n",
        "115 Percentage correct: 0"
       ]
      },
      {
       "output_type": "stream",
       "stream": "stdout",
       "text": [
        "\n",
        "No valid links for 118"
       ]
      },
      {
       "output_type": "stream",
       "stream": "stdout",
       "text": [
        "\n",
        "119 Percentage correct: 0"
       ]
      },
      {
       "output_type": "stream",
       "stream": "stdout",
       "text": [
        "\n",
        "121 Percentage correct: 0"
       ]
      },
      {
       "output_type": "stream",
       "stream": "stdout",
       "text": [
        "\n",
        "127 Percentage correct: 0"
       ]
      },
      {
       "output_type": "stream",
       "stream": "stdout",
       "text": [
        "\n",
        "129 Percentage correct: 0"
       ]
      },
      {
       "output_type": "stream",
       "stream": "stdout",
       "text": [
        "\n",
        "131 Percentage correct: 0.5"
       ]
      },
      {
       "output_type": "stream",
       "stream": "stdout",
       "text": [
        "\n",
        "132 Percentage correct: 0.5"
       ]
      },
      {
       "output_type": "stream",
       "stream": "stdout",
       "text": [
        "\n",
        "134 Percentage correct: 0"
       ]
      },
      {
       "output_type": "stream",
       "stream": "stdout",
       "text": [
        "\n",
        "137 Percentage correct: 0"
       ]
      },
      {
       "output_type": "stream",
       "stream": "stdout",
       "text": [
        "\n",
        "139 Percentage correct: 0"
       ]
      },
      {
       "output_type": "stream",
       "stream": "stdout",
       "text": [
        "\n",
        "140 Percentage correct: 0.25"
       ]
      },
      {
       "output_type": "stream",
       "stream": "stdout",
       "text": [
        "\n",
        "141 Percentage correct: 0"
       ]
      },
      {
       "output_type": "stream",
       "stream": "stdout",
       "text": [
        "\n",
        "142 Percentage correct: 0"
       ]
      },
      {
       "output_type": "stream",
       "stream": "stdout",
       "text": [
        "\n",
        "143 Percentage correct: 0"
       ]
      },
      {
       "output_type": "stream",
       "stream": "stdout",
       "text": [
        "\n",
        "144 Percentage correct: 0"
       ]
      },
      {
       "output_type": "stream",
       "stream": "stdout",
       "text": [
        "\n",
        "145 Percentage correct: 0"
       ]
      },
      {
       "output_type": "stream",
       "stream": "stdout",
       "text": [
        "\n",
        "146 Percentage correct: 0"
       ]
      },
      {
       "output_type": "stream",
       "stream": "stdout",
       "text": [
        "\n",
        "147 Percentage correct: 0"
       ]
      },
      {
       "output_type": "stream",
       "stream": "stdout",
       "text": [
        "\n",
        "148 Percentage correct: 0"
       ]
      },
      {
       "output_type": "stream",
       "stream": "stdout",
       "text": [
        "\n",
        "149 Percentage correct: 0"
       ]
      },
      {
       "output_type": "stream",
       "stream": "stdout",
       "text": [
        "\n",
        "150 Percentage correct: 0.3"
       ]
      },
      {
       "output_type": "stream",
       "stream": "stdout",
       "text": [
        "\n",
        "151 Percentage correct: 0.6666666666666666666666666667"
       ]
      },
      {
       "output_type": "stream",
       "stream": "stdout",
       "text": [
        "\n",
        "152 Percentage correct: 0.2"
       ]
      },
      {
       "output_type": "stream",
       "stream": "stdout",
       "text": [
        "\n",
        "153 Percentage correct: 0.3333333333333333333333333333"
       ]
      },
      {
       "output_type": "stream",
       "stream": "stdout",
       "text": [
        "\n",
        "154 Percentage correct: 0"
       ]
      },
      {
       "output_type": "stream",
       "stream": "stdout",
       "text": [
        "\n",
        "155 Percentage correct: 0"
       ]
      },
      {
       "output_type": "stream",
       "stream": "stdout",
       "text": [
        "\n",
        "157 Percentage correct: 0.5"
       ]
      },
      {
       "output_type": "stream",
       "stream": "stdout",
       "text": [
        "\n",
        "158 Percentage correct: 0.1428571428571428571428571429"
       ]
      },
      {
       "output_type": "stream",
       "stream": "stdout",
       "text": [
        "\n",
        "159 Percentage correct: 0"
       ]
      },
      {
       "output_type": "stream",
       "stream": "stdout",
       "text": [
        "\n",
        "161 Percentage correct: 0"
       ]
      },
      {
       "output_type": "stream",
       "stream": "stdout",
       "text": [
        "\n",
        "No valid links for 168"
       ]
      },
      {
       "output_type": "stream",
       "stream": "stdout",
       "text": [
        "\n",
        "No valid links for 169"
       ]
      },
      {
       "output_type": "stream",
       "stream": "stdout",
       "text": [
        "\n",
        "No valid links for 170"
       ]
      },
      {
       "output_type": "stream",
       "stream": "stdout",
       "text": [
        "\n",
        "171 Percentage correct: 0"
       ]
      },
      {
       "output_type": "stream",
       "stream": "stdout",
       "text": [
        "\n",
        "173 Percentage correct: 0"
       ]
      },
      {
       "output_type": "stream",
       "stream": "stdout",
       "text": [
        "\n",
        "174 Percentage correct: 0"
       ]
      },
      {
       "output_type": "stream",
       "stream": "stdout",
       "text": [
        "\n",
        "No valid links for 176"
       ]
      },
      {
       "output_type": "stream",
       "stream": "stdout",
       "text": [
        "\n",
        "178 Percentage correct: 0.25"
       ]
      },
      {
       "output_type": "stream",
       "stream": "stdout",
       "text": [
        "\n",
        "No valid links for 181"
       ]
      },
      {
       "output_type": "stream",
       "stream": "stdout",
       "text": [
        "\n",
        "184 Percentage correct: 0"
       ]
      },
      {
       "output_type": "stream",
       "stream": "stdout",
       "text": [
        "\n",
        "186 Percentage correct: 0"
       ]
      },
      {
       "output_type": "stream",
       "stream": "stdout",
       "text": [
        "\n",
        "189 Percentage correct: 0"
       ]
      },
      {
       "output_type": "stream",
       "stream": "stdout",
       "text": [
        "\n",
        "191 Percentage correct: 0.3333333333333333333333333333"
       ]
      },
      {
       "output_type": "stream",
       "stream": "stdout",
       "text": [
        "\n",
        "192 Percentage correct: 0.5"
       ]
      },
      {
       "output_type": "stream",
       "stream": "stdout",
       "text": [
        "\n",
        "193 Percentage correct: 1"
       ]
      },
      {
       "output_type": "stream",
       "stream": "stdout",
       "text": [
        "\n",
        "194 Percentage correct: 0.5"
       ]
      },
      {
       "output_type": "stream",
       "stream": "stdout",
       "text": [
        "\n",
        "196 Percentage correct: 0.5"
       ]
      },
      {
       "output_type": "stream",
       "stream": "stdout",
       "text": [
        "\n",
        "No valid links for 197"
       ]
      },
      {
       "output_type": "stream",
       "stream": "stdout",
       "text": [
        "\n",
        "203 Percentage correct: 0"
       ]
      },
      {
       "output_type": "stream",
       "stream": "stdout",
       "text": [
        "\n",
        "207 Percentage correct: 0"
       ]
      },
      {
       "output_type": "stream",
       "stream": "stdout",
       "text": [
        "\n",
        "No valid links for 208"
       ]
      },
      {
       "output_type": "stream",
       "stream": "stdout",
       "text": [
        "\n",
        "210 Percentage correct: 1"
       ]
      },
      {
       "output_type": "stream",
       "stream": "stdout",
       "text": [
        "\n",
        "211 Percentage correct: 0.5384615384615384615384615385"
       ]
      },
      {
       "output_type": "stream",
       "stream": "stdout",
       "text": [
        "\n",
        "No valid links for 214"
       ]
      },
      {
       "output_type": "stream",
       "stream": "stdout",
       "text": [
        "\n",
        "No valid links for 215"
       ]
      },
      {
       "output_type": "stream",
       "stream": "stdout",
       "text": [
        "\n",
        "No valid links for 216"
       ]
      },
      {
       "output_type": "stream",
       "stream": "stdout",
       "text": [
        "\n",
        "No valid links for 223"
       ]
      },
      {
       "output_type": "stream",
       "stream": "stdout",
       "text": [
        "\n",
        "224 Percentage correct: 0"
       ]
      },
      {
       "output_type": "stream",
       "stream": "stdout",
       "text": [
        "\n",
        "No valid links for 225"
       ]
      },
      {
       "output_type": "stream",
       "stream": "stdout",
       "text": [
        "\n",
        "No valid links for 226"
       ]
      },
      {
       "output_type": "stream",
       "stream": "stdout",
       "text": [
        "\n",
        "No valid links for 227"
       ]
      },
      {
       "output_type": "stream",
       "stream": "stdout",
       "text": [
        "\n",
        "No valid links for 228"
       ]
      },
      {
       "output_type": "stream",
       "stream": "stdout",
       "text": [
        "\n",
        "230 Percentage correct: 0"
       ]
      },
      {
       "output_type": "stream",
       "stream": "stdout",
       "text": [
        "\n",
        "231 Percentage correct: 0"
       ]
      },
      {
       "output_type": "stream",
       "stream": "stdout",
       "text": [
        "\n",
        "233 Percentage correct: 0"
       ]
      },
      {
       "output_type": "stream",
       "stream": "stdout",
       "text": [
        "\n",
        "No valid links for 234"
       ]
      },
      {
       "output_type": "stream",
       "stream": "stdout",
       "text": [
        "\n",
        "235 Percentage correct: 1"
       ]
      },
      {
       "output_type": "stream",
       "stream": "stdout",
       "text": [
        "\n",
        "No valid links for 236"
       ]
      },
      {
       "output_type": "stream",
       "stream": "stdout",
       "text": [
        "\n",
        "No valid links for 237"
       ]
      },
      {
       "output_type": "stream",
       "stream": "stdout",
       "text": [
        "\n",
        "No valid links for 238"
       ]
      },
      {
       "output_type": "stream",
       "stream": "stdout",
       "text": [
        "\n",
        "No valid links for 239"
       ]
      },
      {
       "output_type": "stream",
       "stream": "stdout",
       "text": [
        "\n",
        "No valid links for 240"
       ]
      },
      {
       "output_type": "stream",
       "stream": "stdout",
       "text": [
        "\n",
        "No valid links for 241"
       ]
      },
      {
       "output_type": "stream",
       "stream": "stdout",
       "text": [
        "\n",
        "No valid links for 242"
       ]
      },
      {
       "output_type": "stream",
       "stream": "stdout",
       "text": [
        "\n",
        "No valid links for 244"
       ]
      },
      {
       "output_type": "stream",
       "stream": "stdout",
       "text": [
        "\n",
        "No valid links for 245"
       ]
      },
      {
       "output_type": "stream",
       "stream": "stdout",
       "text": [
        "\n",
        "246 Percentage correct: 0"
       ]
      },
      {
       "output_type": "stream",
       "stream": "stdout",
       "text": [
        "\n",
        "247 Percentage correct: 0"
       ]
      },
      {
       "output_type": "stream",
       "stream": "stdout",
       "text": [
        "\n",
        "248 Percentage correct: 0"
       ]
      },
      {
       "output_type": "stream",
       "stream": "stdout",
       "text": [
        "\n",
        "250 Percentage correct: 0"
       ]
      },
      {
       "output_type": "stream",
       "stream": "stdout",
       "text": [
        "\n",
        "251 Percentage correct: 0"
       ]
      },
      {
       "output_type": "stream",
       "stream": "stdout",
       "text": [
        "\n",
        "No valid links for 252"
       ]
      },
      {
       "output_type": "stream",
       "stream": "stdout",
       "text": [
        "\n",
        "No valid links for 253"
       ]
      },
      {
       "output_type": "stream",
       "stream": "stdout",
       "text": [
        "\n",
        "254 Percentage correct: 1"
       ]
      },
      {
       "output_type": "stream",
       "stream": "stdout",
       "text": [
        "\n",
        "255 Percentage correct: 0"
       ]
      },
      {
       "output_type": "stream",
       "stream": "stdout",
       "text": [
        "\n",
        "No valid links for 256"
       ]
      },
      {
       "output_type": "stream",
       "stream": "stdout",
       "text": [
        "\n",
        "No valid links for 257"
       ]
      },
      {
       "output_type": "stream",
       "stream": "stdout",
       "text": [
        "\n",
        "No valid links for 259"
       ]
      },
      {
       "output_type": "stream",
       "stream": "stdout",
       "text": [
        "\n",
        "No valid links for 261"
       ]
      },
      {
       "output_type": "stream",
       "stream": "stdout",
       "text": [
        "\n",
        "No valid links for 262"
       ]
      },
      {
       "output_type": "stream",
       "stream": "stdout",
       "text": [
        "\n",
        "264 Percentage correct: 0"
       ]
      },
      {
       "output_type": "stream",
       "stream": "stdout",
       "text": [
        "\n",
        "No valid links for 267"
       ]
      },
      {
       "output_type": "stream",
       "stream": "stdout",
       "text": [
        "\n",
        "270 Percentage correct: 1"
       ]
      },
      {
       "output_type": "stream",
       "stream": "stdout",
       "text": [
        "\n",
        "271 Percentage correct: 0"
       ]
      },
      {
       "output_type": "stream",
       "stream": "stdout",
       "text": [
        "\n",
        "No valid links for 272"
       ]
      },
      {
       "output_type": "stream",
       "stream": "stdout",
       "text": [
        "\n",
        "No valid links for 273"
       ]
      },
      {
       "output_type": "stream",
       "stream": "stdout",
       "text": [
        "\n",
        "No valid links for 274"
       ]
      },
      {
       "output_type": "stream",
       "stream": "stdout",
       "text": [
        "\n",
        "No valid links for 275"
       ]
      },
      {
       "output_type": "stream",
       "stream": "stdout",
       "text": [
        "\n",
        "No valid links for 276"
       ]
      },
      {
       "output_type": "stream",
       "stream": "stdout",
       "text": [
        "\n",
        "280 Percentage correct: 0"
       ]
      },
      {
       "output_type": "stream",
       "stream": "stdout",
       "text": [
        "\n",
        "No valid links for 281"
       ]
      },
      {
       "output_type": "stream",
       "stream": "stdout",
       "text": [
        "\n",
        "No valid links for 282"
       ]
      },
      {
       "output_type": "stream",
       "stream": "stdout",
       "text": [
        "\n",
        "285 Percentage correct: 0"
       ]
      },
      {
       "output_type": "stream",
       "stream": "stdout",
       "text": [
        "\n",
        "No valid links for 290"
       ]
      },
      {
       "output_type": "stream",
       "stream": "stdout",
       "text": [
        "\n",
        "No valid links for 291"
       ]
      },
      {
       "output_type": "stream",
       "stream": "stdout",
       "text": [
        "\n",
        "292 Percentage correct: 0"
       ]
      },
      {
       "output_type": "stream",
       "stream": "stdout",
       "text": [
        "\n",
        "No valid links for 294"
       ]
      },
      {
       "output_type": "stream",
       "stream": "stdout",
       "text": [
        "\n",
        "No valid links for 295"
       ]
      },
      {
       "output_type": "stream",
       "stream": "stdout",
       "text": [
        "\n",
        "No valid links for 296"
       ]
      },
      {
       "output_type": "stream",
       "stream": "stdout",
       "text": [
        "\n",
        "No valid links for 297"
       ]
      },
      {
       "output_type": "stream",
       "stream": "stdout",
       "text": [
        "\n",
        "No valid links for 298"
       ]
      },
      {
       "output_type": "stream",
       "stream": "stdout",
       "text": [
        "\n",
        "No valid links for 299"
       ]
      },
      {
       "output_type": "stream",
       "stream": "stdout",
       "text": [
        "\n",
        "No valid links for 300"
       ]
      },
      {
       "output_type": "stream",
       "stream": "stdout",
       "text": [
        "\n",
        "No valid links for 301"
       ]
      },
      {
       "output_type": "stream",
       "stream": "stdout",
       "text": [
        "\n",
        "No valid links for 302"
       ]
      },
      {
       "output_type": "stream",
       "stream": "stdout",
       "text": [
        "\n",
        "No valid links for 303"
       ]
      },
      {
       "output_type": "stream",
       "stream": "stdout",
       "text": [
        "\n",
        "No valid links for 304"
       ]
      },
      {
       "output_type": "stream",
       "stream": "stdout",
       "text": [
        "\n",
        "No valid links for 305"
       ]
      },
      {
       "output_type": "stream",
       "stream": "stdout",
       "text": [
        "\n",
        "No valid links for 306"
       ]
      },
      {
       "output_type": "stream",
       "stream": "stdout",
       "text": [
        "\n",
        "No valid links for 307"
       ]
      },
      {
       "output_type": "stream",
       "stream": "stdout",
       "text": [
        "\n",
        "No valid links for 308"
       ]
      },
      {
       "output_type": "stream",
       "stream": "stdout",
       "text": [
        "\n",
        "No valid links for 309"
       ]
      },
      {
       "output_type": "stream",
       "stream": "stdout",
       "text": [
        "\n",
        "No valid links for 310"
       ]
      },
      {
       "output_type": "stream",
       "stream": "stdout",
       "text": [
        "\n",
        "No valid links for 311"
       ]
      },
      {
       "output_type": "stream",
       "stream": "stdout",
       "text": [
        "\n",
        "312 Percentage correct: 0"
       ]
      },
      {
       "output_type": "stream",
       "stream": "stdout",
       "text": [
        "\n",
        "No valid links for 313"
       ]
      },
      {
       "output_type": "stream",
       "stream": "stdout",
       "text": [
        "\n",
        "No valid links for 314"
       ]
      },
      {
       "output_type": "stream",
       "stream": "stdout",
       "text": [
        "\n",
        "No valid links for 315"
       ]
      },
      {
       "output_type": "stream",
       "stream": "stdout",
       "text": [
        "\n",
        "No valid links for 317"
       ]
      },
      {
       "output_type": "stream",
       "stream": "stdout",
       "text": [
        "\n",
        "319 Percentage correct: 0"
       ]
      },
      {
       "output_type": "stream",
       "stream": "stdout",
       "text": [
        "\n",
        "No valid links for 320"
       ]
      },
      {
       "output_type": "stream",
       "stream": "stdout",
       "text": [
        "\n",
        "Average percentage correct: 0.2026556776556776556776556776\n"
       ]
      }
     ],
     "prompt_number": 28
    },
    {
     "cell_type": "code",
     "collapsed": false,
     "input": [],
     "language": "python",
     "metadata": {},
     "outputs": [],
     "prompt_number": 17
    },
    {
     "cell_type": "code",
     "collapsed": false,
     "input": [],
     "language": "python",
     "metadata": {},
     "outputs": []
    }
   ],
   "metadata": {}
  }
 ]
}