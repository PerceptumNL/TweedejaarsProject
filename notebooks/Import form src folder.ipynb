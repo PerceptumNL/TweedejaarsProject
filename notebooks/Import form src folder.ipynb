{
 "metadata": {
  "name": "",
  "signature": "sha256:bb65856ec172c16bb05f48e8e113211bc3135bee4262ceb87797fa6daedcee67"
 },
 "nbformat": 3,
 "nbformat_minor": 0,
 "worksheets": [
  {
   "cells": [
    {
     "cell_type": "code",
     "collapsed": false,
     "input": [
      "# When you want to import scripts from the 'src' folder. Add the following\n",
      "# lines before your first import from the src folder. This way the python path\n",
      "# is updated and everything should work as expected. For example if you want to\n",
      "# import DataWrapper use: from datawrapper import DataWrapper\n",
      "import os, sys\n",
      "sys.path.append(os.path.join(os.path.abspath('..'), 'src'))  "
     ],
     "language": "python",
     "metadata": {},
     "outputs": [],
     "prompt_number": 11
    }
   ],
   "metadata": {}
  }
 ]
}