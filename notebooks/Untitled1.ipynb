{
 "metadata": {
  "name": "",
  "signature": "sha256:7746306d41c4a0daa5f8db21d949be826bf329034009676a8c96548f4244cc49"
 },
 "nbformat": 3,
 "nbformat_minor": 0,
 "worksheets": [
  {
   "cells": [
    {
     "cell_type": "code",
     "collapsed": false,
     "input": [
      "import os, sys\n",
      "from decimal import Decimal\n",
      "sys.path.append(os.path.join(os.path.abspath('..'), 'src'))\n",
      "from DocumentLinker import DocumentLinker\n",
      "from datawrapper import DataWrapper\n",
      "import json\n",
      "\n",
      "# Determine name of author (for visualization)\n",
      "def __find_author_name(linker, author_id):\n",
      "    if(author_id == linker.document['id']):\n",
      "        author = linker.document['name']\n",
      "    else:\n",
      "        try:\n",
      "            author = linker.data.item(author_id)['name']\n",
      "        except KeyError:\n",
      "            author = 'unknown'\n",
      "    return author\n",
      "\n",
      "# Check if a link should be added or ignored\n",
      "def ignore(new_doc, link, data): \n",
      "    # Ignore if proposed link simply is the author of the doucment \\\n",
      "    if (new_doc.has_key('author') and new_doc['author'] == link):\n",
      "        return True\n",
      "    \n",
      "    # Ignore if link is glossary \n",
      "    if (data.item(link)['type'] == 'Glossary'):\n",
      "        return True\n",
      "    \n",
      "    # Ignore if proposed link is simply a document written by person described by document \\\n",
      "    if (new_doc['type'] == 'Person' and data.item(link).has_key('author') and data.item(link)['author'] == new_doc['id']):\n",
      "        return True\n",
      "    return False\n",
      "    \n",
      "# Same as in DocumentLinker.py, only now not k = 10 but k = known amount of links in doc   \n",
      "def run(vectorizer, distancetype):\n",
      "    data = DataWrapper('../data/expert_maybe_true.pickle')\n",
      "    data.remove_aliased_tags()\n",
      "    filename = \"../data/final_analysis/{0}_{1}.json\".format(vectorizer, distancetype)\n",
      "\n",
      "    c = 0\n",
      "    docs = {}\n",
      "    percentage = 0\n",
      "    \n",
      "    # Return ranking of all documents\n",
      "    k = len(data.data['items']) - 1\n",
      "    \n",
      "    for new_doc, datawrapper in data.test_data():\n",
      "        linker = DocumentLinker(datawrapper, k)\n",
      "        linker.get_links(new_doc, vtype=vectorizer, dtype=distancetype)\n",
      "        \n",
      "        # Remove all invalid ones from new doc\n",
      "        tempLinks = new_doc['links'][:]\n",
      "        for link in new_doc['links']:\n",
      "            if (ignore(new_doc, link, data)):\n",
      "                tempLinks.remove(link)\n",
      "        new_doc['links'] = tempLinks[:]\n",
      "        \n",
      "        l = len(new_doc['links'])\n",
      "        if(l == 0):\n",
      "            print('No valid links for {0}'.format(new_doc['id']))\n",
      "            continue\n",
      "        \n",
      "        # Remove all invalid ones from proposed and take number equal to new_doc\n",
      "        i = 0\n",
      "        tempLinks = linker.links[:]\n",
      "        for link in linker.links:\n",
      "            if(i == l):\n",
      "                continue\n",
      "            if (ignore(new_doc, link[0], data)):\n",
      "                tempLinks.remove(link)\n",
      "            else:\n",
      "                i += 1\n",
      "        linker.links = tempLinks[0:l]\n",
      "        formatted_doc = linker.formatted_links()\n",
      "            \n",
      "        # The following is similar as in DocumentLinker.py \n",
      "        docs[c] = formatted_doc\n",
      "        c += 1\n",
      "        correct = 0\n",
      "        for link in linker.links:\n",
      "            if(link[0] in new_doc['links']):\n",
      "                correct += 1\n",
      "        if(len(new_doc['links']) > 0):\n",
      "            percentage_correct = Decimal(correct)/len(new_doc['links'])\n",
      "        else:\n",
      "            percentage_correct = 0\n",
      "            print('No links')\n",
      "            c -= 1\n",
      "        percentage += percentage_correct\n",
      "        print('{0} Percentage correct: {1}'.format(new_doc['id'], percentage_correct))\n",
      "\n",
      "    print('Average percentage correct: {0}'.format(Decimal(percentage)/c))\n",
      "    file = open(filename, \"w\")\n",
      "    file.write(json.dumps(docs))\n",
      "    file.close()\n",
      "\n",
      "import json\n",
      "from decimal import *\n",
      "import numpy as np\n",
      "\n",
      "# Determines percentage correct per type \n",
      "def percentage_correct_per_type(vectorizer, distance):\n",
      "    json_data= open('../data/final_analysis/{0}_{1}.json'.format(vectorizer, distance)).read()\n",
      "    data = json.loads(json_data)\n",
      "\n",
      "    percentages = {}\n",
      "\n",
      "    for doc in data:\n",
      "        correct = 0\n",
      "        total = 0\n",
      "        for link in data[doc]['links']:\n",
      "            rlink = data[doc]['links'][link]\n",
      "            if rlink.has_key('correct') and rlink['correct'] == True:\n",
      "                correct += 1\n",
      "                total += 1\n",
      "            if rlink.has_key('not_recalled') and rlink['not_recalled'] == True:\n",
      "                total += 1\n",
      "\n",
      "        percentage = Decimal(correct)/total\n",
      "        ntype = data[doc]['type']\n",
      "        if percentages.has_key(ntype):\n",
      "            percentages[ntype].append(percentage)\n",
      "        else:\n",
      "            percentages[ntype] = [percentage]\n",
      "\n",
      "    for ntype in percentages:\n",
      "        mean = np.mean(percentages[ntype])\n",
      "        if len(ntype) < 8:\n",
      "            ntype += '\\t'\n",
      "        print('{0} \\t{1}'.format(ntype, mean))"
     ],
     "language": "python",
     "metadata": {},
     "outputs": [],
     "prompt_number": 1
    },
    {
     "cell_type": "code",
     "collapsed": false,
     "input": [
      "run('textvectorizer_with_probabilities', 'cosine')\n",
      "percentage_correct_per_type('textvectorizer_with_probabilities', 'cosine')\n"
     ],
     "language": "python",
     "metadata": {},
     "outputs": [
      {
       "output_type": "stream",
       "stream": "stdout",
       "text": [
        "1 Percentage correct: 0\n",
        "2 Percentage correct: 0"
       ]
      },
      {
       "output_type": "stream",
       "stream": "stdout",
       "text": [
        "\n",
        "3 Percentage correct: 0.6"
       ]
      },
      {
       "output_type": "stream",
       "stream": "stdout",
       "text": [
        "\n",
        "5 Percentage correct: 0"
       ]
      },
      {
       "output_type": "stream",
       "stream": "stdout",
       "text": [
        "\n",
        "6 Percentage correct: 0.25"
       ]
      },
      {
       "output_type": "stream",
       "stream": "stdout",
       "text": [
        "\n",
        "8 Percentage correct: 0.3333333333333333333333333333"
       ]
      },
      {
       "output_type": "stream",
       "stream": "stdout",
       "text": [
        "\n",
        "9 Percentage correct: 0.6666666666666666666666666667"
       ]
      },
      {
       "output_type": "stream",
       "stream": "stdout",
       "text": [
        "\n",
        "No valid links for 10"
       ]
      },
      {
       "output_type": "stream",
       "stream": "stdout",
       "text": [
        "\n",
        "11 Percentage correct: 0.3333333333333333333333333333"
       ]
      },
      {
       "output_type": "stream",
       "stream": "stdout",
       "text": [
        "\n",
        "12 Percentage correct: 0.5"
       ]
      },
      {
       "output_type": "stream",
       "stream": "stdout",
       "text": [
        "\n",
        "No valid links for 14"
       ]
      },
      {
       "output_type": "stream",
       "stream": "stdout",
       "text": [
        "\n",
        "20 Percentage correct: 1"
       ]
      },
      {
       "output_type": "stream",
       "stream": "stdout",
       "text": [
        "\n",
        "21 Percentage correct: 0.6666666666666666666666666667"
       ]
      },
      {
       "output_type": "stream",
       "stream": "stdout",
       "text": [
        "\n",
        "22 Percentage correct: 0.5"
       ]
      },
      {
       "output_type": "stream",
       "stream": "stdout",
       "text": [
        "\n",
        "23 Percentage correct: 0.5"
       ]
      },
      {
       "output_type": "stream",
       "stream": "stdout",
       "text": [
        "\n",
        "24 Percentage correct: 0.5"
       ]
      },
      {
       "output_type": "stream",
       "stream": "stdout",
       "text": [
        "\n",
        "26 Percentage correct: 0.2857142857142857142857142857"
       ]
      },
      {
       "output_type": "stream",
       "stream": "stdout",
       "text": [
        "\n",
        "No valid links for 27"
       ]
      },
      {
       "output_type": "stream",
       "stream": "stdout",
       "text": [
        "\n",
        "28 Percentage correct: 0"
       ]
      },
      {
       "output_type": "stream",
       "stream": "stdout",
       "text": [
        "\n",
        "29 Percentage correct: 0"
       ]
      },
      {
       "output_type": "stream",
       "stream": "stdout",
       "text": [
        "\n",
        "31 Percentage correct: 0.5"
       ]
      },
      {
       "output_type": "stream",
       "stream": "stdout",
       "text": [
        "\n",
        "32 Percentage correct: 0"
       ]
      },
      {
       "output_type": "stream",
       "stream": "stdout",
       "text": [
        "\n",
        "No valid links for 34"
       ]
      },
      {
       "output_type": "stream",
       "stream": "stdout",
       "text": [
        "\n",
        "No valid links for 36"
       ]
      },
      {
       "output_type": "stream",
       "stream": "stdout",
       "text": [
        "\n",
        "38 Percentage correct: 0"
       ]
      },
      {
       "output_type": "stream",
       "stream": "stdout",
       "text": [
        "\n",
        "Could not find link 39 for 132"
       ]
      },
      {
       "output_type": "stream",
       "stream": "stdout",
       "text": [
        "\n",
        "39 Percentage correct: 0.3333333333333333333333333333"
       ]
      },
      {
       "output_type": "stream",
       "stream": "stdout",
       "text": [
        "\n",
        "40 Percentage correct: 0.5"
       ]
      },
      {
       "output_type": "stream",
       "stream": "stdout",
       "text": [
        "\n",
        "42 Percentage correct: 0"
       ]
      },
      {
       "output_type": "stream",
       "stream": "stdout",
       "text": [
        "\n",
        "43 Percentage correct: 0"
       ]
      },
      {
       "output_type": "stream",
       "stream": "stdout",
       "text": [
        "\n",
        "No valid links for 45"
       ]
      },
      {
       "output_type": "stream",
       "stream": "stdout",
       "text": [
        "\n",
        "60 Percentage correct: 0"
       ]
      },
      {
       "output_type": "stream",
       "stream": "stdout",
       "text": [
        "\n",
        "65 Percentage correct: 0"
       ]
      },
      {
       "output_type": "stream",
       "stream": "stdout",
       "text": [
        "\n",
        "69 Percentage correct: 0.4"
       ]
      },
      {
       "output_type": "stream",
       "stream": "stdout",
       "text": [
        "\n",
        "76 Percentage correct: 1"
       ]
      },
      {
       "output_type": "stream",
       "stream": "stdout",
       "text": [
        "\n",
        "77 Percentage correct: 0.25"
       ]
      },
      {
       "output_type": "stream",
       "stream": "stdout",
       "text": [
        "\n",
        "78 Percentage correct: 0"
       ]
      },
      {
       "output_type": "stream",
       "stream": "stdout",
       "text": [
        "\n",
        "81 Percentage correct: 0"
       ]
      },
      {
       "output_type": "stream",
       "stream": "stdout",
       "text": [
        "\n",
        "82 Percentage correct: 0"
       ]
      },
      {
       "output_type": "stream",
       "stream": "stdout",
       "text": [
        "\n",
        "83 Percentage correct: 0"
       ]
      },
      {
       "output_type": "stream",
       "stream": "stdout",
       "text": [
        "\n",
        "84 Percentage correct: 0"
       ]
      },
      {
       "output_type": "stream",
       "stream": "stdout",
       "text": [
        "\n",
        "89 Percentage correct: 0"
       ]
      },
      {
       "output_type": "stream",
       "stream": "stdout",
       "text": [
        "\n",
        "90 Percentage correct: 0.4"
       ]
      },
      {
       "output_type": "stream",
       "stream": "stdout",
       "text": [
        "\n",
        "91 Percentage correct: 0"
       ]
      },
      {
       "output_type": "stream",
       "stream": "stdout",
       "text": [
        "\n",
        "92 Percentage correct: 0"
       ]
      },
      {
       "output_type": "stream",
       "stream": "stdout",
       "text": [
        "\n",
        "96 Percentage correct: 0"
       ]
      },
      {
       "output_type": "stream",
       "stream": "stdout",
       "text": [
        "\n",
        "98 Percentage correct: 0.4"
       ]
      },
      {
       "output_type": "stream",
       "stream": "stdout",
       "text": [
        "\n",
        "99 Percentage correct: 0"
       ]
      },
      {
       "output_type": "stream",
       "stream": "stdout",
       "text": [
        "\n",
        "101 Percentage correct: 0"
       ]
      },
      {
       "output_type": "stream",
       "stream": "stdout",
       "text": [
        "\n",
        "Could not find link 102 for 132"
       ]
      },
      {
       "output_type": "stream",
       "stream": "stdout",
       "text": [
        "\n",
        "102 Percentage correct: 1"
       ]
      },
      {
       "output_type": "stream",
       "stream": "stdout",
       "text": [
        "\n",
        "105 Percentage correct: 0"
       ]
      },
      {
       "output_type": "stream",
       "stream": "stdout",
       "text": [
        "\n",
        "111 Percentage correct: 0.5"
       ]
      },
      {
       "output_type": "stream",
       "stream": "stdout",
       "text": [
        "\n",
        "Couldn't find link with id 112"
       ]
      },
      {
       "output_type": "stream",
       "stream": "stdout",
       "text": [
        "\n",
        "112 Percentage correct: 0.375\n",
        "114 Percentage correct: 0"
       ]
      },
      {
       "output_type": "stream",
       "stream": "stdout",
       "text": [
        "\n",
        "Could not find link 115 for 248"
       ]
      },
      {
       "output_type": "stream",
       "stream": "stdout",
       "text": [
        "\n",
        "115 Percentage correct: 0.3333333333333333333333333333"
       ]
      },
      {
       "output_type": "stream",
       "stream": "stdout",
       "text": [
        "\n",
        "118 Percentage correct: 0"
       ]
      },
      {
       "output_type": "stream",
       "stream": "stdout",
       "text": [
        "\n",
        "119 Percentage correct: 0"
       ]
      },
      {
       "output_type": "stream",
       "stream": "stdout",
       "text": [
        "\n",
        "121 Percentage correct: 0"
       ]
      },
      {
       "output_type": "stream",
       "stream": "stdout",
       "text": [
        "\n",
        "127 Percentage correct: 0"
       ]
      },
      {
       "output_type": "stream",
       "stream": "stdout",
       "text": [
        "\n",
        "129 Percentage correct: 0"
       ]
      },
      {
       "output_type": "stream",
       "stream": "stdout",
       "text": [
        "\n",
        "131 Percentage correct: 0"
       ]
      },
      {
       "output_type": "stream",
       "stream": "stdout",
       "text": [
        "\n",
        "Couldn't find link with id 132"
       ]
      },
      {
       "output_type": "stream",
       "stream": "stdout",
       "text": [
        "\n",
        "132 Percentage correct: 0.4285714285714285714285714286\n",
        "134 Percentage correct: 0"
       ]
      },
      {
       "output_type": "stream",
       "stream": "stdout",
       "text": [
        "\n",
        "137 Percentage correct: 0.6666666666666666666666666667"
       ]
      },
      {
       "output_type": "stream",
       "stream": "stdout",
       "text": [
        "\n",
        "139 Percentage correct: 0"
       ]
      },
      {
       "output_type": "stream",
       "stream": "stdout",
       "text": [
        "\n",
        "140 Percentage correct: 0"
       ]
      },
      {
       "output_type": "stream",
       "stream": "stdout",
       "text": [
        "\n",
        "141 Percentage correct: 0"
       ]
      },
      {
       "output_type": "stream",
       "stream": "stdout",
       "text": [
        "\n",
        "142 Percentage correct: 0.5"
       ]
      },
      {
       "output_type": "stream",
       "stream": "stdout",
       "text": [
        "\n",
        "143 Percentage correct: 0"
       ]
      },
      {
       "output_type": "stream",
       "stream": "stdout",
       "text": [
        "\n",
        "144 Percentage correct: 0"
       ]
      },
      {
       "output_type": "stream",
       "stream": "stdout",
       "text": [
        "\n",
        "145 Percentage correct: 0"
       ]
      },
      {
       "output_type": "stream",
       "stream": "stdout",
       "text": [
        "\n",
        "146 Percentage correct: 0"
       ]
      },
      {
       "output_type": "stream",
       "stream": "stdout",
       "text": [
        "\n",
        "147 Percentage correct: 0"
       ]
      },
      {
       "output_type": "stream",
       "stream": "stdout",
       "text": [
        "\n",
        "148 Percentage correct: 0"
       ]
      },
      {
       "output_type": "stream",
       "stream": "stdout",
       "text": [
        "\n",
        "149 Percentage correct: 0"
       ]
      },
      {
       "output_type": "stream",
       "stream": "stdout",
       "text": [
        "\n",
        "150 Percentage correct: 0.5"
       ]
      },
      {
       "output_type": "stream",
       "stream": "stdout",
       "text": [
        "\n",
        "151 Percentage correct: 0"
       ]
      },
      {
       "output_type": "stream",
       "stream": "stdout",
       "text": [
        "\n",
        "152 Percentage correct: 0.25"
       ]
      },
      {
       "output_type": "stream",
       "stream": "stdout",
       "text": [
        "\n",
        "153 Percentage correct: 0"
       ]
      },
      {
       "output_type": "stream",
       "stream": "stdout",
       "text": [
        "\n",
        "154 Percentage correct: 0"
       ]
      },
      {
       "output_type": "stream",
       "stream": "stdout",
       "text": [
        "\n",
        "155 Percentage correct: 0"
       ]
      },
      {
       "output_type": "stream",
       "stream": "stdout",
       "text": [
        "\n",
        "157 Percentage correct: 0.6"
       ]
      },
      {
       "output_type": "stream",
       "stream": "stdout",
       "text": [
        "\n",
        "158 Percentage correct: 0.2857142857142857142857142857"
       ]
      },
      {
       "output_type": "stream",
       "stream": "stdout",
       "text": [
        "\n",
        "159 Percentage correct: 0"
       ]
      },
      {
       "output_type": "stream",
       "stream": "stdout",
       "text": [
        "\n",
        "161 Percentage correct: 0"
       ]
      },
      {
       "output_type": "stream",
       "stream": "stdout",
       "text": [
        "\n",
        "No valid links for 168"
       ]
      },
      {
       "output_type": "stream",
       "stream": "stdout",
       "text": [
        "\n",
        "No valid links for 169"
       ]
      },
      {
       "output_type": "stream",
       "stream": "stdout",
       "text": [
        "\n",
        "No valid links for 170"
       ]
      },
      {
       "output_type": "stream",
       "stream": "stdout",
       "text": [
        "\n",
        "171 Percentage correct: 0"
       ]
      },
      {
       "output_type": "stream",
       "stream": "stdout",
       "text": [
        "\n",
        "173 Percentage correct: 0.5"
       ]
      },
      {
       "output_type": "stream",
       "stream": "stdout",
       "text": [
        "\n",
        "174 Percentage correct: 1"
       ]
      },
      {
       "output_type": "stream",
       "stream": "stdout",
       "text": [
        "\n",
        "No valid links for 176"
       ]
      },
      {
       "output_type": "stream",
       "stream": "stdout",
       "text": [
        "\n",
        "178 Percentage correct: 0"
       ]
      },
      {
       "output_type": "stream",
       "stream": "stdout",
       "text": [
        "\n",
        "No valid links for 181"
       ]
      },
      {
       "output_type": "stream",
       "stream": "stdout",
       "text": [
        "\n",
        "184 Percentage correct: 0"
       ]
      },
      {
       "output_type": "stream",
       "stream": "stdout",
       "text": [
        "\n",
        "186 Percentage correct: 0"
       ]
      },
      {
       "output_type": "stream",
       "stream": "stdout",
       "text": [
        "\n",
        "189 Percentage correct: 0"
       ]
      },
      {
       "output_type": "stream",
       "stream": "stdout",
       "text": [
        "\n",
        "191 Percentage correct: 0.6666666666666666666666666667"
       ]
      },
      {
       "output_type": "stream",
       "stream": "stdout",
       "text": [
        "\n",
        "192 Percentage correct: 0.5"
       ]
      },
      {
       "output_type": "stream",
       "stream": "stdout",
       "text": [
        "\n",
        "193 Percentage correct: 0.5"
       ]
      },
      {
       "output_type": "stream",
       "stream": "stdout",
       "text": [
        "\n",
        "194 Percentage correct: 0"
       ]
      },
      {
       "output_type": "stream",
       "stream": "stdout",
       "text": [
        "\n",
        "196 Percentage correct: 0"
       ]
      },
      {
       "output_type": "stream",
       "stream": "stdout",
       "text": [
        "\n",
        "No valid links for 197"
       ]
      },
      {
       "output_type": "stream",
       "stream": "stdout",
       "text": [
        "\n",
        "No valid links for 203"
       ]
      },
      {
       "output_type": "stream",
       "stream": "stdout",
       "text": [
        "\n",
        "207 Percentage correct: 0"
       ]
      },
      {
       "output_type": "stream",
       "stream": "stdout",
       "text": [
        "\n",
        "No valid links for 208"
       ]
      },
      {
       "output_type": "stream",
       "stream": "stdout",
       "text": [
        "\n",
        "210 Percentage correct: 0"
       ]
      },
      {
       "output_type": "stream",
       "stream": "stdout",
       "text": [
        "\n",
        "211 Percentage correct: 0.5454545454545454545454545455"
       ]
      },
      {
       "output_type": "stream",
       "stream": "stdout",
       "text": [
        "\n",
        "No valid links for 214"
       ]
      },
      {
       "output_type": "stream",
       "stream": "stdout",
       "text": [
        "\n",
        "No valid links for 215"
       ]
      },
      {
       "output_type": "stream",
       "stream": "stdout",
       "text": [
        "\n",
        "No valid links for 216"
       ]
      },
      {
       "output_type": "stream",
       "stream": "stdout",
       "text": [
        "\n",
        "No valid links for 223"
       ]
      },
      {
       "output_type": "stream",
       "stream": "stdout",
       "text": [
        "\n",
        "224 Percentage correct: 0"
       ]
      },
      {
       "output_type": "stream",
       "stream": "stdout",
       "text": [
        "\n",
        "No valid links for 225"
       ]
      },
      {
       "output_type": "stream",
       "stream": "stdout",
       "text": [
        "\n",
        "No valid links for 226"
       ]
      },
      {
       "output_type": "stream",
       "stream": "stdout",
       "text": [
        "\n",
        "No valid links for 227"
       ]
      },
      {
       "output_type": "stream",
       "stream": "stdout",
       "text": [
        "\n",
        "No valid links for 228"
       ]
      },
      {
       "output_type": "stream",
       "stream": "stdout",
       "text": [
        "\n",
        "230 Percentage correct: 0"
       ]
      },
      {
       "output_type": "stream",
       "stream": "stdout",
       "text": [
        "\n",
        "231 Percentage correct: 0"
       ]
      },
      {
       "output_type": "stream",
       "stream": "stdout",
       "text": [
        "\n",
        "233 Percentage correct: 0"
       ]
      },
      {
       "output_type": "stream",
       "stream": "stdout",
       "text": [
        "\n",
        "No valid links for 234"
       ]
      },
      {
       "output_type": "stream",
       "stream": "stdout",
       "text": [
        "\n",
        "235 Percentage correct: 0"
       ]
      },
      {
       "output_type": "stream",
       "stream": "stdout",
       "text": [
        "\n",
        "No valid links for 236"
       ]
      },
      {
       "output_type": "stream",
       "stream": "stdout",
       "text": [
        "\n",
        "No valid links for 237"
       ]
      },
      {
       "output_type": "stream",
       "stream": "stdout",
       "text": [
        "\n",
        "No valid links for 238"
       ]
      },
      {
       "output_type": "stream",
       "stream": "stdout",
       "text": [
        "\n",
        "No valid links for 239"
       ]
      },
      {
       "output_type": "stream",
       "stream": "stdout",
       "text": [
        "\n",
        "No valid links for 240"
       ]
      },
      {
       "output_type": "stream",
       "stream": "stdout",
       "text": [
        "\n",
        "No valid links for 241"
       ]
      },
      {
       "output_type": "stream",
       "stream": "stdout",
       "text": [
        "\n",
        "No valid links for 242"
       ]
      },
      {
       "output_type": "stream",
       "stream": "stdout",
       "text": [
        "\n",
        "No valid links for 244"
       ]
      },
      {
       "output_type": "stream",
       "stream": "stdout",
       "text": [
        "\n",
        "No valid links for 245"
       ]
      },
      {
       "output_type": "stream",
       "stream": "stdout",
       "text": [
        "\n",
        "246 Percentage correct: 0"
       ]
      },
      {
       "output_type": "stream",
       "stream": "stdout",
       "text": [
        "\n",
        "247 Percentage correct: 0"
       ]
      },
      {
       "output_type": "stream",
       "stream": "stdout",
       "text": [
        "\n",
        "248 Percentage correct: 0.5714285714285714285714285714"
       ]
      },
      {
       "output_type": "stream",
       "stream": "stdout",
       "text": [
        "\n",
        "250 Percentage correct: 0"
       ]
      },
      {
       "output_type": "stream",
       "stream": "stdout",
       "text": [
        "\n",
        "251 Percentage correct: 0"
       ]
      },
      {
       "output_type": "stream",
       "stream": "stdout",
       "text": [
        "\n",
        "No valid links for 252"
       ]
      },
      {
       "output_type": "stream",
       "stream": "stdout",
       "text": [
        "\n",
        "No valid links for 253"
       ]
      },
      {
       "output_type": "stream",
       "stream": "stdout",
       "text": [
        "\n",
        "254 Percentage correct: 0"
       ]
      },
      {
       "output_type": "stream",
       "stream": "stdout",
       "text": [
        "\n",
        "255 Percentage correct: 0"
       ]
      },
      {
       "output_type": "stream",
       "stream": "stdout",
       "text": [
        "\n",
        "No valid links for 256"
       ]
      },
      {
       "output_type": "stream",
       "stream": "stdout",
       "text": [
        "\n",
        "No valid links for 257"
       ]
      },
      {
       "output_type": "stream",
       "stream": "stdout",
       "text": [
        "\n",
        "No valid links for 259"
       ]
      },
      {
       "output_type": "stream",
       "stream": "stdout",
       "text": [
        "\n",
        "No valid links for 261"
       ]
      },
      {
       "output_type": "stream",
       "stream": "stdout",
       "text": [
        "\n",
        "No valid links for 262"
       ]
      },
      {
       "output_type": "stream",
       "stream": "stdout",
       "text": [
        "\n",
        "264 Percentage correct: 1"
       ]
      },
      {
       "output_type": "stream",
       "stream": "stdout",
       "text": [
        "\n",
        "No valid links for 267"
       ]
      },
      {
       "output_type": "stream",
       "stream": "stdout",
       "text": [
        "\n",
        "No valid links for 270"
       ]
      },
      {
       "output_type": "stream",
       "stream": "stdout",
       "text": [
        "\n",
        "No valid links for 271"
       ]
      },
      {
       "output_type": "stream",
       "stream": "stdout",
       "text": [
        "\n",
        "No valid links for 272"
       ]
      },
      {
       "output_type": "stream",
       "stream": "stdout",
       "text": [
        "\n",
        "No valid links for 273"
       ]
      },
      {
       "output_type": "stream",
       "stream": "stdout",
       "text": [
        "\n",
        "No valid links for 274"
       ]
      },
      {
       "output_type": "stream",
       "stream": "stdout",
       "text": [
        "\n",
        "No valid links for 275"
       ]
      },
      {
       "output_type": "stream",
       "stream": "stdout",
       "text": [
        "\n",
        "No valid links for 276"
       ]
      },
      {
       "output_type": "stream",
       "stream": "stdout",
       "text": [
        "\n",
        "No valid links for 280"
       ]
      },
      {
       "output_type": "stream",
       "stream": "stdout",
       "text": [
        "\n",
        "No valid links for 281"
       ]
      },
      {
       "output_type": "stream",
       "stream": "stdout",
       "text": [
        "\n",
        "No valid links for 282"
       ]
      },
      {
       "output_type": "stream",
       "stream": "stdout",
       "text": [
        "\n",
        "No valid links for 285"
       ]
      },
      {
       "output_type": "stream",
       "stream": "stdout",
       "text": [
        "\n",
        "290 Percentage correct: 0"
       ]
      },
      {
       "output_type": "stream",
       "stream": "stdout",
       "text": [
        "\n",
        "No valid links for 291"
       ]
      },
      {
       "output_type": "stream",
       "stream": "stdout",
       "text": [
        "\n",
        "No valid links for 292"
       ]
      },
      {
       "output_type": "stream",
       "stream": "stdout",
       "text": [
        "\n",
        "No valid links for 294"
       ]
      },
      {
       "output_type": "stream",
       "stream": "stdout",
       "text": [
        "\n",
        "No valid links for 295"
       ]
      },
      {
       "output_type": "stream",
       "stream": "stdout",
       "text": [
        "\n",
        "No valid links for 296"
       ]
      },
      {
       "output_type": "stream",
       "stream": "stdout",
       "text": [
        "\n",
        "No valid links for 297"
       ]
      },
      {
       "output_type": "stream",
       "stream": "stdout",
       "text": [
        "\n",
        "No valid links for 298"
       ]
      },
      {
       "output_type": "stream",
       "stream": "stdout",
       "text": [
        "\n",
        "No valid links for 299"
       ]
      },
      {
       "output_type": "stream",
       "stream": "stdout",
       "text": [
        "\n",
        "No valid links for 300"
       ]
      },
      {
       "output_type": "stream",
       "stream": "stdout",
       "text": [
        "\n",
        "No valid links for 301"
       ]
      },
      {
       "output_type": "stream",
       "stream": "stdout",
       "text": [
        "\n",
        "No valid links for 302"
       ]
      },
      {
       "output_type": "stream",
       "stream": "stdout",
       "text": [
        "\n",
        "No valid links for 303"
       ]
      },
      {
       "output_type": "stream",
       "stream": "stdout",
       "text": [
        "\n",
        "No valid links for 304"
       ]
      },
      {
       "output_type": "stream",
       "stream": "stdout",
       "text": [
        "\n",
        "No valid links for 305"
       ]
      },
      {
       "output_type": "stream",
       "stream": "stdout",
       "text": [
        "\n",
        "No valid links for 306"
       ]
      },
      {
       "output_type": "stream",
       "stream": "stdout",
       "text": [
        "\n",
        "No valid links for 307"
       ]
      },
      {
       "output_type": "stream",
       "stream": "stdout",
       "text": [
        "\n",
        "No valid links for 308"
       ]
      },
      {
       "output_type": "stream",
       "stream": "stdout",
       "text": [
        "\n",
        "No valid links for 309"
       ]
      },
      {
       "output_type": "stream",
       "stream": "stdout",
       "text": [
        "\n",
        "No valid links for 310"
       ]
      },
      {
       "output_type": "stream",
       "stream": "stdout",
       "text": [
        "\n",
        "No valid links for 311"
       ]
      },
      {
       "output_type": "stream",
       "stream": "stdout",
       "text": [
        "\n",
        "312 Percentage correct: 1"
       ]
      },
      {
       "output_type": "stream",
       "stream": "stdout",
       "text": [
        "\n",
        "No valid links for 313"
       ]
      },
      {
       "output_type": "stream",
       "stream": "stdout",
       "text": [
        "\n",
        "No valid links for 314"
       ]
      },
      {
       "output_type": "stream",
       "stream": "stdout",
       "text": [
        "\n",
        "No valid links for 315"
       ]
      },
      {
       "output_type": "stream",
       "stream": "stdout",
       "text": [
        "\n",
        "No valid links for 317"
       ]
      },
      {
       "output_type": "stream",
       "stream": "stdout",
       "text": [
        "\n",
        "319 Percentage correct: 0.6666666666666666666666666667"
       ]
      },
      {
       "output_type": "stream",
       "stream": "stdout",
       "text": [
        "\n",
        "No valid links for 320"
       ]
      },
      {
       "output_type": "stream",
       "stream": "stdout",
       "text": [
        "\n",
        "Average percentage correct: 0.2046655943444934270622344018\n",
        "Information \t0.2175833969951617010440539852"
       ]
      },
      {
       "output_type": "stream",
       "stream": "stdout",
       "text": [
        "\n",
        "Question \t0.4078947368421052631578947368\n",
        "Good Practice \t0.3071428571428571428571428572\n",
        "Project\t \t0.3222222222222222222222222222\n",
        "Person\t \t0.05811965811965811965811965813\n",
        "Event\t \t0.3095238095238095238095238095\n"
       ]
      }
     ],
     "prompt_number": 2
    },
    {
     "cell_type": "code",
     "collapsed": false,
     "input": [
      "data = DataWrapper('../data/expert_maybe_true.pickle')\n",
      "data.item(38L)"
     ],
     "language": "python",
     "metadata": {},
     "outputs": [
      {
       "metadata": {},
       "output_type": "pyout",
       "prompt_number": 3,
       "text": [
        "{'author': 2L,\n",
        " 'links': [2L, 178L, 69L],\n",
        " 'tags': [u'MathematicsForOthers',\n",
        "  u'ToetsenEnToetsgestuurdLeren',\n",
        "  u'Assessment',\n",
        "  u'FormatieveToetsen',\n",
        "  u'RemedialTeaching',\n",
        "  u'RemedierendWiskundeOnderwijs',\n",
        "  u'ToetsGestuurdLeren',\n",
        "  u'MathematicsLearningEnvironment',\n",
        "  u'MathematicsTestTool',\n",
        "  u'SOWISO',\n",
        "  u'WiskundeToetstools'],\n",
        " 'text': u'<h3>Motivation for this project</h3>\\r\\n\\r\\n<h4>BRAVO = Biologie Research Absouluut door Vernieuwing en Oefening <br>\\r\\n\\r\\n</h4>\\r\\n\\r\\nThe students in the Life Sciences programmes need knowledge and skills in mathematics and statistics for deep understanding of the biological content and to do research. On the other hand mathematics is for many students a difficult subject and the students have different knowledge gaps. This mean that support needs to be organized for these students. The growing numbers of students in Life Sciences it is difficult and very expensive to organize efficient support by the teaching staff. An online just-in-time practicing and testing system which provides instant feedback is needed to support non-mathematics students to hold their knowledge at level. <br>\\r\\n\\r\\n<h3>Results</h3>\\r\\n\\r\\n<p>In this project interactive test based digital teaching, learning and practicing material is developed for the students to learn mathematics in a biomedical context and to prepare them for research based learning.&nbsp; <br>\\r\\n\\r\\n</p>\\r\\n\\r\\n<p>The following learning support using IC technology is realized:<br>\\r\\n\\r\\n</p>\\r\\n\\r\\n\\r\\n<ul>\\r\\n\\r\\n\\t<li>\\r\\nrandomized, digital diagnostic test on knowledge and skills to fit the necessary brushing up on knowledge programme to the needs of each particular student</li>\\r\\n\\r\\n\\t<li>a short online brushing up on knowledge module composed of randomized digital assignments providing instant personal feedback to students in order to efficiently build, refresh knowledge and improve mathematics skills by practicing.&nbsp;&nbsp;</li>\\r\\n\\r\\n\\t<li>an online introduction module on differential equations in the context of health and disease models</li>\\r\\n\\r\\n\\t<li>screencasts to explain the necessary tools (Excel, Geogebra applets en CellDesigner);</li>\\r\\n\\r\\n\\t<li>pencasts for individual students with explanations and work out of the examples <br>\\r\\n\\r\\n</li></ul>\\r\\n\\r\\n<p>\\r\\nThe course design which was realized in this project makes it possible for the students to get acquainted with the research based learning and get support in it. This way the students could improve mathematics knowledge and skills, programming in scientific calculation, and modelling skills in the context of human physiology.<br>\\r\\n\\r\\n</p>\\r\\n\\r\\n<p><i>Target group:</i> third year students Biomedical sciences <br>\\r\\n\\r\\n</p>\\r\\n\\r\\n<p><i>Project leader:</i> Andr&#x00e9; Heck<br>\\r\\n\\r\\n</p>\\r\\n\\r\\n<p><i>Start project:</i> September 2011 <br>\\r\\n\\r\\n</p>\\r\\n\\r\\n<p><i>End project:</i> October 2012<br>\\r\\n\\r\\n</p>\\r\\n\\r\\n<p><i>Funding: </i>UvA ICTO fonts<i><br>\\r\\n\\r\\n</i></p>\\r\\n\\r\\n<p><i>Budget:</i> 20.000 euro</p>\\r\\n\\r\\n<p><i>Link to the material (in Dutch): </i><a href=\"http://staff.science.uva.nl/~heck/MGZ13/\" target=\"_blank\">http://staff.science.uva.nl/~heck/MGZ13/</a></p>\\r\\n\\r\\n<p><a href=\"http://staff.science.uva.nl/~heck/MGZ13/\" target=\"_blank\">Download project report: </a><a href=\"/media/uploads/BRAVO_Eindrapportage_format_ICTOfondsprojecten_(ronde_2011).pdf\">BRAVO_Eindrapportage_format_ICTOfondsprojecten_(ronde_2011).pdf</a><i> </i>\\r\\n</p>\\r\\n',\n",
        " 'title': u'BRAVO',\n",
        " 'type': 'Project'}"
       ]
      }
     ],
     "prompt_number": 3
    },
    {
     "cell_type": "code",
     "collapsed": false,
     "input": [],
     "language": "python",
     "metadata": {},
     "outputs": []
    }
   ],
   "metadata": {}
  }
 ]
}