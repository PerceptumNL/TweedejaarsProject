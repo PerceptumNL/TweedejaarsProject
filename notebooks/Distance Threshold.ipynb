{
 "metadata": {
  "name": "",
  "signature": "sha256:bd6be6689da87044c4ac58bdcde35a9c797a74debce5848954210a1091d61731"
 },
 "nbformat": 3,
 "nbformat_minor": 0,
 "worksheets": [
  {
   "cells": [
    {
     "cell_type": "code",
     "collapsed": true,
     "input": [
      "# add this to top of document such that import from src folder work.\n",
      "import os, sys\n",
      "sys.path.append(os.path.join(os.path.abspath('..'), 'src')) \n",
      "\n",
      "# the following line configures ipython to show matplotlib inline\n",
      "%matplotlib inline\n",
      "\n",
      "# Do matplotlib import such that these are available throughout notebook\n",
      "import matplotlib.pyplot as plt"
     ],
     "language": "python",
     "metadata": {},
     "outputs": [],
     "prompt_number": 1
    },
    {
     "cell_type": "heading",
     "level": 1,
     "metadata": {},
     "source": [
      "Distance Threshold"
     ]
    },
    {
     "cell_type": "markdown",
     "metadata": {},
     "source": [
      "The nearest neighbor algorithm will return a list of ordered documents and their distance to the new document in the chosen space. Currently we accept the first 10 (or any other arbitrary number) as the threshold for which document to include as proposed linked document and which not. However, our intuition says that this is suboptimal as some document should only have two proposed documents and other should have 12. In this notebook we will analyse different options to use a more variable (e.g. based on the results) threshold."
     ]
    },
    {
     "cell_type": "code",
     "collapsed": true,
     "input": [
      "import datawrapper\n",
      "import DocumentLinker\n",
      "import numpy as np\n",
      "from vectorizers import weighted_tagvectorizer\n",
      "\n",
      "# get a datawrapper and create a 'test document' and 'test dataset'\n",
      "data = datawrapper.DataWrapper('../data/export_starfish_tjp.pickle')\n",
      "links = []\n",
      "for test_doc, test_data in data.test_data():\n",
      "    linker = DocumentLinker.DocumentLinker(test_data, k=1000)\n",
      "    links += [linker.get_links(test_doc, vtype='weighted_tagvectorizer', dtype='cosine')]"
     ],
     "language": "python",
     "metadata": {},
     "outputs": [
      {
       "ename": "NameError",
       "evalue": "name 'vectorizer' is not defined",
       "output_type": "pyerr",
       "traceback": [
        "\u001b[1;31m---------------------------------------------------------------------------\u001b[0m\n\u001b[1;31mNameError\u001b[0m                                 Traceback (most recent call last)",
        "\u001b[1;32m<ipython-input-2-bbbb0f004790>\u001b[0m in \u001b[0;36m<module>\u001b[1;34m()\u001b[0m\n\u001b[0;32m      1\u001b[0m \u001b[1;32mimport\u001b[0m \u001b[0mdatawrapper\u001b[0m\u001b[1;33m\u001b[0m\u001b[0m\n\u001b[1;32m----> 2\u001b[1;33m \u001b[1;32mimport\u001b[0m \u001b[0mDocumentLinker\u001b[0m\u001b[1;33m\u001b[0m\u001b[0m\n\u001b[0m\u001b[0;32m      3\u001b[0m \u001b[1;32mimport\u001b[0m \u001b[0mnumpy\u001b[0m \u001b[1;32mas\u001b[0m \u001b[0mnp\u001b[0m\u001b[1;33m\u001b[0m\u001b[0m\n\u001b[0;32m      4\u001b[0m \u001b[1;32mfrom\u001b[0m \u001b[0mvectorizers\u001b[0m \u001b[1;32mimport\u001b[0m \u001b[0mweighted_tagvectorizer\u001b[0m\u001b[1;33m\u001b[0m\u001b[0m\n\u001b[0;32m      5\u001b[0m \u001b[1;33m\u001b[0m\u001b[0m\n",
        "\u001b[1;32m/home/jornpeters/Dropbox/Personal/School/TweedejaarsProject/TweedejaarsProject/src/DocumentLinker.py\u001b[0m in \u001b[0;36m<module>\u001b[1;34m()\u001b[0m\n\u001b[0;32m    150\u001b[0m         \u001b[0mexit\u001b[0m\u001b[1;33m(\u001b[0m\u001b[1;36m0\u001b[0m\u001b[1;33m)\u001b[0m\u001b[1;33m\u001b[0m\u001b[0m\n\u001b[0;32m    151\u001b[0m \u001b[1;33m\u001b[0m\u001b[0m\n\u001b[1;32m--> 152\u001b[1;33m \u001b[0mrun\u001b[0m\u001b[1;33m(\u001b[0m\u001b[0mvectorizer\u001b[0m\u001b[1;33m,\u001b[0m \u001b[0mmetric\u001b[0m\u001b[1;33m)\u001b[0m\u001b[1;33m\u001b[0m\u001b[0m\n\u001b[0m",
        "\u001b[1;31mNameError\u001b[0m: name 'vectorizer' is not defined"
       ]
      }
     ],
     "prompt_number": 2
    },
    {
     "cell_type": "code",
     "collapsed": true,
     "input": [
      "import random\n",
      "\n",
      "#for d in links: plt.plot(map(lambda x: 1-np.abs(x[1]), d), 'b-')\n",
      "\n",
      "#for link in links:\n",
      "#    plt.plot(map(lambda x: 1-np.abs(x[1]), link))\n",
      "#    plt.axis([0,180, 0, 1.1])\n",
      "#plt.show()\n",
      "\n",
      "plt.plot(map(lambda x: 1-np.abs(x[1]), links[10]))\n",
      "plt.axis([0,180, 0, 1.1])\n"
     ],
     "language": "python",
     "metadata": {},
     "outputs": []
    }
   ],
   "metadata": {}
  }
 ]
}